{
 "cells": [
  {
   "cell_type": "code",
   "execution_count": 1,
   "id": "7dc499bb",
   "metadata": {
    "_cell_guid": "b1076dfc-b9ad-4769-8c92-a6c4dae69d19",
    "_uuid": "8f2839f25d086af736a60e9eeb907d3b93b6e0e5",
    "execution": {
     "iopub.execute_input": "2024-03-01T16:35:21.637113Z",
     "iopub.status.busy": "2024-03-01T16:35:21.636307Z",
     "iopub.status.idle": "2024-03-01T16:35:22.663433Z",
     "shell.execute_reply": "2024-03-01T16:35:22.661267Z"
    },
    "papermill": {
     "duration": 1.046952,
     "end_time": "2024-03-01T16:35:22.666776",
     "exception": false,
     "start_time": "2024-03-01T16:35:21.619824",
     "status": "completed"
    },
    "tags": []
   },
   "outputs": [
    {
     "name": "stdout",
     "output_type": "stream",
     "text": [
      "/kaggle/input/california-housing/housing.csv\n"
     ]
    }
   ],
   "source": [
    "# This Python 3 environment comes with many helpful analytics libraries installed\n",
    "# It is defined by the kaggle/python Docker image: https://github.com/kaggle/docker-python\n",
    "# For example, here's several helpful packages to load\n",
    "\n",
    "import numpy as np # linear algebra\n",
    "import pandas as pd # data processing, CSV file I/O (e.g. pd.read_csv)\n",
    "\n",
    "# Input data files are available in the read-only \"../input/\" directory\n",
    "# For example, running this (by clicking run or pressing Shift+Enter) will list all files under the input directory\n",
    "\n",
    "import os\n",
    "for dirname, _, filenames in os.walk('/kaggle/input'):\n",
    "    for filename in filenames:\n",
    "        print(os.path.join(dirname, filename))\n",
    "\n",
    "# You can write up to 20GB to the current directory (/kaggle/working/) that gets preserved as output when you create a version using \"Save & Run All\" \n",
    "# You can also write temporary files to /kaggle/temp/, but they won't be saved outside of the current session"
   ]
  },
  {
   "cell_type": "markdown",
   "id": "60c4e769",
   "metadata": {
    "papermill": {
     "duration": 0.012488,
     "end_time": "2024-03-01T16:35:22.692683",
     "exception": false,
     "start_time": "2024-03-01T16:35:22.680195",
     "status": "completed"
    },
    "tags": []
   },
   "source": [
    "**IMPORTING NECESSARY LIBRARIES***"
   ]
  },
  {
   "cell_type": "code",
   "execution_count": 2,
   "id": "b3aa7de4",
   "metadata": {
    "execution": {
     "iopub.execute_input": "2024-03-01T16:35:22.722030Z",
     "iopub.status.busy": "2024-03-01T16:35:22.721294Z",
     "iopub.status.idle": "2024-03-01T16:35:24.236907Z",
     "shell.execute_reply": "2024-03-01T16:35:24.235619Z"
    },
    "papermill": {
     "duration": 1.53332,
     "end_time": "2024-03-01T16:35:24.240153",
     "exception": false,
     "start_time": "2024-03-01T16:35:22.706833",
     "status": "completed"
    },
    "tags": []
   },
   "outputs": [],
   "source": [
    "import pandas as pd\n",
    "import numpy as np\n",
    "import matplotlib.pyplot as plt\n",
    "import seaborn as sns"
   ]
  },
  {
   "cell_type": "markdown",
   "id": "ae4b124c",
   "metadata": {
    "papermill": {
     "duration": 0.013801,
     "end_time": "2024-03-01T16:35:24.269859",
     "exception": false,
     "start_time": "2024-03-01T16:35:24.256058",
     "status": "completed"
    },
    "tags": []
   },
   "source": [
    "**READING OUR DATASET**"
   ]
  },
  {
   "cell_type": "code",
   "execution_count": 3,
   "id": "7d7fe107",
   "metadata": {
    "execution": {
     "iopub.execute_input": "2024-03-01T16:35:24.297671Z",
     "iopub.status.busy": "2024-03-01T16:35:24.297245Z",
     "iopub.status.idle": "2024-03-01T16:35:24.359143Z",
     "shell.execute_reply": "2024-03-01T16:35:24.357868Z"
    },
    "papermill": {
     "duration": 0.078998,
     "end_time": "2024-03-01T16:35:24.362083",
     "exception": false,
     "start_time": "2024-03-01T16:35:24.283085",
     "status": "completed"
    },
    "tags": []
   },
   "outputs": [],
   "source": [
    "data = pd.read_csv(\"/kaggle/input/california-housing/housing.csv\")"
   ]
  },
  {
   "cell_type": "markdown",
   "id": "1f361f4a",
   "metadata": {
    "papermill": {
     "duration": 0.015323,
     "end_time": "2024-03-01T16:35:24.391953",
     "exception": false,
     "start_time": "2024-03-01T16:35:24.376630",
     "status": "completed"
    },
    "tags": []
   },
   "source": [
    "**PRINTING OUR DATA**"
   ]
  },
  {
   "cell_type": "code",
   "execution_count": 4,
   "id": "5ebc98a4",
   "metadata": {
    "execution": {
     "iopub.execute_input": "2024-03-01T16:35:24.428494Z",
     "iopub.status.busy": "2024-03-01T16:35:24.427381Z",
     "iopub.status.idle": "2024-03-01T16:35:24.477141Z",
     "shell.execute_reply": "2024-03-01T16:35:24.475079Z"
    },
    "papermill": {
     "duration": 0.0711,
     "end_time": "2024-03-01T16:35:24.480636",
     "exception": false,
     "start_time": "2024-03-01T16:35:24.409536",
     "status": "completed"
    },
    "tags": []
   },
   "outputs": [
    {
     "data": {
      "text/html": [
       "<div>\n",
       "<style scoped>\n",
       "    .dataframe tbody tr th:only-of-type {\n",
       "        vertical-align: middle;\n",
       "    }\n",
       "\n",
       "    .dataframe tbody tr th {\n",
       "        vertical-align: top;\n",
       "    }\n",
       "\n",
       "    .dataframe thead th {\n",
       "        text-align: right;\n",
       "    }\n",
       "</style>\n",
       "<table border=\"1\" class=\"dataframe\">\n",
       "  <thead>\n",
       "    <tr style=\"text-align: right;\">\n",
       "      <th></th>\n",
       "      <th>longitude</th>\n",
       "      <th>latitude</th>\n",
       "      <th>housing_median_age</th>\n",
       "      <th>total_rooms</th>\n",
       "      <th>total_bedrooms</th>\n",
       "      <th>population</th>\n",
       "      <th>households</th>\n",
       "      <th>median_income</th>\n",
       "      <th>median_house_value</th>\n",
       "      <th>ocean_proximity</th>\n",
       "    </tr>\n",
       "  </thead>\n",
       "  <tbody>\n",
       "    <tr>\n",
       "      <th>0</th>\n",
       "      <td>-122.23</td>\n",
       "      <td>37.88</td>\n",
       "      <td>41.0</td>\n",
       "      <td>880.0</td>\n",
       "      <td>129.0</td>\n",
       "      <td>322.0</td>\n",
       "      <td>126.0</td>\n",
       "      <td>8.3252</td>\n",
       "      <td>452600.0</td>\n",
       "      <td>NEAR BAY</td>\n",
       "    </tr>\n",
       "    <tr>\n",
       "      <th>1</th>\n",
       "      <td>-122.22</td>\n",
       "      <td>37.86</td>\n",
       "      <td>21.0</td>\n",
       "      <td>7099.0</td>\n",
       "      <td>1106.0</td>\n",
       "      <td>2401.0</td>\n",
       "      <td>1138.0</td>\n",
       "      <td>8.3014</td>\n",
       "      <td>358500.0</td>\n",
       "      <td>NEAR BAY</td>\n",
       "    </tr>\n",
       "    <tr>\n",
       "      <th>2</th>\n",
       "      <td>-122.24</td>\n",
       "      <td>37.85</td>\n",
       "      <td>52.0</td>\n",
       "      <td>1467.0</td>\n",
       "      <td>190.0</td>\n",
       "      <td>496.0</td>\n",
       "      <td>177.0</td>\n",
       "      <td>7.2574</td>\n",
       "      <td>352100.0</td>\n",
       "      <td>NEAR BAY</td>\n",
       "    </tr>\n",
       "    <tr>\n",
       "      <th>3</th>\n",
       "      <td>-122.25</td>\n",
       "      <td>37.85</td>\n",
       "      <td>52.0</td>\n",
       "      <td>1274.0</td>\n",
       "      <td>235.0</td>\n",
       "      <td>558.0</td>\n",
       "      <td>219.0</td>\n",
       "      <td>5.6431</td>\n",
       "      <td>341300.0</td>\n",
       "      <td>NEAR BAY</td>\n",
       "    </tr>\n",
       "    <tr>\n",
       "      <th>4</th>\n",
       "      <td>-122.25</td>\n",
       "      <td>37.85</td>\n",
       "      <td>52.0</td>\n",
       "      <td>1627.0</td>\n",
       "      <td>280.0</td>\n",
       "      <td>565.0</td>\n",
       "      <td>259.0</td>\n",
       "      <td>3.8462</td>\n",
       "      <td>342200.0</td>\n",
       "      <td>NEAR BAY</td>\n",
       "    </tr>\n",
       "    <tr>\n",
       "      <th>...</th>\n",
       "      <td>...</td>\n",
       "      <td>...</td>\n",
       "      <td>...</td>\n",
       "      <td>...</td>\n",
       "      <td>...</td>\n",
       "      <td>...</td>\n",
       "      <td>...</td>\n",
       "      <td>...</td>\n",
       "      <td>...</td>\n",
       "      <td>...</td>\n",
       "    </tr>\n",
       "    <tr>\n",
       "      <th>20635</th>\n",
       "      <td>-121.09</td>\n",
       "      <td>39.48</td>\n",
       "      <td>25.0</td>\n",
       "      <td>1665.0</td>\n",
       "      <td>374.0</td>\n",
       "      <td>845.0</td>\n",
       "      <td>330.0</td>\n",
       "      <td>1.5603</td>\n",
       "      <td>78100.0</td>\n",
       "      <td>INLAND</td>\n",
       "    </tr>\n",
       "    <tr>\n",
       "      <th>20636</th>\n",
       "      <td>-121.21</td>\n",
       "      <td>39.49</td>\n",
       "      <td>18.0</td>\n",
       "      <td>697.0</td>\n",
       "      <td>150.0</td>\n",
       "      <td>356.0</td>\n",
       "      <td>114.0</td>\n",
       "      <td>2.5568</td>\n",
       "      <td>77100.0</td>\n",
       "      <td>INLAND</td>\n",
       "    </tr>\n",
       "    <tr>\n",
       "      <th>20637</th>\n",
       "      <td>-121.22</td>\n",
       "      <td>39.43</td>\n",
       "      <td>17.0</td>\n",
       "      <td>2254.0</td>\n",
       "      <td>485.0</td>\n",
       "      <td>1007.0</td>\n",
       "      <td>433.0</td>\n",
       "      <td>1.7000</td>\n",
       "      <td>92300.0</td>\n",
       "      <td>INLAND</td>\n",
       "    </tr>\n",
       "    <tr>\n",
       "      <th>20638</th>\n",
       "      <td>-121.32</td>\n",
       "      <td>39.43</td>\n",
       "      <td>18.0</td>\n",
       "      <td>1860.0</td>\n",
       "      <td>409.0</td>\n",
       "      <td>741.0</td>\n",
       "      <td>349.0</td>\n",
       "      <td>1.8672</td>\n",
       "      <td>84700.0</td>\n",
       "      <td>INLAND</td>\n",
       "    </tr>\n",
       "    <tr>\n",
       "      <th>20639</th>\n",
       "      <td>-121.24</td>\n",
       "      <td>39.37</td>\n",
       "      <td>16.0</td>\n",
       "      <td>2785.0</td>\n",
       "      <td>616.0</td>\n",
       "      <td>1387.0</td>\n",
       "      <td>530.0</td>\n",
       "      <td>2.3886</td>\n",
       "      <td>89400.0</td>\n",
       "      <td>INLAND</td>\n",
       "    </tr>\n",
       "  </tbody>\n",
       "</table>\n",
       "<p>20640 rows × 10 columns</p>\n",
       "</div>"
      ],
      "text/plain": [
       "       longitude  latitude  housing_median_age  total_rooms  total_bedrooms  \\\n",
       "0        -122.23     37.88                41.0        880.0           129.0   \n",
       "1        -122.22     37.86                21.0       7099.0          1106.0   \n",
       "2        -122.24     37.85                52.0       1467.0           190.0   \n",
       "3        -122.25     37.85                52.0       1274.0           235.0   \n",
       "4        -122.25     37.85                52.0       1627.0           280.0   \n",
       "...          ...       ...                 ...          ...             ...   \n",
       "20635    -121.09     39.48                25.0       1665.0           374.0   \n",
       "20636    -121.21     39.49                18.0        697.0           150.0   \n",
       "20637    -121.22     39.43                17.0       2254.0           485.0   \n",
       "20638    -121.32     39.43                18.0       1860.0           409.0   \n",
       "20639    -121.24     39.37                16.0       2785.0           616.0   \n",
       "\n",
       "       population  households  median_income  median_house_value  \\\n",
       "0           322.0       126.0         8.3252            452600.0   \n",
       "1          2401.0      1138.0         8.3014            358500.0   \n",
       "2           496.0       177.0         7.2574            352100.0   \n",
       "3           558.0       219.0         5.6431            341300.0   \n",
       "4           565.0       259.0         3.8462            342200.0   \n",
       "...           ...         ...            ...                 ...   \n",
       "20635       845.0       330.0         1.5603             78100.0   \n",
       "20636       356.0       114.0         2.5568             77100.0   \n",
       "20637      1007.0       433.0         1.7000             92300.0   \n",
       "20638       741.0       349.0         1.8672             84700.0   \n",
       "20639      1387.0       530.0         2.3886             89400.0   \n",
       "\n",
       "      ocean_proximity  \n",
       "0            NEAR BAY  \n",
       "1            NEAR BAY  \n",
       "2            NEAR BAY  \n",
       "3            NEAR BAY  \n",
       "4            NEAR BAY  \n",
       "...               ...  \n",
       "20635          INLAND  \n",
       "20636          INLAND  \n",
       "20637          INLAND  \n",
       "20638          INLAND  \n",
       "20639          INLAND  \n",
       "\n",
       "[20640 rows x 10 columns]"
      ]
     },
     "execution_count": 4,
     "metadata": {},
     "output_type": "execute_result"
    }
   ],
   "source": [
    "data\n"
   ]
  },
  {
   "cell_type": "code",
   "execution_count": 5,
   "id": "bdda1b86",
   "metadata": {
    "execution": {
     "iopub.execute_input": "2024-03-01T16:35:24.513669Z",
     "iopub.status.busy": "2024-03-01T16:35:24.512619Z",
     "iopub.status.idle": "2024-03-01T16:35:24.543349Z",
     "shell.execute_reply": "2024-03-01T16:35:24.542177Z"
    },
    "papermill": {
     "duration": 0.050735,
     "end_time": "2024-03-01T16:35:24.546605",
     "exception": false,
     "start_time": "2024-03-01T16:35:24.495870",
     "status": "completed"
    },
    "tags": []
   },
   "outputs": [
    {
     "name": "stdout",
     "output_type": "stream",
     "text": [
      "<class 'pandas.core.frame.DataFrame'>\n",
      "RangeIndex: 20640 entries, 0 to 20639\n",
      "Data columns (total 10 columns):\n",
      " #   Column              Non-Null Count  Dtype  \n",
      "---  ------              --------------  -----  \n",
      " 0   longitude           20640 non-null  float64\n",
      " 1   latitude            20640 non-null  float64\n",
      " 2   housing_median_age  20640 non-null  float64\n",
      " 3   total_rooms         20640 non-null  float64\n",
      " 4   total_bedrooms      20433 non-null  float64\n",
      " 5   population          20640 non-null  float64\n",
      " 6   households          20640 non-null  float64\n",
      " 7   median_income       20640 non-null  float64\n",
      " 8   median_house_value  20640 non-null  float64\n",
      " 9   ocean_proximity     20640 non-null  object \n",
      "dtypes: float64(9), object(1)\n",
      "memory usage: 1.6+ MB\n"
     ]
    }
   ],
   "source": [
    "data.info()"
   ]
  },
  {
   "cell_type": "markdown",
   "id": "c5a7fc5b",
   "metadata": {
    "papermill": {
     "duration": 0.017133,
     "end_time": "2024-03-01T16:35:24.581289",
     "exception": false,
     "start_time": "2024-03-01T16:35:24.564156",
     "status": "completed"
    },
    "tags": []
   },
   "source": [
    "> **REMOVING NULL VALUES**"
   ]
  },
  {
   "cell_type": "code",
   "execution_count": 6,
   "id": "b9ebc0f8",
   "metadata": {
    "execution": {
     "iopub.execute_input": "2024-03-01T16:35:24.616181Z",
     "iopub.status.busy": "2024-03-01T16:35:24.615735Z",
     "iopub.status.idle": "2024-03-01T16:35:24.626052Z",
     "shell.execute_reply": "2024-03-01T16:35:24.625048Z"
    },
    "papermill": {
     "duration": 0.029401,
     "end_time": "2024-03-01T16:35:24.628676",
     "exception": false,
     "start_time": "2024-03-01T16:35:24.599275",
     "status": "completed"
    },
    "tags": []
   },
   "outputs": [],
   "source": [
    "data.dropna(inplace = True)"
   ]
  },
  {
   "cell_type": "code",
   "execution_count": 7,
   "id": "eab76fa5",
   "metadata": {
    "execution": {
     "iopub.execute_input": "2024-03-01T16:35:24.665886Z",
     "iopub.status.busy": "2024-03-01T16:35:24.665019Z",
     "iopub.status.idle": "2024-03-01T16:35:24.680203Z",
     "shell.execute_reply": "2024-03-01T16:35:24.679094Z"
    },
    "papermill": {
     "duration": 0.037042,
     "end_time": "2024-03-01T16:35:24.682612",
     "exception": false,
     "start_time": "2024-03-01T16:35:24.645570",
     "status": "completed"
    },
    "tags": []
   },
   "outputs": [
    {
     "name": "stdout",
     "output_type": "stream",
     "text": [
      "<class 'pandas.core.frame.DataFrame'>\n",
      "Index: 20433 entries, 0 to 20639\n",
      "Data columns (total 10 columns):\n",
      " #   Column              Non-Null Count  Dtype  \n",
      "---  ------              --------------  -----  \n",
      " 0   longitude           20433 non-null  float64\n",
      " 1   latitude            20433 non-null  float64\n",
      " 2   housing_median_age  20433 non-null  float64\n",
      " 3   total_rooms         20433 non-null  float64\n",
      " 4   total_bedrooms      20433 non-null  float64\n",
      " 5   population          20433 non-null  float64\n",
      " 6   households          20433 non-null  float64\n",
      " 7   median_income       20433 non-null  float64\n",
      " 8   median_house_value  20433 non-null  float64\n",
      " 9   ocean_proximity     20433 non-null  object \n",
      "dtypes: float64(9), object(1)\n",
      "memory usage: 1.7+ MB\n"
     ]
    }
   ],
   "source": [
    "data.info()"
   ]
  },
  {
   "cell_type": "markdown",
   "id": "ff98c6f3",
   "metadata": {
    "papermill": {
     "duration": 0.0137,
     "end_time": "2024-03-01T16:35:24.710894",
     "exception": false,
     "start_time": "2024-03-01T16:35:24.697194",
     "status": "completed"
    },
    "tags": []
   },
   "source": []
  },
  {
   "cell_type": "code",
   "execution_count": 8,
   "id": "56c94e2b",
   "metadata": {
    "execution": {
     "iopub.execute_input": "2024-03-01T16:35:24.744771Z",
     "iopub.status.busy": "2024-03-01T16:35:24.743483Z",
     "iopub.status.idle": "2024-03-01T16:35:25.162156Z",
     "shell.execute_reply": "2024-03-01T16:35:25.160886Z"
    },
    "papermill": {
     "duration": 0.437698,
     "end_time": "2024-03-01T16:35:25.165573",
     "exception": false,
     "start_time": "2024-03-01T16:35:24.727875",
     "status": "completed"
    },
    "tags": []
   },
   "outputs": [],
   "source": [
    "from sklearn.model_selection import train_test_split\n",
    "X  = data.drop(['median_house_value'] , axis= 1)\n",
    "y = data['median_house_value']"
   ]
  },
  {
   "cell_type": "markdown",
   "id": "db9f9fde",
   "metadata": {
    "papermill": {
     "duration": 0.012744,
     "end_time": "2024-03-01T16:35:25.191492",
     "exception": false,
     "start_time": "2024-03-01T16:35:25.178748",
     "status": "completed"
    },
    "tags": []
   },
   "source": [
    " # **DATA EXPLORATION**"
   ]
  },
  {
   "cell_type": "code",
   "execution_count": 9,
   "id": "7620ef81",
   "metadata": {
    "execution": {
     "iopub.execute_input": "2024-03-01T16:35:25.224096Z",
     "iopub.status.busy": "2024-03-01T16:35:25.223660Z",
     "iopub.status.idle": "2024-03-01T16:35:25.244865Z",
     "shell.execute_reply": "2024-03-01T16:35:25.243679Z"
    },
    "papermill": {
     "duration": 0.040385,
     "end_time": "2024-03-01T16:35:25.247227",
     "exception": false,
     "start_time": "2024-03-01T16:35:25.206842",
     "status": "completed"
    },
    "tags": []
   },
   "outputs": [
    {
     "data": {
      "text/html": [
       "<div>\n",
       "<style scoped>\n",
       "    .dataframe tbody tr th:only-of-type {\n",
       "        vertical-align: middle;\n",
       "    }\n",
       "\n",
       "    .dataframe tbody tr th {\n",
       "        vertical-align: top;\n",
       "    }\n",
       "\n",
       "    .dataframe thead th {\n",
       "        text-align: right;\n",
       "    }\n",
       "</style>\n",
       "<table border=\"1\" class=\"dataframe\">\n",
       "  <thead>\n",
       "    <tr style=\"text-align: right;\">\n",
       "      <th></th>\n",
       "      <th>longitude</th>\n",
       "      <th>latitude</th>\n",
       "      <th>housing_median_age</th>\n",
       "      <th>total_rooms</th>\n",
       "      <th>total_bedrooms</th>\n",
       "      <th>population</th>\n",
       "      <th>households</th>\n",
       "      <th>median_income</th>\n",
       "      <th>ocean_proximity</th>\n",
       "    </tr>\n",
       "  </thead>\n",
       "  <tbody>\n",
       "    <tr>\n",
       "      <th>0</th>\n",
       "      <td>-122.23</td>\n",
       "      <td>37.88</td>\n",
       "      <td>41.0</td>\n",
       "      <td>880.0</td>\n",
       "      <td>129.0</td>\n",
       "      <td>322.0</td>\n",
       "      <td>126.0</td>\n",
       "      <td>8.3252</td>\n",
       "      <td>NEAR BAY</td>\n",
       "    </tr>\n",
       "    <tr>\n",
       "      <th>1</th>\n",
       "      <td>-122.22</td>\n",
       "      <td>37.86</td>\n",
       "      <td>21.0</td>\n",
       "      <td>7099.0</td>\n",
       "      <td>1106.0</td>\n",
       "      <td>2401.0</td>\n",
       "      <td>1138.0</td>\n",
       "      <td>8.3014</td>\n",
       "      <td>NEAR BAY</td>\n",
       "    </tr>\n",
       "    <tr>\n",
       "      <th>2</th>\n",
       "      <td>-122.24</td>\n",
       "      <td>37.85</td>\n",
       "      <td>52.0</td>\n",
       "      <td>1467.0</td>\n",
       "      <td>190.0</td>\n",
       "      <td>496.0</td>\n",
       "      <td>177.0</td>\n",
       "      <td>7.2574</td>\n",
       "      <td>NEAR BAY</td>\n",
       "    </tr>\n",
       "    <tr>\n",
       "      <th>3</th>\n",
       "      <td>-122.25</td>\n",
       "      <td>37.85</td>\n",
       "      <td>52.0</td>\n",
       "      <td>1274.0</td>\n",
       "      <td>235.0</td>\n",
       "      <td>558.0</td>\n",
       "      <td>219.0</td>\n",
       "      <td>5.6431</td>\n",
       "      <td>NEAR BAY</td>\n",
       "    </tr>\n",
       "    <tr>\n",
       "      <th>4</th>\n",
       "      <td>-122.25</td>\n",
       "      <td>37.85</td>\n",
       "      <td>52.0</td>\n",
       "      <td>1627.0</td>\n",
       "      <td>280.0</td>\n",
       "      <td>565.0</td>\n",
       "      <td>259.0</td>\n",
       "      <td>3.8462</td>\n",
       "      <td>NEAR BAY</td>\n",
       "    </tr>\n",
       "  </tbody>\n",
       "</table>\n",
       "</div>"
      ],
      "text/plain": [
       "   longitude  latitude  housing_median_age  total_rooms  total_bedrooms  \\\n",
       "0    -122.23     37.88                41.0        880.0           129.0   \n",
       "1    -122.22     37.86                21.0       7099.0          1106.0   \n",
       "2    -122.24     37.85                52.0       1467.0           190.0   \n",
       "3    -122.25     37.85                52.0       1274.0           235.0   \n",
       "4    -122.25     37.85                52.0       1627.0           280.0   \n",
       "\n",
       "   population  households  median_income ocean_proximity  \n",
       "0       322.0       126.0         8.3252        NEAR BAY  \n",
       "1      2401.0      1138.0         8.3014        NEAR BAY  \n",
       "2       496.0       177.0         7.2574        NEAR BAY  \n",
       "3       558.0       219.0         5.6431        NEAR BAY  \n",
       "4       565.0       259.0         3.8462        NEAR BAY  "
      ]
     },
     "execution_count": 9,
     "metadata": {},
     "output_type": "execute_result"
    }
   ],
   "source": [
    "X.head()"
   ]
  },
  {
   "cell_type": "markdown",
   "id": "7d927e45",
   "metadata": {
    "papermill": {
     "duration": 0.01392,
     "end_time": "2024-03-01T16:35:25.274656",
     "exception": false,
     "start_time": "2024-03-01T16:35:25.260736",
     "status": "completed"
    },
    "tags": []
   },
   "source": [
    "## **SPLITTING OUR DATASET**"
   ]
  },
  {
   "cell_type": "code",
   "execution_count": null,
   "id": "b91c7d89",
   "metadata": {
    "papermill": {
     "duration": 0.01438,
     "end_time": "2024-03-01T16:35:25.302460",
     "exception": false,
     "start_time": "2024-03-01T16:35:25.288080",
     "status": "completed"
    },
    "tags": []
   },
   "outputs": [],
   "source": []
  },
  {
   "cell_type": "code",
   "execution_count": 10,
   "id": "f2413d43",
   "metadata": {
    "execution": {
     "iopub.execute_input": "2024-03-01T16:35:25.332018Z",
     "iopub.status.busy": "2024-03-01T16:35:25.331454Z",
     "iopub.status.idle": "2024-03-01T16:35:25.345687Z",
     "shell.execute_reply": "2024-03-01T16:35:25.344122Z"
    },
    "papermill": {
     "duration": 0.03167,
     "end_time": "2024-03-01T16:35:25.348176",
     "exception": false,
     "start_time": "2024-03-01T16:35:25.316506",
     "status": "completed"
    },
    "tags": []
   },
   "outputs": [],
   "source": [
    "X_train, X_test, y_train , y_test = train_test_split(X,  y, test_size = 0.2)\n",
    "#TAKING THE TESTING DATA TO BE 20 % OF OUR ORIGINAL DATA"
   ]
  },
  {
   "cell_type": "code",
   "execution_count": 11,
   "id": "bf832fcc",
   "metadata": {
    "execution": {
     "iopub.execute_input": "2024-03-01T16:35:25.378158Z",
     "iopub.status.busy": "2024-03-01T16:35:25.377708Z",
     "iopub.status.idle": "2024-03-01T16:35:25.388514Z",
     "shell.execute_reply": "2024-03-01T16:35:25.387277Z"
    },
    "papermill": {
     "duration": 0.028737,
     "end_time": "2024-03-01T16:35:25.391110",
     "exception": false,
     "start_time": "2024-03-01T16:35:25.362373",
     "status": "completed"
    },
    "tags": []
   },
   "outputs": [],
   "source": [
    "train_data = X_train.join(y_train)"
   ]
  },
  {
   "cell_type": "code",
   "execution_count": 12,
   "id": "c70aa73a",
   "metadata": {
    "execution": {
     "iopub.execute_input": "2024-03-01T16:35:25.421164Z",
     "iopub.status.busy": "2024-03-01T16:35:25.420685Z",
     "iopub.status.idle": "2024-03-01T16:35:25.447413Z",
     "shell.execute_reply": "2024-03-01T16:35:25.446092Z"
    },
    "papermill": {
     "duration": 0.045561,
     "end_time": "2024-03-01T16:35:25.450050",
     "exception": false,
     "start_time": "2024-03-01T16:35:25.404489",
     "status": "completed"
    },
    "tags": []
   },
   "outputs": [
    {
     "data": {
      "text/html": [
       "<div>\n",
       "<style scoped>\n",
       "    .dataframe tbody tr th:only-of-type {\n",
       "        vertical-align: middle;\n",
       "    }\n",
       "\n",
       "    .dataframe tbody tr th {\n",
       "        vertical-align: top;\n",
       "    }\n",
       "\n",
       "    .dataframe thead th {\n",
       "        text-align: right;\n",
       "    }\n",
       "</style>\n",
       "<table border=\"1\" class=\"dataframe\">\n",
       "  <thead>\n",
       "    <tr style=\"text-align: right;\">\n",
       "      <th></th>\n",
       "      <th>longitude</th>\n",
       "      <th>latitude</th>\n",
       "      <th>housing_median_age</th>\n",
       "      <th>total_rooms</th>\n",
       "      <th>total_bedrooms</th>\n",
       "      <th>population</th>\n",
       "      <th>households</th>\n",
       "      <th>median_income</th>\n",
       "      <th>ocean_proximity</th>\n",
       "      <th>median_house_value</th>\n",
       "    </tr>\n",
       "  </thead>\n",
       "  <tbody>\n",
       "    <tr>\n",
       "      <th>8126</th>\n",
       "      <td>-118.18</td>\n",
       "      <td>33.81</td>\n",
       "      <td>27.0</td>\n",
       "      <td>471.0</td>\n",
       "      <td>132.0</td>\n",
       "      <td>315.0</td>\n",
       "      <td>96.0</td>\n",
       "      <td>1.7500</td>\n",
       "      <td>NEAR OCEAN</td>\n",
       "      <td>154200.0</td>\n",
       "    </tr>\n",
       "    <tr>\n",
       "      <th>14750</th>\n",
       "      <td>-117.06</td>\n",
       "      <td>32.57</td>\n",
       "      <td>25.0</td>\n",
       "      <td>1268.0</td>\n",
       "      <td>282.0</td>\n",
       "      <td>991.0</td>\n",
       "      <td>299.0</td>\n",
       "      <td>3.0284</td>\n",
       "      <td>NEAR OCEAN</td>\n",
       "      <td>123600.0</td>\n",
       "    </tr>\n",
       "    <tr>\n",
       "      <th>1478</th>\n",
       "      <td>-122.04</td>\n",
       "      <td>37.97</td>\n",
       "      <td>39.0</td>\n",
       "      <td>1323.0</td>\n",
       "      <td>245.0</td>\n",
       "      <td>705.0</td>\n",
       "      <td>261.0</td>\n",
       "      <td>3.1968</td>\n",
       "      <td>NEAR BAY</td>\n",
       "      <td>151000.0</td>\n",
       "    </tr>\n",
       "    <tr>\n",
       "      <th>18276</th>\n",
       "      <td>-122.07</td>\n",
       "      <td>37.34</td>\n",
       "      <td>35.0</td>\n",
       "      <td>1172.0</td>\n",
       "      <td>184.0</td>\n",
       "      <td>512.0</td>\n",
       "      <td>175.0</td>\n",
       "      <td>7.3561</td>\n",
       "      <td>&lt;1H OCEAN</td>\n",
       "      <td>500001.0</td>\n",
       "    </tr>\n",
       "    <tr>\n",
       "      <th>15252</th>\n",
       "      <td>-117.32</td>\n",
       "      <td>33.01</td>\n",
       "      <td>29.0</td>\n",
       "      <td>3584.0</td>\n",
       "      <td>712.0</td>\n",
       "      <td>1619.0</td>\n",
       "      <td>667.0</td>\n",
       "      <td>4.1250</td>\n",
       "      <td>NEAR OCEAN</td>\n",
       "      <td>394400.0</td>\n",
       "    </tr>\n",
       "    <tr>\n",
       "      <th>...</th>\n",
       "      <td>...</td>\n",
       "      <td>...</td>\n",
       "      <td>...</td>\n",
       "      <td>...</td>\n",
       "      <td>...</td>\n",
       "      <td>...</td>\n",
       "      <td>...</td>\n",
       "      <td>...</td>\n",
       "      <td>...</td>\n",
       "      <td>...</td>\n",
       "    </tr>\n",
       "    <tr>\n",
       "      <th>1197</th>\n",
       "      <td>-121.65</td>\n",
       "      <td>39.32</td>\n",
       "      <td>40.0</td>\n",
       "      <td>812.0</td>\n",
       "      <td>154.0</td>\n",
       "      <td>374.0</td>\n",
       "      <td>142.0</td>\n",
       "      <td>2.7891</td>\n",
       "      <td>INLAND</td>\n",
       "      <td>73500.0</td>\n",
       "    </tr>\n",
       "    <tr>\n",
       "      <th>10900</th>\n",
       "      <td>-117.84</td>\n",
       "      <td>33.74</td>\n",
       "      <td>25.0</td>\n",
       "      <td>1818.0</td>\n",
       "      <td>577.0</td>\n",
       "      <td>1426.0</td>\n",
       "      <td>532.0</td>\n",
       "      <td>3.2104</td>\n",
       "      <td>&lt;1H OCEAN</td>\n",
       "      <td>112500.0</td>\n",
       "    </tr>\n",
       "    <tr>\n",
       "      <th>13778</th>\n",
       "      <td>-117.06</td>\n",
       "      <td>34.02</td>\n",
       "      <td>24.0</td>\n",
       "      <td>3912.0</td>\n",
       "      <td>809.0</td>\n",
       "      <td>1926.0</td>\n",
       "      <td>762.0</td>\n",
       "      <td>2.6875</td>\n",
       "      <td>INLAND</td>\n",
       "      <td>116300.0</td>\n",
       "    </tr>\n",
       "    <tr>\n",
       "      <th>12814</th>\n",
       "      <td>-121.50</td>\n",
       "      <td>38.62</td>\n",
       "      <td>8.0</td>\n",
       "      <td>16679.0</td>\n",
       "      <td>3457.0</td>\n",
       "      <td>7919.0</td>\n",
       "      <td>3329.0</td>\n",
       "      <td>3.7188</td>\n",
       "      <td>INLAND</td>\n",
       "      <td>134500.0</td>\n",
       "    </tr>\n",
       "    <tr>\n",
       "      <th>7488</th>\n",
       "      <td>-118.22</td>\n",
       "      <td>33.92</td>\n",
       "      <td>43.0</td>\n",
       "      <td>1195.0</td>\n",
       "      <td>256.0</td>\n",
       "      <td>1251.0</td>\n",
       "      <td>262.0</td>\n",
       "      <td>3.4539</td>\n",
       "      <td>&lt;1H OCEAN</td>\n",
       "      <td>125000.0</td>\n",
       "    </tr>\n",
       "  </tbody>\n",
       "</table>\n",
       "<p>16346 rows × 10 columns</p>\n",
       "</div>"
      ],
      "text/plain": [
       "       longitude  latitude  housing_median_age  total_rooms  total_bedrooms  \\\n",
       "8126     -118.18     33.81                27.0        471.0           132.0   \n",
       "14750    -117.06     32.57                25.0       1268.0           282.0   \n",
       "1478     -122.04     37.97                39.0       1323.0           245.0   \n",
       "18276    -122.07     37.34                35.0       1172.0           184.0   \n",
       "15252    -117.32     33.01                29.0       3584.0           712.0   \n",
       "...          ...       ...                 ...          ...             ...   \n",
       "1197     -121.65     39.32                40.0        812.0           154.0   \n",
       "10900    -117.84     33.74                25.0       1818.0           577.0   \n",
       "13778    -117.06     34.02                24.0       3912.0           809.0   \n",
       "12814    -121.50     38.62                 8.0      16679.0          3457.0   \n",
       "7488     -118.22     33.92                43.0       1195.0           256.0   \n",
       "\n",
       "       population  households  median_income ocean_proximity  \\\n",
       "8126        315.0        96.0         1.7500      NEAR OCEAN   \n",
       "14750       991.0       299.0         3.0284      NEAR OCEAN   \n",
       "1478        705.0       261.0         3.1968        NEAR BAY   \n",
       "18276       512.0       175.0         7.3561       <1H OCEAN   \n",
       "15252      1619.0       667.0         4.1250      NEAR OCEAN   \n",
       "...           ...         ...            ...             ...   \n",
       "1197        374.0       142.0         2.7891          INLAND   \n",
       "10900      1426.0       532.0         3.2104       <1H OCEAN   \n",
       "13778      1926.0       762.0         2.6875          INLAND   \n",
       "12814      7919.0      3329.0         3.7188          INLAND   \n",
       "7488       1251.0       262.0         3.4539       <1H OCEAN   \n",
       "\n",
       "       median_house_value  \n",
       "8126             154200.0  \n",
       "14750            123600.0  \n",
       "1478             151000.0  \n",
       "18276            500001.0  \n",
       "15252            394400.0  \n",
       "...                   ...  \n",
       "1197              73500.0  \n",
       "10900            112500.0  \n",
       "13778            116300.0  \n",
       "12814            134500.0  \n",
       "7488             125000.0  \n",
       "\n",
       "[16346 rows x 10 columns]"
      ]
     },
     "execution_count": 12,
     "metadata": {},
     "output_type": "execute_result"
    }
   ],
   "source": [
    "train_data"
   ]
  },
  {
   "cell_type": "markdown",
   "id": "6186b3e7",
   "metadata": {
    "papermill": {
     "duration": 0.014018,
     "end_time": "2024-03-01T16:35:25.478784",
     "exception": false,
     "start_time": "2024-03-01T16:35:25.464766",
     "status": "completed"
    },
    "tags": []
   },
   "source": [
    "# **UNDERSTANDING GENERAL TRENDS AND PATTERNS IN OUR DATA**"
   ]
  },
  {
   "cell_type": "code",
   "execution_count": 13,
   "id": "bd7728d7",
   "metadata": {
    "execution": {
     "iopub.execute_input": "2024-03-01T16:35:25.582631Z",
     "iopub.status.busy": "2024-03-01T16:35:25.582227Z",
     "iopub.status.idle": "2024-03-01T16:35:27.747366Z",
     "shell.execute_reply": "2024-03-01T16:35:27.746087Z"
    },
    "papermill": {
     "duration": 2.256369,
     "end_time": "2024-03-01T16:35:27.749945",
     "exception": false,
     "start_time": "2024-03-01T16:35:25.493576",
     "status": "completed"
    },
    "tags": []
   },
   "outputs": [
    {
     "data": {
      "text/plain": [
       "array([[<Axes: title={'center': 'longitude'}>,\n",
       "        <Axes: title={'center': 'latitude'}>,\n",
       "        <Axes: title={'center': 'housing_median_age'}>],\n",
       "       [<Axes: title={'center': 'total_rooms'}>,\n",
       "        <Axes: title={'center': 'total_bedrooms'}>,\n",
       "        <Axes: title={'center': 'population'}>],\n",
       "       [<Axes: title={'center': 'households'}>,\n",
       "        <Axes: title={'center': 'median_income'}>,\n",
       "        <Axes: title={'center': 'median_house_value'}>]], dtype=object)"
      ]
     },
     "execution_count": 13,
     "metadata": {},
     "output_type": "execute_result"
    },
    {
     "data": {
      "image/png": "[encoded data removed]",
      "text/plain": [
       "<Figure size 1500x1000 with 9 Axes>"
      ]
     },
     "metadata": {},
     "output_type": "display_data"
    }
   ],
   "source": [
    "train_data.hist(figsize= (15,10))"
   ]
  },
  {
   "cell_type": "markdown",
   "id": "2c4076a1",
   "metadata": {
    "papermill": {
     "duration": 0.017805,
     "end_time": "2024-03-01T16:35:27.784637",
     "exception": false,
     "start_time": "2024-03-01T16:35:27.766832",
     "status": "completed"
    },
    "tags": []
   },
   "source": [
    "# Preprocessing"
   ]
  },
  {
   "cell_type": "markdown",
   "id": "c02ee65f",
   "metadata": {
    "papermill": {
     "duration": 0.016593,
     "end_time": "2024-03-01T16:35:27.819059",
     "exception": false,
     "start_time": "2024-03-01T16:35:27.802466",
     "status": "completed"
    },
    "tags": []
   },
   "source": [
    "# **MAKING OUR  DATA MORE \"MACHINE FREINDLY\" 😊**"
   ]
  },
  {
   "cell_type": "code",
   "execution_count": 14,
   "id": "6e3156ff",
   "metadata": {
    "execution": {
     "iopub.execute_input": "2024-03-01T16:35:27.854768Z",
     "iopub.status.busy": "2024-03-01T16:35:27.853788Z",
     "iopub.status.idle": "2024-03-01T16:35:27.865421Z",
     "shell.execute_reply": "2024-03-01T16:35:27.864248Z"
    },
    "papermill": {
     "duration": 0.031957,
     "end_time": "2024-03-01T16:35:27.868161",
     "exception": false,
     "start_time": "2024-03-01T16:35:27.836204",
     "status": "completed"
    },
    "tags": []
   },
   "outputs": [],
   "source": [
    "train_data['total_rooms'] = np.log(train_data['total_rooms'] +1)\n",
    "train_data['total_bedrooms'] = np.log(train_data['total_bedrooms'] +1)\n",
    "train_data['population'] = np.log(train_data['population'] +1)\n",
    "train_data['households'] = np.log(train_data['households'] +1)"
   ]
  },
  {
   "cell_type": "code",
   "execution_count": 15,
   "id": "08129a55",
   "metadata": {
    "execution": {
     "iopub.execute_input": "2024-03-01T16:35:27.902282Z",
     "iopub.status.busy": "2024-03-01T16:35:27.901895Z",
     "iopub.status.idle": "2024-03-01T16:35:27.925666Z",
     "shell.execute_reply": "2024-03-01T16:35:27.924445Z"
    },
    "papermill": {
     "duration": 0.043812,
     "end_time": "2024-03-01T16:35:27.927920",
     "exception": false,
     "start_time": "2024-03-01T16:35:27.884108",
     "status": "completed"
    },
    "tags": []
   },
   "outputs": [
    {
     "data": {
      "text/html": [
       "<div>\n",
       "<style scoped>\n",
       "    .dataframe tbody tr th:only-of-type {\n",
       "        vertical-align: middle;\n",
       "    }\n",
       "\n",
       "    .dataframe tbody tr th {\n",
       "        vertical-align: top;\n",
       "    }\n",
       "\n",
       "    .dataframe thead th {\n",
       "        text-align: right;\n",
       "    }\n",
       "</style>\n",
       "<table border=\"1\" class=\"dataframe\">\n",
       "  <thead>\n",
       "    <tr style=\"text-align: right;\">\n",
       "      <th></th>\n",
       "      <th>longitude</th>\n",
       "      <th>latitude</th>\n",
       "      <th>housing_median_age</th>\n",
       "      <th>total_rooms</th>\n",
       "      <th>total_bedrooms</th>\n",
       "      <th>population</th>\n",
       "      <th>households</th>\n",
       "      <th>median_income</th>\n",
       "      <th>ocean_proximity</th>\n",
       "      <th>median_house_value</th>\n",
       "    </tr>\n",
       "  </thead>\n",
       "  <tbody>\n",
       "    <tr>\n",
       "      <th>8126</th>\n",
       "      <td>-118.18</td>\n",
       "      <td>33.81</td>\n",
       "      <td>27.0</td>\n",
       "      <td>6.156979</td>\n",
       "      <td>4.890349</td>\n",
       "      <td>5.755742</td>\n",
       "      <td>4.574711</td>\n",
       "      <td>1.7500</td>\n",
       "      <td>NEAR OCEAN</td>\n",
       "      <td>154200.0</td>\n",
       "    </tr>\n",
       "    <tr>\n",
       "      <th>14750</th>\n",
       "      <td>-117.06</td>\n",
       "      <td>32.57</td>\n",
       "      <td>25.0</td>\n",
       "      <td>7.145984</td>\n",
       "      <td>5.645447</td>\n",
       "      <td>6.899723</td>\n",
       "      <td>5.703782</td>\n",
       "      <td>3.0284</td>\n",
       "      <td>NEAR OCEAN</td>\n",
       "      <td>123600.0</td>\n",
       "    </tr>\n",
       "    <tr>\n",
       "      <th>1478</th>\n",
       "      <td>-122.04</td>\n",
       "      <td>37.97</td>\n",
       "      <td>39.0</td>\n",
       "      <td>7.188413</td>\n",
       "      <td>5.505332</td>\n",
       "      <td>6.559615</td>\n",
       "      <td>5.568345</td>\n",
       "      <td>3.1968</td>\n",
       "      <td>NEAR BAY</td>\n",
       "      <td>151000.0</td>\n",
       "    </tr>\n",
       "    <tr>\n",
       "      <th>18276</th>\n",
       "      <td>-122.07</td>\n",
       "      <td>37.34</td>\n",
       "      <td>35.0</td>\n",
       "      <td>7.067320</td>\n",
       "      <td>5.220356</td>\n",
       "      <td>6.240276</td>\n",
       "      <td>5.170484</td>\n",
       "      <td>7.3561</td>\n",
       "      <td>&lt;1H OCEAN</td>\n",
       "      <td>500001.0</td>\n",
       "    </tr>\n",
       "    <tr>\n",
       "      <th>15252</th>\n",
       "      <td>-117.32</td>\n",
       "      <td>33.01</td>\n",
       "      <td>29.0</td>\n",
       "      <td>8.184514</td>\n",
       "      <td>6.569481</td>\n",
       "      <td>7.390181</td>\n",
       "      <td>6.504288</td>\n",
       "      <td>4.1250</td>\n",
       "      <td>NEAR OCEAN</td>\n",
       "      <td>394400.0</td>\n",
       "    </tr>\n",
       "    <tr>\n",
       "      <th>...</th>\n",
       "      <td>...</td>\n",
       "      <td>...</td>\n",
       "      <td>...</td>\n",
       "      <td>...</td>\n",
       "      <td>...</td>\n",
       "      <td>...</td>\n",
       "      <td>...</td>\n",
       "      <td>...</td>\n",
       "      <td>...</td>\n",
       "      <td>...</td>\n",
       "    </tr>\n",
       "    <tr>\n",
       "      <th>1197</th>\n",
       "      <td>-121.65</td>\n",
       "      <td>39.32</td>\n",
       "      <td>40.0</td>\n",
       "      <td>6.700731</td>\n",
       "      <td>5.043425</td>\n",
       "      <td>5.926926</td>\n",
       "      <td>4.962845</td>\n",
       "      <td>2.7891</td>\n",
       "      <td>INLAND</td>\n",
       "      <td>73500.0</td>\n",
       "    </tr>\n",
       "    <tr>\n",
       "      <th>10900</th>\n",
       "      <td>-117.84</td>\n",
       "      <td>33.74</td>\n",
       "      <td>25.0</td>\n",
       "      <td>7.506042</td>\n",
       "      <td>6.359574</td>\n",
       "      <td>7.263330</td>\n",
       "      <td>6.278521</td>\n",
       "      <td>3.2104</td>\n",
       "      <td>&lt;1H OCEAN</td>\n",
       "      <td>112500.0</td>\n",
       "    </tr>\n",
       "    <tr>\n",
       "      <th>13778</th>\n",
       "      <td>-117.06</td>\n",
       "      <td>34.02</td>\n",
       "      <td>24.0</td>\n",
       "      <td>8.272060</td>\n",
       "      <td>6.697034</td>\n",
       "      <td>7.563720</td>\n",
       "      <td>6.637258</td>\n",
       "      <td>2.6875</td>\n",
       "      <td>INLAND</td>\n",
       "      <td>116300.0</td>\n",
       "    </tr>\n",
       "    <tr>\n",
       "      <th>12814</th>\n",
       "      <td>-121.50</td>\n",
       "      <td>38.62</td>\n",
       "      <td>8.0</td>\n",
       "      <td>9.721966</td>\n",
       "      <td>8.148446</td>\n",
       "      <td>8.977146</td>\n",
       "      <td>8.110728</td>\n",
       "      <td>3.7188</td>\n",
       "      <td>INLAND</td>\n",
       "      <td>134500.0</td>\n",
       "    </tr>\n",
       "    <tr>\n",
       "      <th>7488</th>\n",
       "      <td>-118.22</td>\n",
       "      <td>33.92</td>\n",
       "      <td>43.0</td>\n",
       "      <td>7.086738</td>\n",
       "      <td>5.549076</td>\n",
       "      <td>7.132498</td>\n",
       "      <td>5.572154</td>\n",
       "      <td>3.4539</td>\n",
       "      <td>&lt;1H OCEAN</td>\n",
       "      <td>125000.0</td>\n",
       "    </tr>\n",
       "  </tbody>\n",
       "</table>\n",
       "<p>16346 rows × 10 columns</p>\n",
       "</div>"
      ],
      "text/plain": [
       "       longitude  latitude  housing_median_age  total_rooms  total_bedrooms  \\\n",
       "8126     -118.18     33.81                27.0     6.156979        4.890349   \n",
       "14750    -117.06     32.57                25.0     7.145984        5.645447   \n",
       "1478     -122.04     37.97                39.0     7.188413        5.505332   \n",
       "18276    -122.07     37.34                35.0     7.067320        5.220356   \n",
       "15252    -117.32     33.01                29.0     8.184514        6.569481   \n",
       "...          ...       ...                 ...          ...             ...   \n",
       "1197     -121.65     39.32                40.0     6.700731        5.043425   \n",
       "10900    -117.84     33.74                25.0     7.506042        6.359574   \n",
       "13778    -117.06     34.02                24.0     8.272060        6.697034   \n",
       "12814    -121.50     38.62                 8.0     9.721966        8.148446   \n",
       "7488     -118.22     33.92                43.0     7.086738        5.549076   \n",
       "\n",
       "       population  households  median_income ocean_proximity  \\\n",
       "8126     5.755742    4.574711         1.7500      NEAR OCEAN   \n",
       "14750    6.899723    5.703782         3.0284      NEAR OCEAN   \n",
       "1478     6.559615    5.568345         3.1968        NEAR BAY   \n",
       "18276    6.240276    5.170484         7.3561       <1H OCEAN   \n",
       "15252    7.390181    6.504288         4.1250      NEAR OCEAN   \n",
       "...           ...         ...            ...             ...   \n",
       "1197     5.926926    4.962845         2.7891          INLAND   \n",
       "10900    7.263330    6.278521         3.2104       <1H OCEAN   \n",
       "13778    7.563720    6.637258         2.6875          INLAND   \n",
       "12814    8.977146    8.110728         3.7188          INLAND   \n",
       "7488     7.132498    5.572154         3.4539       <1H OCEAN   \n",
       "\n",
       "       median_house_value  \n",
       "8126             154200.0  \n",
       "14750            123600.0  \n",
       "1478             151000.0  \n",
       "18276            500001.0  \n",
       "15252            394400.0  \n",
       "...                   ...  \n",
       "1197              73500.0  \n",
       "10900            112500.0  \n",
       "13778            116300.0  \n",
       "12814            134500.0  \n",
       "7488             125000.0  \n",
       "\n",
       "[16346 rows x 10 columns]"
      ]
     },
     "execution_count": 15,
     "metadata": {},
     "output_type": "execute_result"
    }
   ],
   "source": [
    "train_data"
   ]
  },
  {
   "cell_type": "code",
   "execution_count": 16,
   "id": "ed3c55be",
   "metadata": {
    "execution": {
     "iopub.execute_input": "2024-03-01T16:35:27.962804Z",
     "iopub.status.busy": "2024-03-01T16:35:27.962394Z",
     "iopub.status.idle": "2024-03-01T16:35:27.969222Z",
     "shell.execute_reply": "2024-03-01T16:35:27.968070Z"
    },
    "papermill": {
     "duration": 0.027332,
     "end_time": "2024-03-01T16:35:27.971491",
     "exception": false,
     "start_time": "2024-03-01T16:35:27.944159",
     "status": "completed"
    },
    "tags": []
   },
   "outputs": [
    {
     "data": {
      "text/plain": [
       "Index(['longitude', 'latitude', 'housing_median_age', 'total_rooms',\n",
       "       'total_bedrooms', 'population', 'households', 'median_income',\n",
       "       'ocean_proximity', 'median_house_value'],\n",
       "      dtype='object')"
      ]
     },
     "execution_count": 16,
     "metadata": {},
     "output_type": "execute_result"
    }
   ],
   "source": [
    "train_data.columns"
   ]
  },
  {
   "cell_type": "markdown",
   "id": "564b6e7d",
   "metadata": {
    "papermill": {
     "duration": 0.016852,
     "end_time": "2024-03-01T16:35:28.004952",
     "exception": false,
     "start_time": "2024-03-01T16:35:27.988100",
     "status": "completed"
    },
    "tags": []
   },
   "source": [
    "# **CONVERTING THE COLUMN \"OCEAN PROXIMITY\" INTO MORE RELIABLE ATTRIBUTE OF OUR DATASET FOR BETTER TRAINING OF OUR MODEL**"
   ]
  },
  {
   "cell_type": "markdown",
   "id": "33d748f5",
   "metadata": {
    "papermill": {
     "duration": 0.017481,
     "end_time": "2024-03-01T16:35:28.039752",
     "exception": false,
     "start_time": "2024-03-01T16:35:28.022271",
     "status": "completed"
    },
    "tags": []
   },
   "source": [
    "# USING ONE - HOT ENCODING"
   ]
  },
  {
   "cell_type": "code",
   "execution_count": 17,
   "id": "4d9603ba",
   "metadata": {
    "execution": {
     "iopub.execute_input": "2024-03-01T16:35:28.074779Z",
     "iopub.status.busy": "2024-03-01T16:35:28.074367Z",
     "iopub.status.idle": "2024-03-01T16:35:28.088350Z",
     "shell.execute_reply": "2024-03-01T16:35:28.087140Z"
    },
    "papermill": {
     "duration": 0.0347,
     "end_time": "2024-03-01T16:35:28.091171",
     "exception": false,
     "start_time": "2024-03-01T16:35:28.056471",
     "status": "completed"
    },
    "tags": []
   },
   "outputs": [],
   "source": [
    "import pandas as pd\n",
    "\n",
    "# Assuming train_data is your DataFrame\n",
    "\n",
    "# One-hot encode 'ocean_proximity' and replace boolean values with integers\n",
    "train_data = train_data.join(pd.get_dummies(train_data['ocean_proximity'])).drop(['ocean_proximity'], axis=1)"
   ]
  },
  {
   "cell_type": "code",
   "execution_count": 18,
   "id": "1dfeb5c0",
   "metadata": {
    "execution": {
     "iopub.execute_input": "2024-03-01T16:35:28.126177Z",
     "iopub.status.busy": "2024-03-01T16:35:28.125404Z",
     "iopub.status.idle": "2024-03-01T16:35:28.148049Z",
     "shell.execute_reply": "2024-03-01T16:35:28.146897Z"
    },
    "papermill": {
     "duration": 0.042946,
     "end_time": "2024-03-01T16:35:28.150426",
     "exception": false,
     "start_time": "2024-03-01T16:35:28.107480",
     "status": "completed"
    },
    "tags": []
   },
   "outputs": [
    {
     "data": {
      "text/html": [
       "<div>\n",
       "<style scoped>\n",
       "    .dataframe tbody tr th:only-of-type {\n",
       "        vertical-align: middle;\n",
       "    }\n",
       "\n",
       "    .dataframe tbody tr th {\n",
       "        vertical-align: top;\n",
       "    }\n",
       "\n",
       "    .dataframe thead th {\n",
       "        text-align: right;\n",
       "    }\n",
       "</style>\n",
       "<table border=\"1\" class=\"dataframe\">\n",
       "  <thead>\n",
       "    <tr style=\"text-align: right;\">\n",
       "      <th></th>\n",
       "      <th>longitude</th>\n",
       "      <th>latitude</th>\n",
       "      <th>housing_median_age</th>\n",
       "      <th>total_rooms</th>\n",
       "      <th>total_bedrooms</th>\n",
       "      <th>population</th>\n",
       "      <th>households</th>\n",
       "      <th>median_income</th>\n",
       "      <th>median_house_value</th>\n",
       "      <th>&lt;1H OCEAN</th>\n",
       "      <th>INLAND</th>\n",
       "      <th>ISLAND</th>\n",
       "      <th>NEAR BAY</th>\n",
       "      <th>NEAR OCEAN</th>\n",
       "    </tr>\n",
       "  </thead>\n",
       "  <tbody>\n",
       "    <tr>\n",
       "      <th>8126</th>\n",
       "      <td>-118.18</td>\n",
       "      <td>33.81</td>\n",
       "      <td>27.0</td>\n",
       "      <td>6.156979</td>\n",
       "      <td>4.890349</td>\n",
       "      <td>5.755742</td>\n",
       "      <td>4.574711</td>\n",
       "      <td>1.7500</td>\n",
       "      <td>154200.0</td>\n",
       "      <td>False</td>\n",
       "      <td>False</td>\n",
       "      <td>False</td>\n",
       "      <td>False</td>\n",
       "      <td>True</td>\n",
       "    </tr>\n",
       "    <tr>\n",
       "      <th>14750</th>\n",
       "      <td>-117.06</td>\n",
       "      <td>32.57</td>\n",
       "      <td>25.0</td>\n",
       "      <td>7.145984</td>\n",
       "      <td>5.645447</td>\n",
       "      <td>6.899723</td>\n",
       "      <td>5.703782</td>\n",
       "      <td>3.0284</td>\n",
       "      <td>123600.0</td>\n",
       "      <td>False</td>\n",
       "      <td>False</td>\n",
       "      <td>False</td>\n",
       "      <td>False</td>\n",
       "      <td>True</td>\n",
       "    </tr>\n",
       "    <tr>\n",
       "      <th>1478</th>\n",
       "      <td>-122.04</td>\n",
       "      <td>37.97</td>\n",
       "      <td>39.0</td>\n",
       "      <td>7.188413</td>\n",
       "      <td>5.505332</td>\n",
       "      <td>6.559615</td>\n",
       "      <td>5.568345</td>\n",
       "      <td>3.1968</td>\n",
       "      <td>151000.0</td>\n",
       "      <td>False</td>\n",
       "      <td>False</td>\n",
       "      <td>False</td>\n",
       "      <td>True</td>\n",
       "      <td>False</td>\n",
       "    </tr>\n",
       "    <tr>\n",
       "      <th>18276</th>\n",
       "      <td>-122.07</td>\n",
       "      <td>37.34</td>\n",
       "      <td>35.0</td>\n",
       "      <td>7.067320</td>\n",
       "      <td>5.220356</td>\n",
       "      <td>6.240276</td>\n",
       "      <td>5.170484</td>\n",
       "      <td>7.3561</td>\n",
       "      <td>500001.0</td>\n",
       "      <td>True</td>\n",
       "      <td>False</td>\n",
       "      <td>False</td>\n",
       "      <td>False</td>\n",
       "      <td>False</td>\n",
       "    </tr>\n",
       "    <tr>\n",
       "      <th>15252</th>\n",
       "      <td>-117.32</td>\n",
       "      <td>33.01</td>\n",
       "      <td>29.0</td>\n",
       "      <td>8.184514</td>\n",
       "      <td>6.569481</td>\n",
       "      <td>7.390181</td>\n",
       "      <td>6.504288</td>\n",
       "      <td>4.1250</td>\n",
       "      <td>394400.0</td>\n",
       "      <td>False</td>\n",
       "      <td>False</td>\n",
       "      <td>False</td>\n",
       "      <td>False</td>\n",
       "      <td>True</td>\n",
       "    </tr>\n",
       "    <tr>\n",
       "      <th>...</th>\n",
       "      <td>...</td>\n",
       "      <td>...</td>\n",
       "      <td>...</td>\n",
       "      <td>...</td>\n",
       "      <td>...</td>\n",
       "      <td>...</td>\n",
       "      <td>...</td>\n",
       "      <td>...</td>\n",
       "      <td>...</td>\n",
       "      <td>...</td>\n",
       "      <td>...</td>\n",
       "      <td>...</td>\n",
       "      <td>...</td>\n",
       "      <td>...</td>\n",
       "    </tr>\n",
       "    <tr>\n",
       "      <th>1197</th>\n",
       "      <td>-121.65</td>\n",
       "      <td>39.32</td>\n",
       "      <td>40.0</td>\n",
       "      <td>6.700731</td>\n",
       "      <td>5.043425</td>\n",
       "      <td>5.926926</td>\n",
       "      <td>4.962845</td>\n",
       "      <td>2.7891</td>\n",
       "      <td>73500.0</td>\n",
       "      <td>False</td>\n",
       "      <td>True</td>\n",
       "      <td>False</td>\n",
       "      <td>False</td>\n",
       "      <td>False</td>\n",
       "    </tr>\n",
       "    <tr>\n",
       "      <th>10900</th>\n",
       "      <td>-117.84</td>\n",
       "      <td>33.74</td>\n",
       "      <td>25.0</td>\n",
       "      <td>7.506042</td>\n",
       "      <td>6.359574</td>\n",
       "      <td>7.263330</td>\n",
       "      <td>6.278521</td>\n",
       "      <td>3.2104</td>\n",
       "      <td>112500.0</td>\n",
       "      <td>True</td>\n",
       "      <td>False</td>\n",
       "      <td>False</td>\n",
       "      <td>False</td>\n",
       "      <td>False</td>\n",
       "    </tr>\n",
       "    <tr>\n",
       "      <th>13778</th>\n",
       "      <td>-117.06</td>\n",
       "      <td>34.02</td>\n",
       "      <td>24.0</td>\n",
       "      <td>8.272060</td>\n",
       "      <td>6.697034</td>\n",
       "      <td>7.563720</td>\n",
       "      <td>6.637258</td>\n",
       "      <td>2.6875</td>\n",
       "      <td>116300.0</td>\n",
       "      <td>False</td>\n",
       "      <td>True</td>\n",
       "      <td>False</td>\n",
       "      <td>False</td>\n",
       "      <td>False</td>\n",
       "    </tr>\n",
       "    <tr>\n",
       "      <th>12814</th>\n",
       "      <td>-121.50</td>\n",
       "      <td>38.62</td>\n",
       "      <td>8.0</td>\n",
       "      <td>9.721966</td>\n",
       "      <td>8.148446</td>\n",
       "      <td>8.977146</td>\n",
       "      <td>8.110728</td>\n",
       "      <td>3.7188</td>\n",
       "      <td>134500.0</td>\n",
       "      <td>False</td>\n",
       "      <td>True</td>\n",
       "      <td>False</td>\n",
       "      <td>False</td>\n",
       "      <td>False</td>\n",
       "    </tr>\n",
       "    <tr>\n",
       "      <th>7488</th>\n",
       "      <td>-118.22</td>\n",
       "      <td>33.92</td>\n",
       "      <td>43.0</td>\n",
       "      <td>7.086738</td>\n",
       "      <td>5.549076</td>\n",
       "      <td>7.132498</td>\n",
       "      <td>5.572154</td>\n",
       "      <td>3.4539</td>\n",
       "      <td>125000.0</td>\n",
       "      <td>True</td>\n",
       "      <td>False</td>\n",
       "      <td>False</td>\n",
       "      <td>False</td>\n",
       "      <td>False</td>\n",
       "    </tr>\n",
       "  </tbody>\n",
       "</table>\n",
       "<p>16346 rows × 14 columns</p>\n",
       "</div>"
      ],
      "text/plain": [
       "       longitude  latitude  housing_median_age  total_rooms  total_bedrooms  \\\n",
       "8126     -118.18     33.81                27.0     6.156979        4.890349   \n",
       "14750    -117.06     32.57                25.0     7.145984        5.645447   \n",
       "1478     -122.04     37.97                39.0     7.188413        5.505332   \n",
       "18276    -122.07     37.34                35.0     7.067320        5.220356   \n",
       "15252    -117.32     33.01                29.0     8.184514        6.569481   \n",
       "...          ...       ...                 ...          ...             ...   \n",
       "1197     -121.65     39.32                40.0     6.700731        5.043425   \n",
       "10900    -117.84     33.74                25.0     7.506042        6.359574   \n",
       "13778    -117.06     34.02                24.0     8.272060        6.697034   \n",
       "12814    -121.50     38.62                 8.0     9.721966        8.148446   \n",
       "7488     -118.22     33.92                43.0     7.086738        5.549076   \n",
       "\n",
       "       population  households  median_income  median_house_value  <1H OCEAN  \\\n",
       "8126     5.755742    4.574711         1.7500            154200.0      False   \n",
       "14750    6.899723    5.703782         3.0284            123600.0      False   \n",
       "1478     6.559615    5.568345         3.1968            151000.0      False   \n",
       "18276    6.240276    5.170484         7.3561            500001.0       True   \n",
       "15252    7.390181    6.504288         4.1250            394400.0      False   \n",
       "...           ...         ...            ...                 ...        ...   \n",
       "1197     5.926926    4.962845         2.7891             73500.0      False   \n",
       "10900    7.263330    6.278521         3.2104            112500.0       True   \n",
       "13778    7.563720    6.637258         2.6875            116300.0      False   \n",
       "12814    8.977146    8.110728         3.7188            134500.0      False   \n",
       "7488     7.132498    5.572154         3.4539            125000.0       True   \n",
       "\n",
       "       INLAND  ISLAND  NEAR BAY  NEAR OCEAN  \n",
       "8126    False   False     False        True  \n",
       "14750   False   False     False        True  \n",
       "1478    False   False      True       False  \n",
       "18276   False   False     False       False  \n",
       "15252   False   False     False        True  \n",
       "...       ...     ...       ...         ...  \n",
       "1197     True   False     False       False  \n",
       "10900   False   False     False       False  \n",
       "13778    True   False     False       False  \n",
       "12814    True   False     False       False  \n",
       "7488    False   False     False       False  \n",
       "\n",
       "[16346 rows x 14 columns]"
      ]
     },
     "execution_count": 18,
     "metadata": {},
     "output_type": "execute_result"
    }
   ],
   "source": [
    "train_data"
   ]
  },
  {
   "cell_type": "markdown",
   "id": "c6637365",
   "metadata": {
    "papermill": {
     "duration": 0.01687,
     "end_time": "2024-03-01T16:35:28.184701",
     "exception": false,
     "start_time": "2024-03-01T16:35:28.167831",
     "status": "completed"
    },
    "tags": []
   },
   "source": []
  },
  {
   "cell_type": "markdown",
   "id": "69f5ec0b",
   "metadata": {
    "papermill": {
     "duration": 0.017103,
     "end_time": "2024-03-01T16:35:28.219377",
     "exception": false,
     "start_time": "2024-03-01T16:35:28.202274",
     "status": "completed"
    },
    "tags": []
   },
   "source": [
    "# **REPLACING BOOLEAN VALUES(TRUE/ FALSE) WITH INTEGERS****"
   ]
  },
  {
   "cell_type": "code",
   "execution_count": 19,
   "id": "f95e1365",
   "metadata": {
    "execution": {
     "iopub.execute_input": "2024-03-01T16:35:28.257137Z",
     "iopub.status.busy": "2024-03-01T16:35:28.256389Z",
     "iopub.status.idle": "2024-03-01T16:35:28.303433Z",
     "shell.execute_reply": "2024-03-01T16:35:28.302257Z"
    },
    "papermill": {
     "duration": 0.068929,
     "end_time": "2024-03-01T16:35:28.306139",
     "exception": false,
     "start_time": "2024-03-01T16:35:28.237210",
     "status": "completed"
    },
    "tags": []
   },
   "outputs": [
    {
     "name": "stderr",
     "output_type": "stream",
     "text": [
      "/tmp/ipykernel_18/2912464063.py:2: FutureWarning: A value is trying to be set on a copy of a DataFrame or Series through chained assignment using an inplace method.\n",
      "The behavior will change in pandas 3.0. This inplace method will never work because the intermediate object on which we are setting values always behaves as a copy.\n",
      "\n",
      "For example, when doing 'df[col].method(value, inplace=True)', try using 'df.method({col: value}, inplace=True)' or df[col] = df[col].method(value) instead, to perform the operation inplace on the original object.\n",
      "\n",
      "\n",
      "  train_data[col].replace({False: 0, True: 1}, inplace=True)\n",
      "/tmp/ipykernel_18/2912464063.py:2: FutureWarning: Downcasting behavior in `replace` is deprecated and will be removed in a future version. To retain the old behavior, explicitly call `result.infer_objects(copy=False)`. To opt-in to the future behavior, set `pd.set_option('future.no_silent_downcasting', True)`\n",
      "  train_data[col].replace({False: 0, True: 1}, inplace=True)\n"
     ]
    }
   ],
   "source": [
    "for col in train_data.select_dtypes(include=bool).columns:\n",
    "    train_data[col].replace({False: 0, True: 1}, inplace=True)"
   ]
  },
  {
   "cell_type": "code",
   "execution_count": 20,
   "id": "4cee5996",
   "metadata": {
    "execution": {
     "iopub.execute_input": "2024-03-01T16:35:28.343719Z",
     "iopub.status.busy": "2024-03-01T16:35:28.343042Z",
     "iopub.status.idle": "2024-03-01T16:35:28.365448Z",
     "shell.execute_reply": "2024-03-01T16:35:28.364271Z"
    },
    "papermill": {
     "duration": 0.044261,
     "end_time": "2024-03-01T16:35:28.367774",
     "exception": false,
     "start_time": "2024-03-01T16:35:28.323513",
     "status": "completed"
    },
    "tags": []
   },
   "outputs": [
    {
     "data": {
      "text/html": [
       "<div>\n",
       "<style scoped>\n",
       "    .dataframe tbody tr th:only-of-type {\n",
       "        vertical-align: middle;\n",
       "    }\n",
       "\n",
       "    .dataframe tbody tr th {\n",
       "        vertical-align: top;\n",
       "    }\n",
       "\n",
       "    .dataframe thead th {\n",
       "        text-align: right;\n",
       "    }\n",
       "</style>\n",
       "<table border=\"1\" class=\"dataframe\">\n",
       "  <thead>\n",
       "    <tr style=\"text-align: right;\">\n",
       "      <th></th>\n",
       "      <th>longitude</th>\n",
       "      <th>latitude</th>\n",
       "      <th>housing_median_age</th>\n",
       "      <th>total_rooms</th>\n",
       "      <th>total_bedrooms</th>\n",
       "      <th>population</th>\n",
       "      <th>households</th>\n",
       "      <th>median_income</th>\n",
       "      <th>median_house_value</th>\n",
       "      <th>&lt;1H OCEAN</th>\n",
       "      <th>INLAND</th>\n",
       "      <th>ISLAND</th>\n",
       "      <th>NEAR BAY</th>\n",
       "      <th>NEAR OCEAN</th>\n",
       "    </tr>\n",
       "  </thead>\n",
       "  <tbody>\n",
       "    <tr>\n",
       "      <th>8126</th>\n",
       "      <td>-118.18</td>\n",
       "      <td>33.81</td>\n",
       "      <td>27.0</td>\n",
       "      <td>6.156979</td>\n",
       "      <td>4.890349</td>\n",
       "      <td>5.755742</td>\n",
       "      <td>4.574711</td>\n",
       "      <td>1.7500</td>\n",
       "      <td>154200.0</td>\n",
       "      <td>0</td>\n",
       "      <td>0</td>\n",
       "      <td>0</td>\n",
       "      <td>0</td>\n",
       "      <td>1</td>\n",
       "    </tr>\n",
       "    <tr>\n",
       "      <th>14750</th>\n",
       "      <td>-117.06</td>\n",
       "      <td>32.57</td>\n",
       "      <td>25.0</td>\n",
       "      <td>7.145984</td>\n",
       "      <td>5.645447</td>\n",
       "      <td>6.899723</td>\n",
       "      <td>5.703782</td>\n",
       "      <td>3.0284</td>\n",
       "      <td>123600.0</td>\n",
       "      <td>0</td>\n",
       "      <td>0</td>\n",
       "      <td>0</td>\n",
       "      <td>0</td>\n",
       "      <td>1</td>\n",
       "    </tr>\n",
       "    <tr>\n",
       "      <th>1478</th>\n",
       "      <td>-122.04</td>\n",
       "      <td>37.97</td>\n",
       "      <td>39.0</td>\n",
       "      <td>7.188413</td>\n",
       "      <td>5.505332</td>\n",
       "      <td>6.559615</td>\n",
       "      <td>5.568345</td>\n",
       "      <td>3.1968</td>\n",
       "      <td>151000.0</td>\n",
       "      <td>0</td>\n",
       "      <td>0</td>\n",
       "      <td>0</td>\n",
       "      <td>1</td>\n",
       "      <td>0</td>\n",
       "    </tr>\n",
       "    <tr>\n",
       "      <th>18276</th>\n",
       "      <td>-122.07</td>\n",
       "      <td>37.34</td>\n",
       "      <td>35.0</td>\n",
       "      <td>7.067320</td>\n",
       "      <td>5.220356</td>\n",
       "      <td>6.240276</td>\n",
       "      <td>5.170484</td>\n",
       "      <td>7.3561</td>\n",
       "      <td>500001.0</td>\n",
       "      <td>1</td>\n",
       "      <td>0</td>\n",
       "      <td>0</td>\n",
       "      <td>0</td>\n",
       "      <td>0</td>\n",
       "    </tr>\n",
       "    <tr>\n",
       "      <th>15252</th>\n",
       "      <td>-117.32</td>\n",
       "      <td>33.01</td>\n",
       "      <td>29.0</td>\n",
       "      <td>8.184514</td>\n",
       "      <td>6.569481</td>\n",
       "      <td>7.390181</td>\n",
       "      <td>6.504288</td>\n",
       "      <td>4.1250</td>\n",
       "      <td>394400.0</td>\n",
       "      <td>0</td>\n",
       "      <td>0</td>\n",
       "      <td>0</td>\n",
       "      <td>0</td>\n",
       "      <td>1</td>\n",
       "    </tr>\n",
       "    <tr>\n",
       "      <th>...</th>\n",
       "      <td>...</td>\n",
       "      <td>...</td>\n",
       "      <td>...</td>\n",
       "      <td>...</td>\n",
       "      <td>...</td>\n",
       "      <td>...</td>\n",
       "      <td>...</td>\n",
       "      <td>...</td>\n",
       "      <td>...</td>\n",
       "      <td>...</td>\n",
       "      <td>...</td>\n",
       "      <td>...</td>\n",
       "      <td>...</td>\n",
       "      <td>...</td>\n",
       "    </tr>\n",
       "    <tr>\n",
       "      <th>1197</th>\n",
       "      <td>-121.65</td>\n",
       "      <td>39.32</td>\n",
       "      <td>40.0</td>\n",
       "      <td>6.700731</td>\n",
       "      <td>5.043425</td>\n",
       "      <td>5.926926</td>\n",
       "      <td>4.962845</td>\n",
       "      <td>2.7891</td>\n",
       "      <td>73500.0</td>\n",
       "      <td>0</td>\n",
       "      <td>1</td>\n",
       "      <td>0</td>\n",
       "      <td>0</td>\n",
       "      <td>0</td>\n",
       "    </tr>\n",
       "    <tr>\n",
       "      <th>10900</th>\n",
       "      <td>-117.84</td>\n",
       "      <td>33.74</td>\n",
       "      <td>25.0</td>\n",
       "      <td>7.506042</td>\n",
       "      <td>6.359574</td>\n",
       "      <td>7.263330</td>\n",
       "      <td>6.278521</td>\n",
       "      <td>3.2104</td>\n",
       "      <td>112500.0</td>\n",
       "      <td>1</td>\n",
       "      <td>0</td>\n",
       "      <td>0</td>\n",
       "      <td>0</td>\n",
       "      <td>0</td>\n",
       "    </tr>\n",
       "    <tr>\n",
       "      <th>13778</th>\n",
       "      <td>-117.06</td>\n",
       "      <td>34.02</td>\n",
       "      <td>24.0</td>\n",
       "      <td>8.272060</td>\n",
       "      <td>6.697034</td>\n",
       "      <td>7.563720</td>\n",
       "      <td>6.637258</td>\n",
       "      <td>2.6875</td>\n",
       "      <td>116300.0</td>\n",
       "      <td>0</td>\n",
       "      <td>1</td>\n",
       "      <td>0</td>\n",
       "      <td>0</td>\n",
       "      <td>0</td>\n",
       "    </tr>\n",
       "    <tr>\n",
       "      <th>12814</th>\n",
       "      <td>-121.50</td>\n",
       "      <td>38.62</td>\n",
       "      <td>8.0</td>\n",
       "      <td>9.721966</td>\n",
       "      <td>8.148446</td>\n",
       "      <td>8.977146</td>\n",
       "      <td>8.110728</td>\n",
       "      <td>3.7188</td>\n",
       "      <td>134500.0</td>\n",
       "      <td>0</td>\n",
       "      <td>1</td>\n",
       "      <td>0</td>\n",
       "      <td>0</td>\n",
       "      <td>0</td>\n",
       "    </tr>\n",
       "    <tr>\n",
       "      <th>7488</th>\n",
       "      <td>-118.22</td>\n",
       "      <td>33.92</td>\n",
       "      <td>43.0</td>\n",
       "      <td>7.086738</td>\n",
       "      <td>5.549076</td>\n",
       "      <td>7.132498</td>\n",
       "      <td>5.572154</td>\n",
       "      <td>3.4539</td>\n",
       "      <td>125000.0</td>\n",
       "      <td>1</td>\n",
       "      <td>0</td>\n",
       "      <td>0</td>\n",
       "      <td>0</td>\n",
       "      <td>0</td>\n",
       "    </tr>\n",
       "  </tbody>\n",
       "</table>\n",
       "<p>16346 rows × 14 columns</p>\n",
       "</div>"
      ],
      "text/plain": [
       "       longitude  latitude  housing_median_age  total_rooms  total_bedrooms  \\\n",
       "8126     -118.18     33.81                27.0     6.156979        4.890349   \n",
       "14750    -117.06     32.57                25.0     7.145984        5.645447   \n",
       "1478     -122.04     37.97                39.0     7.188413        5.505332   \n",
       "18276    -122.07     37.34                35.0     7.067320        5.220356   \n",
       "15252    -117.32     33.01                29.0     8.184514        6.569481   \n",
       "...          ...       ...                 ...          ...             ...   \n",
       "1197     -121.65     39.32                40.0     6.700731        5.043425   \n",
       "10900    -117.84     33.74                25.0     7.506042        6.359574   \n",
       "13778    -117.06     34.02                24.0     8.272060        6.697034   \n",
       "12814    -121.50     38.62                 8.0     9.721966        8.148446   \n",
       "7488     -118.22     33.92                43.0     7.086738        5.549076   \n",
       "\n",
       "       population  households  median_income  median_house_value  <1H OCEAN  \\\n",
       "8126     5.755742    4.574711         1.7500            154200.0          0   \n",
       "14750    6.899723    5.703782         3.0284            123600.0          0   \n",
       "1478     6.559615    5.568345         3.1968            151000.0          0   \n",
       "18276    6.240276    5.170484         7.3561            500001.0          1   \n",
       "15252    7.390181    6.504288         4.1250            394400.0          0   \n",
       "...           ...         ...            ...                 ...        ...   \n",
       "1197     5.926926    4.962845         2.7891             73500.0          0   \n",
       "10900    7.263330    6.278521         3.2104            112500.0          1   \n",
       "13778    7.563720    6.637258         2.6875            116300.0          0   \n",
       "12814    8.977146    8.110728         3.7188            134500.0          0   \n",
       "7488     7.132498    5.572154         3.4539            125000.0          1   \n",
       "\n",
       "       INLAND  ISLAND  NEAR BAY  NEAR OCEAN  \n",
       "8126        0       0         0           1  \n",
       "14750       0       0         0           1  \n",
       "1478        0       0         1           0  \n",
       "18276       0       0         0           0  \n",
       "15252       0       0         0           1  \n",
       "...       ...     ...       ...         ...  \n",
       "1197        1       0         0           0  \n",
       "10900       0       0         0           0  \n",
       "13778       1       0         0           0  \n",
       "12814       1       0         0           0  \n",
       "7488        0       0         0           0  \n",
       "\n",
       "[16346 rows x 14 columns]"
      ]
     },
     "execution_count": 20,
     "metadata": {},
     "output_type": "execute_result"
    }
   ],
   "source": [
    "train_data"
   ]
  },
  {
   "cell_type": "code",
   "execution_count": 21,
   "id": "481df2fa",
   "metadata": {
    "execution": {
     "iopub.execute_input": "2024-03-01T16:35:28.405453Z",
     "iopub.status.busy": "2024-03-01T16:35:28.404808Z",
     "iopub.status.idle": "2024-03-01T16:35:28.409528Z",
     "shell.execute_reply": "2024-03-01T16:35:28.408470Z"
    },
    "papermill": {
     "duration": 0.026755,
     "end_time": "2024-03-01T16:35:28.411865",
     "exception": false,
     "start_time": "2024-03-01T16:35:28.385110",
     "status": "completed"
    },
    "tags": []
   },
   "outputs": [],
   "source": [
    "# Replace boolean values with integers explicitly without triggering the warning\n",
    "# train_data['ocean_proximity'] = train_data['ocean_proximity'].replace({True: 1, False: 0})\n",
    "# train_data = train_data.infer_objects(copy=False)"
   ]
  },
  {
   "cell_type": "code",
   "execution_count": 22,
   "id": "db0173ea",
   "metadata": {
    "execution": {
     "iopub.execute_input": "2024-03-01T16:35:28.449147Z",
     "iopub.status.busy": "2024-03-01T16:35:28.448485Z",
     "iopub.status.idle": "2024-03-01T16:35:28.472092Z",
     "shell.execute_reply": "2024-03-01T16:35:28.470821Z"
    },
    "papermill": {
     "duration": 0.044691,
     "end_time": "2024-03-01T16:35:28.474453",
     "exception": false,
     "start_time": "2024-03-01T16:35:28.429762",
     "status": "completed"
    },
    "tags": []
   },
   "outputs": [
    {
     "data": {
      "text/html": [
       "<div>\n",
       "<style scoped>\n",
       "    .dataframe tbody tr th:only-of-type {\n",
       "        vertical-align: middle;\n",
       "    }\n",
       "\n",
       "    .dataframe tbody tr th {\n",
       "        vertical-align: top;\n",
       "    }\n",
       "\n",
       "    .dataframe thead th {\n",
       "        text-align: right;\n",
       "    }\n",
       "</style>\n",
       "<table border=\"1\" class=\"dataframe\">\n",
       "  <thead>\n",
       "    <tr style=\"text-align: right;\">\n",
       "      <th></th>\n",
       "      <th>longitude</th>\n",
       "      <th>latitude</th>\n",
       "      <th>housing_median_age</th>\n",
       "      <th>total_rooms</th>\n",
       "      <th>total_bedrooms</th>\n",
       "      <th>population</th>\n",
       "      <th>households</th>\n",
       "      <th>median_income</th>\n",
       "      <th>median_house_value</th>\n",
       "      <th>&lt;1H OCEAN</th>\n",
       "      <th>INLAND</th>\n",
       "      <th>ISLAND</th>\n",
       "      <th>NEAR BAY</th>\n",
       "      <th>NEAR OCEAN</th>\n",
       "    </tr>\n",
       "  </thead>\n",
       "  <tbody>\n",
       "    <tr>\n",
       "      <th>8126</th>\n",
       "      <td>-118.18</td>\n",
       "      <td>33.81</td>\n",
       "      <td>27.0</td>\n",
       "      <td>6.156979</td>\n",
       "      <td>4.890349</td>\n",
       "      <td>5.755742</td>\n",
       "      <td>4.574711</td>\n",
       "      <td>1.7500</td>\n",
       "      <td>154200.0</td>\n",
       "      <td>0</td>\n",
       "      <td>0</td>\n",
       "      <td>0</td>\n",
       "      <td>0</td>\n",
       "      <td>1</td>\n",
       "    </tr>\n",
       "    <tr>\n",
       "      <th>14750</th>\n",
       "      <td>-117.06</td>\n",
       "      <td>32.57</td>\n",
       "      <td>25.0</td>\n",
       "      <td>7.145984</td>\n",
       "      <td>5.645447</td>\n",
       "      <td>6.899723</td>\n",
       "      <td>5.703782</td>\n",
       "      <td>3.0284</td>\n",
       "      <td>123600.0</td>\n",
       "      <td>0</td>\n",
       "      <td>0</td>\n",
       "      <td>0</td>\n",
       "      <td>0</td>\n",
       "      <td>1</td>\n",
       "    </tr>\n",
       "    <tr>\n",
       "      <th>1478</th>\n",
       "      <td>-122.04</td>\n",
       "      <td>37.97</td>\n",
       "      <td>39.0</td>\n",
       "      <td>7.188413</td>\n",
       "      <td>5.505332</td>\n",
       "      <td>6.559615</td>\n",
       "      <td>5.568345</td>\n",
       "      <td>3.1968</td>\n",
       "      <td>151000.0</td>\n",
       "      <td>0</td>\n",
       "      <td>0</td>\n",
       "      <td>0</td>\n",
       "      <td>1</td>\n",
       "      <td>0</td>\n",
       "    </tr>\n",
       "    <tr>\n",
       "      <th>18276</th>\n",
       "      <td>-122.07</td>\n",
       "      <td>37.34</td>\n",
       "      <td>35.0</td>\n",
       "      <td>7.067320</td>\n",
       "      <td>5.220356</td>\n",
       "      <td>6.240276</td>\n",
       "      <td>5.170484</td>\n",
       "      <td>7.3561</td>\n",
       "      <td>500001.0</td>\n",
       "      <td>1</td>\n",
       "      <td>0</td>\n",
       "      <td>0</td>\n",
       "      <td>0</td>\n",
       "      <td>0</td>\n",
       "    </tr>\n",
       "    <tr>\n",
       "      <th>15252</th>\n",
       "      <td>-117.32</td>\n",
       "      <td>33.01</td>\n",
       "      <td>29.0</td>\n",
       "      <td>8.184514</td>\n",
       "      <td>6.569481</td>\n",
       "      <td>7.390181</td>\n",
       "      <td>6.504288</td>\n",
       "      <td>4.1250</td>\n",
       "      <td>394400.0</td>\n",
       "      <td>0</td>\n",
       "      <td>0</td>\n",
       "      <td>0</td>\n",
       "      <td>0</td>\n",
       "      <td>1</td>\n",
       "    </tr>\n",
       "    <tr>\n",
       "      <th>...</th>\n",
       "      <td>...</td>\n",
       "      <td>...</td>\n",
       "      <td>...</td>\n",
       "      <td>...</td>\n",
       "      <td>...</td>\n",
       "      <td>...</td>\n",
       "      <td>...</td>\n",
       "      <td>...</td>\n",
       "      <td>...</td>\n",
       "      <td>...</td>\n",
       "      <td>...</td>\n",
       "      <td>...</td>\n",
       "      <td>...</td>\n",
       "      <td>...</td>\n",
       "    </tr>\n",
       "    <tr>\n",
       "      <th>1197</th>\n",
       "      <td>-121.65</td>\n",
       "      <td>39.32</td>\n",
       "      <td>40.0</td>\n",
       "      <td>6.700731</td>\n",
       "      <td>5.043425</td>\n",
       "      <td>5.926926</td>\n",
       "      <td>4.962845</td>\n",
       "      <td>2.7891</td>\n",
       "      <td>73500.0</td>\n",
       "      <td>0</td>\n",
       "      <td>1</td>\n",
       "      <td>0</td>\n",
       "      <td>0</td>\n",
       "      <td>0</td>\n",
       "    </tr>\n",
       "    <tr>\n",
       "      <th>10900</th>\n",
       "      <td>-117.84</td>\n",
       "      <td>33.74</td>\n",
       "      <td>25.0</td>\n",
       "      <td>7.506042</td>\n",
       "      <td>6.359574</td>\n",
       "      <td>7.263330</td>\n",
       "      <td>6.278521</td>\n",
       "      <td>3.2104</td>\n",
       "      <td>112500.0</td>\n",
       "      <td>1</td>\n",
       "      <td>0</td>\n",
       "      <td>0</td>\n",
       "      <td>0</td>\n",
       "      <td>0</td>\n",
       "    </tr>\n",
       "    <tr>\n",
       "      <th>13778</th>\n",
       "      <td>-117.06</td>\n",
       "      <td>34.02</td>\n",
       "      <td>24.0</td>\n",
       "      <td>8.272060</td>\n",
       "      <td>6.697034</td>\n",
       "      <td>7.563720</td>\n",
       "      <td>6.637258</td>\n",
       "      <td>2.6875</td>\n",
       "      <td>116300.0</td>\n",
       "      <td>0</td>\n",
       "      <td>1</td>\n",
       "      <td>0</td>\n",
       "      <td>0</td>\n",
       "      <td>0</td>\n",
       "    </tr>\n",
       "    <tr>\n",
       "      <th>12814</th>\n",
       "      <td>-121.50</td>\n",
       "      <td>38.62</td>\n",
       "      <td>8.0</td>\n",
       "      <td>9.721966</td>\n",
       "      <td>8.148446</td>\n",
       "      <td>8.977146</td>\n",
       "      <td>8.110728</td>\n",
       "      <td>3.7188</td>\n",
       "      <td>134500.0</td>\n",
       "      <td>0</td>\n",
       "      <td>1</td>\n",
       "      <td>0</td>\n",
       "      <td>0</td>\n",
       "      <td>0</td>\n",
       "    </tr>\n",
       "    <tr>\n",
       "      <th>7488</th>\n",
       "      <td>-118.22</td>\n",
       "      <td>33.92</td>\n",
       "      <td>43.0</td>\n",
       "      <td>7.086738</td>\n",
       "      <td>5.549076</td>\n",
       "      <td>7.132498</td>\n",
       "      <td>5.572154</td>\n",
       "      <td>3.4539</td>\n",
       "      <td>125000.0</td>\n",
       "      <td>1</td>\n",
       "      <td>0</td>\n",
       "      <td>0</td>\n",
       "      <td>0</td>\n",
       "      <td>0</td>\n",
       "    </tr>\n",
       "  </tbody>\n",
       "</table>\n",
       "<p>16346 rows × 14 columns</p>\n",
       "</div>"
      ],
      "text/plain": [
       "       longitude  latitude  housing_median_age  total_rooms  total_bedrooms  \\\n",
       "8126     -118.18     33.81                27.0     6.156979        4.890349   \n",
       "14750    -117.06     32.57                25.0     7.145984        5.645447   \n",
       "1478     -122.04     37.97                39.0     7.188413        5.505332   \n",
       "18276    -122.07     37.34                35.0     7.067320        5.220356   \n",
       "15252    -117.32     33.01                29.0     8.184514        6.569481   \n",
       "...          ...       ...                 ...          ...             ...   \n",
       "1197     -121.65     39.32                40.0     6.700731        5.043425   \n",
       "10900    -117.84     33.74                25.0     7.506042        6.359574   \n",
       "13778    -117.06     34.02                24.0     8.272060        6.697034   \n",
       "12814    -121.50     38.62                 8.0     9.721966        8.148446   \n",
       "7488     -118.22     33.92                43.0     7.086738        5.549076   \n",
       "\n",
       "       population  households  median_income  median_house_value  <1H OCEAN  \\\n",
       "8126     5.755742    4.574711         1.7500            154200.0          0   \n",
       "14750    6.899723    5.703782         3.0284            123600.0          0   \n",
       "1478     6.559615    5.568345         3.1968            151000.0          0   \n",
       "18276    6.240276    5.170484         7.3561            500001.0          1   \n",
       "15252    7.390181    6.504288         4.1250            394400.0          0   \n",
       "...           ...         ...            ...                 ...        ...   \n",
       "1197     5.926926    4.962845         2.7891             73500.0          0   \n",
       "10900    7.263330    6.278521         3.2104            112500.0          1   \n",
       "13778    7.563720    6.637258         2.6875            116300.0          0   \n",
       "12814    8.977146    8.110728         3.7188            134500.0          0   \n",
       "7488     7.132498    5.572154         3.4539            125000.0          1   \n",
       "\n",
       "       INLAND  ISLAND  NEAR BAY  NEAR OCEAN  \n",
       "8126        0       0         0           1  \n",
       "14750       0       0         0           1  \n",
       "1478        0       0         1           0  \n",
       "18276       0       0         0           0  \n",
       "15252       0       0         0           1  \n",
       "...       ...     ...       ...         ...  \n",
       "1197        1       0         0           0  \n",
       "10900       0       0         0           0  \n",
       "13778       1       0         0           0  \n",
       "12814       1       0         0           0  \n",
       "7488        0       0         0           0  \n",
       "\n",
       "[16346 rows x 14 columns]"
      ]
     },
     "execution_count": 22,
     "metadata": {},
     "output_type": "execute_result"
    }
   ],
   "source": [
    "train_data"
   ]
  },
  {
   "cell_type": "code",
   "execution_count": 23,
   "id": "c2610d69",
   "metadata": {
    "execution": {
     "iopub.execute_input": "2024-03-01T16:35:28.514058Z",
     "iopub.status.busy": "2024-03-01T16:35:28.513332Z",
     "iopub.status.idle": "2024-03-01T16:35:28.520664Z",
     "shell.execute_reply": "2024-03-01T16:35:28.519437Z"
    },
    "papermill": {
     "duration": 0.029929,
     "end_time": "2024-03-01T16:35:28.523263",
     "exception": false,
     "start_time": "2024-03-01T16:35:28.493334",
     "status": "completed"
    },
    "tags": []
   },
   "outputs": [
    {
     "data": {
      "text/plain": [
       "Index(['longitude', 'latitude', 'housing_median_age', 'total_rooms',\n",
       "       'total_bedrooms', 'population', 'households', 'median_income',\n",
       "       'median_house_value', '<1H OCEAN', 'INLAND', 'ISLAND', 'NEAR BAY',\n",
       "       'NEAR OCEAN'],\n",
       "      dtype='object')"
      ]
     },
     "execution_count": 23,
     "metadata": {},
     "output_type": "execute_result"
    }
   ],
   "source": [
    "train_data.columns"
   ]
  },
  {
   "cell_type": "markdown",
   "id": "7f699288",
   "metadata": {
    "papermill": {
     "duration": 0.017977,
     "end_time": "2024-03-01T16:35:28.559450",
     "exception": false,
     "start_time": "2024-03-01T16:35:28.541473",
     "status": "completed"
    },
    "tags": []
   },
   "source": [
    "# **ADDING ADDITIONAL HELPFUL FEATURES IN OUR MODEL**"
   ]
  },
  {
   "cell_type": "code",
   "execution_count": 24,
   "id": "0b96cf54",
   "metadata": {
    "execution": {
     "iopub.execute_input": "2024-03-01T16:35:28.598853Z",
     "iopub.status.busy": "2024-03-01T16:35:28.597693Z",
     "iopub.status.idle": "2024-03-01T16:35:28.606608Z",
     "shell.execute_reply": "2024-03-01T16:35:28.605625Z"
    },
    "papermill": {
     "duration": 0.03094,
     "end_time": "2024-03-01T16:35:28.609172",
     "exception": false,
     "start_time": "2024-03-01T16:35:28.578232",
     "status": "completed"
    },
    "tags": []
   },
   "outputs": [],
   "source": [
    "train_data['bedroom_ratio'] = train_data['total_bedrooms'] / train_data['total_rooms']\n",
    "train_data['household_rooms'] = train_data['total_rooms'] / train_data['households']"
   ]
  },
  {
   "cell_type": "code",
   "execution_count": 25,
   "id": "43fde177",
   "metadata": {
    "execution": {
     "iopub.execute_input": "2024-03-01T16:35:28.648101Z",
     "iopub.status.busy": "2024-03-01T16:35:28.647653Z",
     "iopub.status.idle": "2024-03-01T16:35:28.671269Z",
     "shell.execute_reply": "2024-03-01T16:35:28.670081Z"
    },
    "papermill": {
     "duration": 0.046538,
     "end_time": "2024-03-01T16:35:28.673716",
     "exception": false,
     "start_time": "2024-03-01T16:35:28.627178",
     "status": "completed"
    },
    "tags": []
   },
   "outputs": [
    {
     "data": {
      "text/html": [
       "<div>\n",
       "<style scoped>\n",
       "    .dataframe tbody tr th:only-of-type {\n",
       "        vertical-align: middle;\n",
       "    }\n",
       "\n",
       "    .dataframe tbody tr th {\n",
       "        vertical-align: top;\n",
       "    }\n",
       "\n",
       "    .dataframe thead th {\n",
       "        text-align: right;\n",
       "    }\n",
       "</style>\n",
       "<table border=\"1\" class=\"dataframe\">\n",
       "  <thead>\n",
       "    <tr style=\"text-align: right;\">\n",
       "      <th></th>\n",
       "      <th>longitude</th>\n",
       "      <th>latitude</th>\n",
       "      <th>housing_median_age</th>\n",
       "      <th>total_rooms</th>\n",
       "      <th>total_bedrooms</th>\n",
       "      <th>population</th>\n",
       "      <th>households</th>\n",
       "      <th>median_income</th>\n",
       "      <th>median_house_value</th>\n",
       "      <th>&lt;1H OCEAN</th>\n",
       "      <th>INLAND</th>\n",
       "      <th>ISLAND</th>\n",
       "      <th>NEAR BAY</th>\n",
       "      <th>NEAR OCEAN</th>\n",
       "      <th>bedroom_ratio</th>\n",
       "      <th>household_rooms</th>\n",
       "    </tr>\n",
       "  </thead>\n",
       "  <tbody>\n",
       "    <tr>\n",
       "      <th>8126</th>\n",
       "      <td>-118.18</td>\n",
       "      <td>33.81</td>\n",
       "      <td>27.0</td>\n",
       "      <td>6.156979</td>\n",
       "      <td>4.890349</td>\n",
       "      <td>5.755742</td>\n",
       "      <td>4.574711</td>\n",
       "      <td>1.7500</td>\n",
       "      <td>154200.0</td>\n",
       "      <td>0</td>\n",
       "      <td>0</td>\n",
       "      <td>0</td>\n",
       "      <td>0</td>\n",
       "      <td>1</td>\n",
       "      <td>0.794277</td>\n",
       "      <td>1.345873</td>\n",
       "    </tr>\n",
       "    <tr>\n",
       "      <th>14750</th>\n",
       "      <td>-117.06</td>\n",
       "      <td>32.57</td>\n",
       "      <td>25.0</td>\n",
       "      <td>7.145984</td>\n",
       "      <td>5.645447</td>\n",
       "      <td>6.899723</td>\n",
       "      <td>5.703782</td>\n",
       "      <td>3.0284</td>\n",
       "      <td>123600.0</td>\n",
       "      <td>0</td>\n",
       "      <td>0</td>\n",
       "      <td>0</td>\n",
       "      <td>0</td>\n",
       "      <td>1</td>\n",
       "      <td>0.790017</td>\n",
       "      <td>1.252850</td>\n",
       "    </tr>\n",
       "    <tr>\n",
       "      <th>1478</th>\n",
       "      <td>-122.04</td>\n",
       "      <td>37.97</td>\n",
       "      <td>39.0</td>\n",
       "      <td>7.188413</td>\n",
       "      <td>5.505332</td>\n",
       "      <td>6.559615</td>\n",
       "      <td>5.568345</td>\n",
       "      <td>3.1968</td>\n",
       "      <td>151000.0</td>\n",
       "      <td>0</td>\n",
       "      <td>0</td>\n",
       "      <td>0</td>\n",
       "      <td>1</td>\n",
       "      <td>0</td>\n",
       "      <td>0.765862</td>\n",
       "      <td>1.290943</td>\n",
       "    </tr>\n",
       "    <tr>\n",
       "      <th>18276</th>\n",
       "      <td>-122.07</td>\n",
       "      <td>37.34</td>\n",
       "      <td>35.0</td>\n",
       "      <td>7.067320</td>\n",
       "      <td>5.220356</td>\n",
       "      <td>6.240276</td>\n",
       "      <td>5.170484</td>\n",
       "      <td>7.3561</td>\n",
       "      <td>500001.0</td>\n",
       "      <td>1</td>\n",
       "      <td>0</td>\n",
       "      <td>0</td>\n",
       "      <td>0</td>\n",
       "      <td>0</td>\n",
       "      <td>0.738661</td>\n",
       "      <td>1.366858</td>\n",
       "    </tr>\n",
       "    <tr>\n",
       "      <th>15252</th>\n",
       "      <td>-117.32</td>\n",
       "      <td>33.01</td>\n",
       "      <td>29.0</td>\n",
       "      <td>8.184514</td>\n",
       "      <td>6.569481</td>\n",
       "      <td>7.390181</td>\n",
       "      <td>6.504288</td>\n",
       "      <td>4.1250</td>\n",
       "      <td>394400.0</td>\n",
       "      <td>0</td>\n",
       "      <td>0</td>\n",
       "      <td>0</td>\n",
       "      <td>0</td>\n",
       "      <td>1</td>\n",
       "      <td>0.802672</td>\n",
       "      <td>1.258326</td>\n",
       "    </tr>\n",
       "    <tr>\n",
       "      <th>...</th>\n",
       "      <td>...</td>\n",
       "      <td>...</td>\n",
       "      <td>...</td>\n",
       "      <td>...</td>\n",
       "      <td>...</td>\n",
       "      <td>...</td>\n",
       "      <td>...</td>\n",
       "      <td>...</td>\n",
       "      <td>...</td>\n",
       "      <td>...</td>\n",
       "      <td>...</td>\n",
       "      <td>...</td>\n",
       "      <td>...</td>\n",
       "      <td>...</td>\n",
       "      <td>...</td>\n",
       "      <td>...</td>\n",
       "    </tr>\n",
       "    <tr>\n",
       "      <th>1197</th>\n",
       "      <td>-121.65</td>\n",
       "      <td>39.32</td>\n",
       "      <td>40.0</td>\n",
       "      <td>6.700731</td>\n",
       "      <td>5.043425</td>\n",
       "      <td>5.926926</td>\n",
       "      <td>4.962845</td>\n",
       "      <td>2.7891</td>\n",
       "      <td>73500.0</td>\n",
       "      <td>0</td>\n",
       "      <td>1</td>\n",
       "      <td>0</td>\n",
       "      <td>0</td>\n",
       "      <td>0</td>\n",
       "      <td>0.752668</td>\n",
       "      <td>1.350180</td>\n",
       "    </tr>\n",
       "    <tr>\n",
       "      <th>10900</th>\n",
       "      <td>-117.84</td>\n",
       "      <td>33.74</td>\n",
       "      <td>25.0</td>\n",
       "      <td>7.506042</td>\n",
       "      <td>6.359574</td>\n",
       "      <td>7.263330</td>\n",
       "      <td>6.278521</td>\n",
       "      <td>3.2104</td>\n",
       "      <td>112500.0</td>\n",
       "      <td>1</td>\n",
       "      <td>0</td>\n",
       "      <td>0</td>\n",
       "      <td>0</td>\n",
       "      <td>0</td>\n",
       "      <td>0.847261</td>\n",
       "      <td>1.195511</td>\n",
       "    </tr>\n",
       "    <tr>\n",
       "      <th>13778</th>\n",
       "      <td>-117.06</td>\n",
       "      <td>34.02</td>\n",
       "      <td>24.0</td>\n",
       "      <td>8.272060</td>\n",
       "      <td>6.697034</td>\n",
       "      <td>7.563720</td>\n",
       "      <td>6.637258</td>\n",
       "      <td>2.6875</td>\n",
       "      <td>116300.0</td>\n",
       "      <td>0</td>\n",
       "      <td>1</td>\n",
       "      <td>0</td>\n",
       "      <td>0</td>\n",
       "      <td>0</td>\n",
       "      <td>0.809597</td>\n",
       "      <td>1.246307</td>\n",
       "    </tr>\n",
       "    <tr>\n",
       "      <th>12814</th>\n",
       "      <td>-121.50</td>\n",
       "      <td>38.62</td>\n",
       "      <td>8.0</td>\n",
       "      <td>9.721966</td>\n",
       "      <td>8.148446</td>\n",
       "      <td>8.977146</td>\n",
       "      <td>8.110728</td>\n",
       "      <td>3.7188</td>\n",
       "      <td>134500.0</td>\n",
       "      <td>0</td>\n",
       "      <td>1</td>\n",
       "      <td>0</td>\n",
       "      <td>0</td>\n",
       "      <td>0</td>\n",
       "      <td>0.838148</td>\n",
       "      <td>1.198655</td>\n",
       "    </tr>\n",
       "    <tr>\n",
       "      <th>7488</th>\n",
       "      <td>-118.22</td>\n",
       "      <td>33.92</td>\n",
       "      <td>43.0</td>\n",
       "      <td>7.086738</td>\n",
       "      <td>5.549076</td>\n",
       "      <td>7.132498</td>\n",
       "      <td>5.572154</td>\n",
       "      <td>3.4539</td>\n",
       "      <td>125000.0</td>\n",
       "      <td>1</td>\n",
       "      <td>0</td>\n",
       "      <td>0</td>\n",
       "      <td>0</td>\n",
       "      <td>0</td>\n",
       "      <td>0.783023</td>\n",
       "      <td>1.271813</td>\n",
       "    </tr>\n",
       "  </tbody>\n",
       "</table>\n",
       "<p>16346 rows × 16 columns</p>\n",
       "</div>"
      ],
      "text/plain": [
       "       longitude  latitude  housing_median_age  total_rooms  total_bedrooms  \\\n",
       "8126     -118.18     33.81                27.0     6.156979        4.890349   \n",
       "14750    -117.06     32.57                25.0     7.145984        5.645447   \n",
       "1478     -122.04     37.97                39.0     7.188413        5.505332   \n",
       "18276    -122.07     37.34                35.0     7.067320        5.220356   \n",
       "15252    -117.32     33.01                29.0     8.184514        6.569481   \n",
       "...          ...       ...                 ...          ...             ...   \n",
       "1197     -121.65     39.32                40.0     6.700731        5.043425   \n",
       "10900    -117.84     33.74                25.0     7.506042        6.359574   \n",
       "13778    -117.06     34.02                24.0     8.272060        6.697034   \n",
       "12814    -121.50     38.62                 8.0     9.721966        8.148446   \n",
       "7488     -118.22     33.92                43.0     7.086738        5.549076   \n",
       "\n",
       "       population  households  median_income  median_house_value  <1H OCEAN  \\\n",
       "8126     5.755742    4.574711         1.7500            154200.0          0   \n",
       "14750    6.899723    5.703782         3.0284            123600.0          0   \n",
       "1478     6.559615    5.568345         3.1968            151000.0          0   \n",
       "18276    6.240276    5.170484         7.3561            500001.0          1   \n",
       "15252    7.390181    6.504288         4.1250            394400.0          0   \n",
       "...           ...         ...            ...                 ...        ...   \n",
       "1197     5.926926    4.962845         2.7891             73500.0          0   \n",
       "10900    7.263330    6.278521         3.2104            112500.0          1   \n",
       "13778    7.563720    6.637258         2.6875            116300.0          0   \n",
       "12814    8.977146    8.110728         3.7188            134500.0          0   \n",
       "7488     7.132498    5.572154         3.4539            125000.0          1   \n",
       "\n",
       "       INLAND  ISLAND  NEAR BAY  NEAR OCEAN  bedroom_ratio  household_rooms  \n",
       "8126        0       0         0           1       0.794277         1.345873  \n",
       "14750       0       0         0           1       0.790017         1.252850  \n",
       "1478        0       0         1           0       0.765862         1.290943  \n",
       "18276       0       0         0           0       0.738661         1.366858  \n",
       "15252       0       0         0           1       0.802672         1.258326  \n",
       "...       ...     ...       ...         ...            ...              ...  \n",
       "1197        1       0         0           0       0.752668         1.350180  \n",
       "10900       0       0         0           0       0.847261         1.195511  \n",
       "13778       1       0         0           0       0.809597         1.246307  \n",
       "12814       1       0         0           0       0.838148         1.198655  \n",
       "7488        0       0         0           0       0.783023         1.271813  \n",
       "\n",
       "[16346 rows x 16 columns]"
      ]
     },
     "execution_count": 25,
     "metadata": {},
     "output_type": "execute_result"
    }
   ],
   "source": [
    "train_data"
   ]
  },
  {
   "cell_type": "markdown",
   "id": "a8acf7a0",
   "metadata": {
    "papermill": {
     "duration": 0.018763,
     "end_time": "2024-03-01T16:35:28.711464",
     "exception": false,
     "start_time": "2024-03-01T16:35:28.692701",
     "status": "completed"
    },
    "tags": []
   },
   "source": []
  },
  {
   "cell_type": "markdown",
   "id": "d7bc5292",
   "metadata": {
    "papermill": {
     "duration": 0.018824,
     "end_time": "2024-03-01T16:35:28.750453",
     "exception": false,
     "start_time": "2024-03-01T16:35:28.731629",
     "status": "completed"
    },
    "tags": []
   },
   "source": [
    "# **USING LINEAR REGRESSION**"
   ]
  },
  {
   "cell_type": "code",
   "execution_count": 26,
   "id": "f0f1bd9b",
   "metadata": {
    "execution": {
     "iopub.execute_input": "2024-03-01T16:35:28.790549Z",
     "iopub.status.busy": "2024-03-01T16:35:28.789990Z",
     "iopub.status.idle": "2024-03-01T16:35:28.916678Z",
     "shell.execute_reply": "2024-03-01T16:35:28.915297Z"
    },
    "papermill": {
     "duration": 0.150049,
     "end_time": "2024-03-01T16:35:28.919405",
     "exception": false,
     "start_time": "2024-03-01T16:35:28.769356",
     "status": "completed"
    },
    "tags": []
   },
   "outputs": [],
   "source": [
    "from sklearn.linear_model import LinearRegression\n",
    "from sklearn.preprocessing import StandardScaler\n",
    "\n",
    "scaler = StandardScaler()\n",
    "X_train , y_train = train_data.drop(['median_house_value'], axis = 1).values , train_data['median_house_value'].values\n",
    "X_train_s = scaler.fit_transform(X_train)"
   ]
  },
  {
   "cell_type": "code",
   "execution_count": 27,
   "id": "be8235ab",
   "metadata": {
    "execution": {
     "iopub.execute_input": "2024-03-01T16:35:28.960346Z",
     "iopub.status.busy": "2024-03-01T16:35:28.959898Z",
     "iopub.status.idle": "2024-03-01T16:35:28.969411Z",
     "shell.execute_reply": "2024-03-01T16:35:28.967797Z"
    },
    "papermill": {
     "duration": 0.033693,
     "end_time": "2024-03-01T16:35:28.972452",
     "exception": false,
     "start_time": "2024-03-01T16:35:28.938759",
     "status": "completed"
    },
    "tags": []
   },
   "outputs": [],
   "source": [
    "X_train, X_test, y_train , y_test = train_test_split(X_train,  y_train, test_size = 0.1)"
   ]
  },
  {
   "cell_type": "code",
   "execution_count": 28,
   "id": "75b50cf4",
   "metadata": {
    "execution": {
     "iopub.execute_input": "2024-03-01T16:35:29.015360Z",
     "iopub.status.busy": "2024-03-01T16:35:29.014881Z",
     "iopub.status.idle": "2024-03-01T16:35:29.024089Z",
     "shell.execute_reply": "2024-03-01T16:35:29.022782Z"
    },
    "papermill": {
     "duration": 0.033341,
     "end_time": "2024-03-01T16:35:29.026558",
     "exception": false,
     "start_time": "2024-03-01T16:35:28.993217",
     "status": "completed"
    },
    "tags": []
   },
   "outputs": [
    {
     "data": {
      "text/plain": [
       "((14711, 15), (14711,))"
      ]
     },
     "execution_count": 28,
     "metadata": {},
     "output_type": "execute_result"
    }
   ],
   "source": [
    "X_train.shape, y_train.shape"
   ]
  },
  {
   "cell_type": "markdown",
   "id": "6985f5a6",
   "metadata": {
    "papermill": {
     "duration": 0.018146,
     "end_time": "2024-03-01T16:35:29.063319",
     "exception": false,
     "start_time": "2024-03-01T16:35:29.045173",
     "status": "completed"
    },
    "tags": []
   },
   "source": [
    "# **DATA  FITTING**"
   ]
  },
  {
   "cell_type": "code",
   "execution_count": 29,
   "id": "219968e5",
   "metadata": {
    "execution": {
     "iopub.execute_input": "2024-03-01T16:35:29.103471Z",
     "iopub.status.busy": "2024-03-01T16:35:29.102187Z",
     "iopub.status.idle": "2024-03-01T16:35:29.143370Z",
     "shell.execute_reply": "2024-03-01T16:35:29.141805Z"
    },
    "papermill": {
     "duration": 0.065568,
     "end_time": "2024-03-01T16:35:29.147576",
     "exception": false,
     "start_time": "2024-03-01T16:35:29.082008",
     "status": "completed"
    },
    "tags": []
   },
   "outputs": [
    {
     "data": {
      "text/html": [
       "<style>#sk-container-id-1 {color: black;background-color: white;}#sk-container-id-1 pre{padding: 0;}#sk-container-id-1 div.sk-toggleable {background-color: white;}#sk-container-id-1 label.sk-toggleable__label {cursor: pointer;display: block;width: 100%;margin-bottom: 0;padding: 0.3em;box-sizing: border-box;text-align: center;}#sk-container-id-1 label.sk-toggleable__label-arrow:before {content: \"▸\";float: left;margin-right: 0.25em;color: #696969;}#sk-container-id-1 label.sk-toggleable__label-arrow:hover:before {color: black;}#sk-container-id-1 div.sk-estimator:hover label.sk-toggleable__label-arrow:before {color: black;}#sk-container-id-1 div.sk-toggleable__content {max-height: 0;max-width: 0;overflow: hidden;text-align: left;background-color: #f0f8ff;}#sk-container-id-1 div.sk-toggleable__content pre {margin: 0.2em;color: black;border-radius: 0.25em;background-color: #f0f8ff;}#sk-container-id-1 input.sk-toggleable__control:checked~div.sk-toggleable__content {max-height: 200px;max-width: 100%;overflow: auto;}#sk-container-id-1 input.sk-toggleable__control:checked~label.sk-toggleable__label-arrow:before {content: \"▾\";}#sk-container-id-1 div.sk-estimator input.sk-toggleable__control:checked~label.sk-toggleable__label {background-color: #d4ebff;}#sk-container-id-1 div.sk-label input.sk-toggleable__control:checked~label.sk-toggleable__label {background-color: #d4ebff;}#sk-container-id-1 input.sk-hidden--visually {border: 0;clip: rect(1px 1px 1px 1px);clip: rect(1px, 1px, 1px, 1px);height: 1px;margin: -1px;overflow: hidden;padding: 0;position: absolute;width: 1px;}#sk-container-id-1 div.sk-estimator {font-family: monospace;background-color: #f0f8ff;border: 1px dotted black;border-radius: 0.25em;box-sizing: border-box;margin-bottom: 0.5em;}#sk-container-id-1 div.sk-estimator:hover {background-color: #d4ebff;}#sk-container-id-1 div.sk-parallel-item::after {content: \"\";width: 100%;border-bottom: 1px solid gray;flex-grow: 1;}#sk-container-id-1 div.sk-label:hover label.sk-toggleable__label {background-color: #d4ebff;}#sk-container-id-1 div.sk-serial::before {content: \"\";position: absolute;border-left: 1px solid gray;box-sizing: border-box;top: 0;bottom: 0;left: 50%;z-index: 0;}#sk-container-id-1 div.sk-serial {display: flex;flex-direction: column;align-items: center;background-color: white;padding-right: 0.2em;padding-left: 0.2em;position: relative;}#sk-container-id-1 div.sk-item {position: relative;z-index: 1;}#sk-container-id-1 div.sk-parallel {display: flex;align-items: stretch;justify-content: center;background-color: white;position: relative;}#sk-container-id-1 div.sk-item::before, #sk-container-id-1 div.sk-parallel-item::before {content: \"\";position: absolute;border-left: 1px solid gray;box-sizing: border-box;top: 0;bottom: 0;left: 50%;z-index: -1;}#sk-container-id-1 div.sk-parallel-item {display: flex;flex-direction: column;z-index: 1;position: relative;background-color: white;}#sk-container-id-1 div.sk-parallel-item:first-child::after {align-self: flex-end;width: 50%;}#sk-container-id-1 div.sk-parallel-item:last-child::after {align-self: flex-start;width: 50%;}#sk-container-id-1 div.sk-parallel-item:only-child::after {width: 0;}#sk-container-id-1 div.sk-dashed-wrapped {border: 1px dashed gray;margin: 0 0.4em 0.5em 0.4em;box-sizing: border-box;padding-bottom: 0.4em;background-color: white;}#sk-container-id-1 div.sk-label label {font-family: monospace;font-weight: bold;display: inline-block;line-height: 1.2em;}#sk-container-id-1 div.sk-label-container {text-align: center;}#sk-container-id-1 div.sk-container {/* jupyter's `normalize.less` sets `[hidden] { display: none; }` but bootstrap.min.css set `[hidden] { display: none !important; }` so we also need the `!important` here to be able to override the default hidden behavior on the sphinx rendered scikit-learn.org. See: https://github.com/scikit-learn/scikit-learn/issues/21755 */display: inline-block !important;position: relative;}#sk-container-id-1 div.sk-text-repr-fallback {display: none;}</style><div id=\"sk-container-id-1\" class=\"sk-top-container\"><div class=\"sk-text-repr-fallback\"><pre>LinearRegression()</pre><b>In a Jupyter environment, please rerun this cell to show the HTML representation or trust the notebook. <br />On GitHub, the HTML representation is unable to render, please try loading this page with nbviewer.org.</b></div><div class=\"sk-container\" hidden><div class=\"sk-item\"><div class=\"sk-estimator sk-toggleable\"><input class=\"sk-toggleable__control sk-hidden--visually\" id=\"sk-estimator-id-1\" type=\"checkbox\" checked><label for=\"sk-estimator-id-1\" class=\"sk-toggleable__label sk-toggleable__label-arrow\">LinearRegression</label><div class=\"sk-toggleable__content\"><pre>LinearRegression()</pre></div></div></div></div></div>"
      ],
      "text/plain": [
       "LinearRegression()"
      ]
     },
     "execution_count": 29,
     "metadata": {},
     "output_type": "execute_result"
    }
   ],
   "source": [
    "reg = LinearRegression()\n",
    "reg.fit(X_train , y_train)"
   ]
  },
  {
   "cell_type": "markdown",
   "id": "1da87c88",
   "metadata": {
    "papermill": {
     "duration": 0.034841,
     "end_time": "2024-03-01T16:35:29.215515",
     "exception": false,
     "start_time": "2024-03-01T16:35:29.180674",
     "status": "completed"
    },
    "tags": []
   },
   "source": [
    "# **CALCULATING SCORE OF OUR PREDICTION**"
   ]
  },
  {
   "cell_type": "code",
   "execution_count": 30,
   "id": "47ee4cd4",
   "metadata": {
    "execution": {
     "iopub.execute_input": "2024-03-01T16:35:29.274504Z",
     "iopub.status.busy": "2024-03-01T16:35:29.274065Z",
     "iopub.status.idle": "2024-03-01T16:35:29.291750Z",
     "shell.execute_reply": "2024-03-01T16:35:29.290071Z"
    },
    "papermill": {
     "duration": 0.046025,
     "end_time": "2024-03-01T16:35:29.296242",
     "exception": false,
     "start_time": "2024-03-01T16:35:29.250217",
     "status": "completed"
    },
    "tags": []
   },
   "outputs": [
    {
     "data": {
      "text/plain": [
       "0.7119524188088875"
      ]
     },
     "execution_count": 30,
     "metadata": {},
     "output_type": "execute_result"
    }
   ],
   "source": [
    "reg.score(X_test, y_test)"
   ]
  },
  {
   "cell_type": "markdown",
   "id": "59123473",
   "metadata": {
    "papermill": {
     "duration": 0.033684,
     "end_time": "2024-03-01T16:35:29.363083",
     "exception": false,
     "start_time": "2024-03-01T16:35:29.329399",
     "status": "completed"
    },
    "tags": []
   },
   "source": [
    "# *ITS TOO LOW 😮‍💨, LETS USE SOMETHING ELSE!*"
   ]
  },
  {
   "cell_type": "markdown",
   "id": "3645a3df",
   "metadata": {
    "papermill": {
     "duration": 0.020929,
     "end_time": "2024-03-01T16:35:29.417752",
     "exception": false,
     "start_time": "2024-03-01T16:35:29.396823",
     "status": "completed"
    },
    "tags": []
   },
   "source": [
    "# **USING RANDOM FOREST REGRESSOR**"
   ]
  },
  {
   "cell_type": "code",
   "execution_count": 31,
   "id": "480f3eef",
   "metadata": {
    "execution": {
     "iopub.execute_input": "2024-03-01T16:35:29.462135Z",
     "iopub.status.busy": "2024-03-01T16:35:29.461370Z",
     "iopub.status.idle": "2024-03-01T16:35:29.641448Z",
     "shell.execute_reply": "2024-03-01T16:35:29.640100Z"
    },
    "papermill": {
     "duration": 0.206247,
     "end_time": "2024-03-01T16:35:29.644255",
     "exception": false,
     "start_time": "2024-03-01T16:35:29.438008",
     "status": "completed"
    },
    "tags": []
   },
   "outputs": [],
   "source": [
    "from sklearn.ensemble import RandomForestRegressor"
   ]
  },
  {
   "cell_type": "code",
   "execution_count": 32,
   "id": "bfc5964e",
   "metadata": {
    "execution": {
     "iopub.execute_input": "2024-03-01T16:35:29.685159Z",
     "iopub.status.busy": "2024-03-01T16:35:29.684729Z",
     "iopub.status.idle": "2024-03-01T16:35:44.881353Z",
     "shell.execute_reply": "2024-03-01T16:35:44.879721Z"
    },
    "papermill": {
     "duration": 15.220591,
     "end_time": "2024-03-01T16:35:44.884124",
     "exception": false,
     "start_time": "2024-03-01T16:35:29.663533",
     "status": "completed"
    },
    "tags": []
   },
   "outputs": [
    {
     "data": {
      "text/html": [
       "<style>#sk-container-id-2 {color: black;background-color: white;}#sk-container-id-2 pre{padding: 0;}#sk-container-id-2 div.sk-toggleable {background-color: white;}#sk-container-id-2 label.sk-toggleable__label {cursor: pointer;display: block;width: 100%;margin-bottom: 0;padding: 0.3em;box-sizing: border-box;text-align: center;}#sk-container-id-2 label.sk-toggleable__label-arrow:before {content: \"▸\";float: left;margin-right: 0.25em;color: #696969;}#sk-container-id-2 label.sk-toggleable__label-arrow:hover:before {color: black;}#sk-container-id-2 div.sk-estimator:hover label.sk-toggleable__label-arrow:before {color: black;}#sk-container-id-2 div.sk-toggleable__content {max-height: 0;max-width: 0;overflow: hidden;text-align: left;background-color: #f0f8ff;}#sk-container-id-2 div.sk-toggleable__content pre {margin: 0.2em;color: black;border-radius: 0.25em;background-color: #f0f8ff;}#sk-container-id-2 input.sk-toggleable__control:checked~div.sk-toggleable__content {max-height: 200px;max-width: 100%;overflow: auto;}#sk-container-id-2 input.sk-toggleable__control:checked~label.sk-toggleable__label-arrow:before {content: \"▾\";}#sk-container-id-2 div.sk-estimator input.sk-toggleable__control:checked~label.sk-toggleable__label {background-color: #d4ebff;}#sk-container-id-2 div.sk-label input.sk-toggleable__control:checked~label.sk-toggleable__label {background-color: #d4ebff;}#sk-container-id-2 input.sk-hidden--visually {border: 0;clip: rect(1px 1px 1px 1px);clip: rect(1px, 1px, 1px, 1px);height: 1px;margin: -1px;overflow: hidden;padding: 0;position: absolute;width: 1px;}#sk-container-id-2 div.sk-estimator {font-family: monospace;background-color: #f0f8ff;border: 1px dotted black;border-radius: 0.25em;box-sizing: border-box;margin-bottom: 0.5em;}#sk-container-id-2 div.sk-estimator:hover {background-color: #d4ebff;}#sk-container-id-2 div.sk-parallel-item::after {content: \"\";width: 100%;border-bottom: 1px solid gray;flex-grow: 1;}#sk-container-id-2 div.sk-label:hover label.sk-toggleable__label {background-color: #d4ebff;}#sk-container-id-2 div.sk-serial::before {content: \"\";position: absolute;border-left: 1px solid gray;box-sizing: border-box;top: 0;bottom: 0;left: 50%;z-index: 0;}#sk-container-id-2 div.sk-serial {display: flex;flex-direction: column;align-items: center;background-color: white;padding-right: 0.2em;padding-left: 0.2em;position: relative;}#sk-container-id-2 div.sk-item {position: relative;z-index: 1;}#sk-container-id-2 div.sk-parallel {display: flex;align-items: stretch;justify-content: center;background-color: white;position: relative;}#sk-container-id-2 div.sk-item::before, #sk-container-id-2 div.sk-parallel-item::before {content: \"\";position: absolute;border-left: 1px solid gray;box-sizing: border-box;top: 0;bottom: 0;left: 50%;z-index: -1;}#sk-container-id-2 div.sk-parallel-item {display: flex;flex-direction: column;z-index: 1;position: relative;background-color: white;}#sk-container-id-2 div.sk-parallel-item:first-child::after {align-self: flex-end;width: 50%;}#sk-container-id-2 div.sk-parallel-item:last-child::after {align-self: flex-start;width: 50%;}#sk-container-id-2 div.sk-parallel-item:only-child::after {width: 0;}#sk-container-id-2 div.sk-dashed-wrapped {border: 1px dashed gray;margin: 0 0.4em 0.5em 0.4em;box-sizing: border-box;padding-bottom: 0.4em;background-color: white;}#sk-container-id-2 div.sk-label label {font-family: monospace;font-weight: bold;display: inline-block;line-height: 1.2em;}#sk-container-id-2 div.sk-label-container {text-align: center;}#sk-container-id-2 div.sk-container {/* jupyter's `normalize.less` sets `[hidden] { display: none; }` but bootstrap.min.css set `[hidden] { display: none !important; }` so we also need the `!important` here to be able to override the default hidden behavior on the sphinx rendered scikit-learn.org. See: https://github.com/scikit-learn/scikit-learn/issues/21755 */display: inline-block !important;position: relative;}#sk-container-id-2 div.sk-text-repr-fallback {display: none;}</style><div id=\"sk-container-id-2\" class=\"sk-top-container\"><div class=\"sk-text-repr-fallback\"><pre>RandomForestRegressor()</pre><b>In a Jupyter environment, please rerun this cell to show the HTML representation or trust the notebook. <br />On GitHub, the HTML representation is unable to render, please try loading this page with nbviewer.org.</b></div><div class=\"sk-container\" hidden><div class=\"sk-item\"><div class=\"sk-estimator sk-toggleable\"><input class=\"sk-toggleable__control sk-hidden--visually\" id=\"sk-estimator-id-2\" type=\"checkbox\" checked><label for=\"sk-estimator-id-2\" class=\"sk-toggleable__label sk-toggleable__label-arrow\">RandomForestRegressor</label><div class=\"sk-toggleable__content\"><pre>RandomForestRegressor()</pre></div></div></div></div></div>"
      ],
      "text/plain": [
       "RandomForestRegressor()"
      ]
     },
     "execution_count": 32,
     "metadata": {},
     "output_type": "execute_result"
    }
   ],
   "source": [
    "rfr = RandomForestRegressor()\n",
    "rfr.fit(X_train , y_train)"
   ]
  },
  {
   "cell_type": "markdown",
   "id": "1bf9c5f2",
   "metadata": {
    "papermill": {
     "duration": 0.019791,
     "end_time": "2024-03-01T16:35:44.924373",
     "exception": false,
     "start_time": "2024-03-01T16:35:44.904582",
     "status": "completed"
    },
    "tags": []
   },
   "source": [
    "**MUCH BETTER///**"
   ]
  },
  {
   "cell_type": "markdown",
   "id": "004af5ba",
   "metadata": {
    "papermill": {
     "duration": 0.020075,
     "end_time": "2024-03-01T16:35:44.965170",
     "exception": false,
     "start_time": "2024-03-01T16:35:44.945095",
     "status": "completed"
    },
    "tags": []
   },
   "source": [
    "# MUCH BETTER****"
   ]
  },
  {
   "cell_type": "code",
   "execution_count": 33,
   "id": "e62db022",
   "metadata": {
    "execution": {
     "iopub.execute_input": "2024-03-01T16:35:45.010655Z",
     "iopub.status.busy": "2024-03-01T16:35:45.009927Z",
     "iopub.status.idle": "2024-03-01T16:35:45.092043Z",
     "shell.execute_reply": "2024-03-01T16:35:45.090566Z"
    },
    "papermill": {
     "duration": 0.107249,
     "end_time": "2024-03-01T16:35:45.094596",
     "exception": false,
     "start_time": "2024-03-01T16:35:44.987347",
     "status": "completed"
    },
    "tags": []
   },
   "outputs": [
    {
     "data": {
      "text/plain": [
       "0.8168102026169418"
      ]
     },
     "execution_count": 33,
     "metadata": {},
     "output_type": "execute_result"
    }
   ],
   "source": [
    "rfr.score(X_test, y_test)"
   ]
  },
  {
   "cell_type": "code",
   "execution_count": 34,
   "id": "0aa4a344",
   "metadata": {
    "execution": {
     "iopub.execute_input": "2024-03-01T16:35:45.140155Z",
     "iopub.status.busy": "2024-03-01T16:35:45.138781Z",
     "iopub.status.idle": "2024-03-01T16:35:45.221079Z",
     "shell.execute_reply": "2024-03-01T16:35:45.218978Z"
    },
    "papermill": {
     "duration": 0.10816,
     "end_time": "2024-03-01T16:35:45.223840",
     "exception": false,
     "start_time": "2024-03-01T16:35:45.115680",
     "status": "completed"
    },
    "tags": []
   },
   "outputs": [],
   "source": [
    "yhat = rfr.predict(X_test)"
   ]
  },
  {
   "cell_type": "code",
   "execution_count": 35,
   "id": "86816066",
   "metadata": {
    "execution": {
     "iopub.execute_input": "2024-03-01T16:35:45.270480Z",
     "iopub.status.busy": "2024-03-01T16:35:45.270036Z",
     "iopub.status.idle": "2024-03-01T16:35:45.278706Z",
     "shell.execute_reply": "2024-03-01T16:35:45.276452Z"
    },
    "papermill": {
     "duration": 0.035091,
     "end_time": "2024-03-01T16:35:45.281825",
     "exception": false,
     "start_time": "2024-03-01T16:35:45.246734",
     "status": "completed"
    },
    "tags": []
   },
   "outputs": [
    {
     "name": "stdout",
     "output_type": "stream",
     "text": [
      "R-squared: 0.8168102026169418\n"
     ]
    }
   ],
   "source": [
    "from sklearn.metrics import r2_score\n",
    "r2 = r2_score(y_test, yhat)\n",
    "print(\"R-squared:\", r2)\n"
   ]
  },
  {
   "cell_type": "markdown",
   "id": "b44461d2",
   "metadata": {
    "papermill": {
     "duration": 0.022546,
     "end_time": "2024-03-01T16:35:45.326189",
     "exception": false,
     "start_time": "2024-03-01T16:35:45.303643",
     "status": "completed"
    },
    "tags": []
   },
   "source": [
    "# **GOT AN R- SQAURED VALUE OF 80.54% **"
   ]
  },
  {
   "cell_type": "markdown",
   "id": "6d3ffdaf",
   "metadata": {
    "papermill": {
     "duration": 0.022701,
     "end_time": "2024-03-01T16:35:45.372453",
     "exception": false,
     "start_time": "2024-03-01T16:35:45.349752",
     "status": "completed"
    },
    "tags": []
   },
   "source": []
  },
  {
   "cell_type": "code",
   "execution_count": 36,
   "id": "d67e1ba0",
   "metadata": {
    "execution": {
     "iopub.execute_input": "2024-03-01T16:35:45.419865Z",
     "iopub.status.busy": "2024-03-01T16:35:45.419102Z",
     "iopub.status.idle": "2024-03-01T16:35:45.425523Z",
     "shell.execute_reply": "2024-03-01T16:35:45.423811Z"
    },
    "papermill": {
     "duration": 0.032853,
     "end_time": "2024-03-01T16:35:45.428145",
     "exception": false,
     "start_time": "2024-03-01T16:35:45.395292",
     "status": "completed"
    },
    "tags": []
   },
   "outputs": [],
   "source": [
    "from sklearn.metrics import mean_squared_error\n",
    "from sklearn.metrics import mean_squared_error"
   ]
  },
  {
   "cell_type": "code",
   "execution_count": 37,
   "id": "f5e18331",
   "metadata": {
    "execution": {
     "iopub.execute_input": "2024-03-01T16:35:45.473359Z",
     "iopub.status.busy": "2024-03-01T16:35:45.472628Z",
     "iopub.status.idle": "2024-03-01T16:35:45.480367Z",
     "shell.execute_reply": "2024-03-01T16:35:45.479457Z"
    },
    "papermill": {
     "duration": 0.033072,
     "end_time": "2024-03-01T16:35:45.482576",
     "exception": false,
     "start_time": "2024-03-01T16:35:45.449504",
     "status": "completed"
    },
    "tags": []
   },
   "outputs": [
    {
     "data": {
      "text/plain": [
       "49784.147215163684"
      ]
     },
     "execution_count": 37,
     "metadata": {},
     "output_type": "execute_result"
    }
   ],
   "source": [
    "np.sqrt(mean_squared_error(yhat, y_test))"
   ]
  },
  {
   "cell_type": "code",
   "execution_count": 38,
   "id": "25745a1a",
   "metadata": {
    "execution": {
     "iopub.execute_input": "2024-03-01T16:35:45.529365Z",
     "iopub.status.busy": "2024-03-01T16:35:45.528135Z",
     "iopub.status.idle": "2024-03-01T16:35:45.534075Z",
     "shell.execute_reply": "2024-03-01T16:35:45.532579Z"
    },
    "papermill": {
     "duration": 0.033777,
     "end_time": "2024-03-01T16:35:45.538154",
     "exception": false,
     "start_time": "2024-03-01T16:35:45.504377",
     "status": "completed"
    },
    "tags": []
   },
   "outputs": [],
   "source": [
    "#  gridsearchcv / randomsearchcv"
   ]
  },
  {
   "cell_type": "code",
   "execution_count": 39,
   "id": "1b6c1bf2",
   "metadata": {
    "execution": {
     "iopub.execute_input": "2024-03-01T16:35:45.584074Z",
     "iopub.status.busy": "2024-03-01T16:35:45.582448Z",
     "iopub.status.idle": "2024-03-01T16:35:45.588523Z",
     "shell.execute_reply": "2024-03-01T16:35:45.587248Z"
    },
    "papermill": {
     "duration": 0.031435,
     "end_time": "2024-03-01T16:35:45.592173",
     "exception": false,
     "start_time": "2024-03-01T16:35:45.560738",
     "status": "completed"
    },
    "tags": []
   },
   "outputs": [],
   "source": [
    "# optuna / hyperopt"
   ]
  },
  {
   "cell_type": "code",
   "execution_count": null,
   "id": "4be4f76b",
   "metadata": {
    "execution": {
     "iopub.execute_input": "2024-02-24T10:12:08.710062Z",
     "iopub.status.busy": "2024-02-24T10:12:08.708960Z",
     "iopub.status.idle": "2024-02-24T10:12:22.228025Z",
     "shell.execute_reply": "2024-02-24T10:12:22.226858Z",
     "shell.execute_reply.started": "2024-02-24T10:12:08.710025Z"
    },
    "papermill": {
     "duration": 0.022779,
     "end_time": "2024-03-01T16:35:45.638189",
     "exception": false,
     "start_time": "2024-03-01T16:35:45.615410",
     "status": "completed"
    },
    "tags": []
   },
   "outputs": [],
   "source": []
  }
 ],
 "metadata": {
  "kaggle": {
   "accelerator": "none",
   "dataSources": [
    {
     "datasetId": 4463961,
     "sourceId": 7656431,
     "sourceType": "datasetVersion"
    }
   ],
   "dockerImageVersionId": 30646,
   "isGpuEnabled": false,
   "isInternetEnabled": false,
   "language": "python",
   "sourceType": "notebook"
  },
  "kernelspec": {
   "display_name": "Python 3",
   "language": "python",
   "name": "python3"
  },
  "language_info": {
   "codemirror_mode": {
    "name": "ipython",
    "version": 3
   },
   "file_extension": ".py",
   "mimetype": "text/x-python",
   "name": "python",
   "nbconvert_exporter": "python",
   "pygments_lexer": "ipython3",
   "version": "3.10.13"
  },
  "papermill": {
   "default_parameters": {},
   "duration": 28.507031,
   "end_time": "2024-03-01T16:35:46.588679",
   "environment_variables": {},
   "exception": null,
   "input_path": "__notebook__.ipynb",
   "output_path": "__notebook__.ipynb",
   "parameters": {},
   "start_time": "2024-03-01T16:35:18.081648",
   "version": "2.5.0"
  }
 },
 "nbformat": 4,
 "nbformat_minor": 5
}
