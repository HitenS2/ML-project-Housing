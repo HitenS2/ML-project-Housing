{
 "cells": [
  {
   "cell_type": "code",
   "execution_count": 1,
   "id": "fd97f3c7",
   "metadata": {
    "_cell_guid": "b1076dfc-b9ad-4769-8c92-a6c4dae69d19",
    "_uuid": "8f2839f25d086af736a60e9eeb907d3b93b6e0e5",
    "execution": {
     "iopub.execute_input": "2024-02-24T10:21:38.763327Z",
     "iopub.status.busy": "2024-02-24T10:21:38.762646Z",
     "iopub.status.idle": "2024-02-24T10:21:39.550964Z",
     "shell.execute_reply": "2024-02-24T10:21:39.550067Z"
    },
    "papermill": {
     "duration": 0.800668,
     "end_time": "2024-02-24T10:21:39.552800",
     "exception": false,
     "start_time": "2024-02-24T10:21:38.752132",
     "status": "completed"
    },
    "tags": []
   },
   "outputs": [
    {
     "name": "stdout",
     "output_type": "stream",
     "text": [
      "/kaggle/input/california-housing/housing.csv\n"
     ]
    }
   ],
   "source": [
    "# This Python 3 environment comes with many helpful analytics libraries installed\n",
    "# It is defined by the kaggle/python Docker image: https://github.com/kaggle/docker-python\n",
    "# For example, here's several helpful packages to load\n",
    "\n",
    "import numpy as np # linear algebra\n",
    "import pandas as pd # data processing, CSV file I/O (e.g. pd.read_csv)\n",
    "\n",
    "# Input data files are available in the read-only \"../input/\" directory\n",
    "# For example, running this (by clicking run or pressing Shift+Enter) will list all files under the input directory\n",
    "\n",
    "import os\n",
    "for dirname, _, filenames in os.walk('/kaggle/input'):\n",
    "    for filename in filenames:\n",
    "        print(os.path.join(dirname, filename))\n",
    "\n",
    "# You can write up to 20GB to the current directory (/kaggle/working/) that gets preserved as output when you create a version using \"Save & Run All\" \n",
    "# You can also write temporary files to /kaggle/temp/, but they won't be saved outside of the current session"
   ]
  },
  {
   "cell_type": "code",
   "execution_count": 2,
   "id": "9bbd4751",
   "metadata": {
    "execution": {
     "iopub.execute_input": "2024-02-24T10:21:39.567981Z",
     "iopub.status.busy": "2024-02-24T10:21:39.567220Z",
     "iopub.status.idle": "2024-02-24T10:21:40.812862Z",
     "shell.execute_reply": "2024-02-24T10:21:40.811744Z"
    },
    "papermill": {
     "duration": 1.255328,
     "end_time": "2024-02-24T10:21:40.814999",
     "exception": false,
     "start_time": "2024-02-24T10:21:39.559671",
     "status": "completed"
    },
    "tags": []
   },
   "outputs": [],
   "source": [
    "import pandas as pd\n",
    "import numpy as np\n",
    "import matplotlib.pyplot as plt\n",
    "import seaborn as sns"
   ]
  },
  {
   "cell_type": "code",
   "execution_count": 3,
   "id": "bb8b528f",
   "metadata": {
    "execution": {
     "iopub.execute_input": "2024-02-24T10:21:40.830087Z",
     "iopub.status.busy": "2024-02-24T10:21:40.829754Z",
     "iopub.status.idle": "2024-02-24T10:21:40.883494Z",
     "shell.execute_reply": "2024-02-24T10:21:40.882744Z"
    },
    "papermill": {
     "duration": 0.063719,
     "end_time": "2024-02-24T10:21:40.885732",
     "exception": false,
     "start_time": "2024-02-24T10:21:40.822013",
     "status": "completed"
    },
    "tags": []
   },
   "outputs": [],
   "source": [
    "data = pd.read_csv(\"/kaggle/input/california-housing/housing.csv\")"
   ]
  },
  {
   "cell_type": "code",
   "execution_count": 4,
   "id": "0a933b84",
   "metadata": {
    "execution": {
     "iopub.execute_input": "2024-02-24T10:21:40.901473Z",
     "iopub.status.busy": "2024-02-24T10:21:40.900903Z",
     "iopub.status.idle": "2024-02-24T10:21:40.932047Z",
     "shell.execute_reply": "2024-02-24T10:21:40.931246Z"
    },
    "papermill": {
     "duration": 0.041175,
     "end_time": "2024-02-24T10:21:40.933844",
     "exception": false,
     "start_time": "2024-02-24T10:21:40.892669",
     "status": "completed"
    },
    "tags": []
   },
   "outputs": [
    {
     "data": {
      "text/html": [
       "<div>\n",
       "<style scoped>\n",
       "    .dataframe tbody tr th:only-of-type {\n",
       "        vertical-align: middle;\n",
       "    }\n",
       "\n",
       "    .dataframe tbody tr th {\n",
       "        vertical-align: top;\n",
       "    }\n",
       "\n",
       "    .dataframe thead th {\n",
       "        text-align: right;\n",
       "    }\n",
       "</style>\n",
       "<table border=\"1\" class=\"dataframe\">\n",
       "  <thead>\n",
       "    <tr style=\"text-align: right;\">\n",
       "      <th></th>\n",
       "      <th>longitude</th>\n",
       "      <th>latitude</th>\n",
       "      <th>housing_median_age</th>\n",
       "      <th>total_rooms</th>\n",
       "      <th>total_bedrooms</th>\n",
       "      <th>population</th>\n",
       "      <th>households</th>\n",
       "      <th>median_income</th>\n",
       "      <th>median_house_value</th>\n",
       "      <th>ocean_proximity</th>\n",
       "    </tr>\n",
       "  </thead>\n",
       "  <tbody>\n",
       "    <tr>\n",
       "      <th>0</th>\n",
       "      <td>-122.23</td>\n",
       "      <td>37.88</td>\n",
       "      <td>41.0</td>\n",
       "      <td>880.0</td>\n",
       "      <td>129.0</td>\n",
       "      <td>322.0</td>\n",
       "      <td>126.0</td>\n",
       "      <td>8.3252</td>\n",
       "      <td>452600.0</td>\n",
       "      <td>NEAR BAY</td>\n",
       "    </tr>\n",
       "    <tr>\n",
       "      <th>1</th>\n",
       "      <td>-122.22</td>\n",
       "      <td>37.86</td>\n",
       "      <td>21.0</td>\n",
       "      <td>7099.0</td>\n",
       "      <td>1106.0</td>\n",
       "      <td>2401.0</td>\n",
       "      <td>1138.0</td>\n",
       "      <td>8.3014</td>\n",
       "      <td>358500.0</td>\n",
       "      <td>NEAR BAY</td>\n",
       "    </tr>\n",
       "    <tr>\n",
       "      <th>2</th>\n",
       "      <td>-122.24</td>\n",
       "      <td>37.85</td>\n",
       "      <td>52.0</td>\n",
       "      <td>1467.0</td>\n",
       "      <td>190.0</td>\n",
       "      <td>496.0</td>\n",
       "      <td>177.0</td>\n",
       "      <td>7.2574</td>\n",
       "      <td>352100.0</td>\n",
       "      <td>NEAR BAY</td>\n",
       "    </tr>\n",
       "    <tr>\n",
       "      <th>3</th>\n",
       "      <td>-122.25</td>\n",
       "      <td>37.85</td>\n",
       "      <td>52.0</td>\n",
       "      <td>1274.0</td>\n",
       "      <td>235.0</td>\n",
       "      <td>558.0</td>\n",
       "      <td>219.0</td>\n",
       "      <td>5.6431</td>\n",
       "      <td>341300.0</td>\n",
       "      <td>NEAR BAY</td>\n",
       "    </tr>\n",
       "    <tr>\n",
       "      <th>4</th>\n",
       "      <td>-122.25</td>\n",
       "      <td>37.85</td>\n",
       "      <td>52.0</td>\n",
       "      <td>1627.0</td>\n",
       "      <td>280.0</td>\n",
       "      <td>565.0</td>\n",
       "      <td>259.0</td>\n",
       "      <td>3.8462</td>\n",
       "      <td>342200.0</td>\n",
       "      <td>NEAR BAY</td>\n",
       "    </tr>\n",
       "    <tr>\n",
       "      <th>...</th>\n",
       "      <td>...</td>\n",
       "      <td>...</td>\n",
       "      <td>...</td>\n",
       "      <td>...</td>\n",
       "      <td>...</td>\n",
       "      <td>...</td>\n",
       "      <td>...</td>\n",
       "      <td>...</td>\n",
       "      <td>...</td>\n",
       "      <td>...</td>\n",
       "    </tr>\n",
       "    <tr>\n",
       "      <th>20635</th>\n",
       "      <td>-121.09</td>\n",
       "      <td>39.48</td>\n",
       "      <td>25.0</td>\n",
       "      <td>1665.0</td>\n",
       "      <td>374.0</td>\n",
       "      <td>845.0</td>\n",
       "      <td>330.0</td>\n",
       "      <td>1.5603</td>\n",
       "      <td>78100.0</td>\n",
       "      <td>INLAND</td>\n",
       "    </tr>\n",
       "    <tr>\n",
       "      <th>20636</th>\n",
       "      <td>-121.21</td>\n",
       "      <td>39.49</td>\n",
       "      <td>18.0</td>\n",
       "      <td>697.0</td>\n",
       "      <td>150.0</td>\n",
       "      <td>356.0</td>\n",
       "      <td>114.0</td>\n",
       "      <td>2.5568</td>\n",
       "      <td>77100.0</td>\n",
       "      <td>INLAND</td>\n",
       "    </tr>\n",
       "    <tr>\n",
       "      <th>20637</th>\n",
       "      <td>-121.22</td>\n",
       "      <td>39.43</td>\n",
       "      <td>17.0</td>\n",
       "      <td>2254.0</td>\n",
       "      <td>485.0</td>\n",
       "      <td>1007.0</td>\n",
       "      <td>433.0</td>\n",
       "      <td>1.7000</td>\n",
       "      <td>92300.0</td>\n",
       "      <td>INLAND</td>\n",
       "    </tr>\n",
       "    <tr>\n",
       "      <th>20638</th>\n",
       "      <td>-121.32</td>\n",
       "      <td>39.43</td>\n",
       "      <td>18.0</td>\n",
       "      <td>1860.0</td>\n",
       "      <td>409.0</td>\n",
       "      <td>741.0</td>\n",
       "      <td>349.0</td>\n",
       "      <td>1.8672</td>\n",
       "      <td>84700.0</td>\n",
       "      <td>INLAND</td>\n",
       "    </tr>\n",
       "    <tr>\n",
       "      <th>20639</th>\n",
       "      <td>-121.24</td>\n",
       "      <td>39.37</td>\n",
       "      <td>16.0</td>\n",
       "      <td>2785.0</td>\n",
       "      <td>616.0</td>\n",
       "      <td>1387.0</td>\n",
       "      <td>530.0</td>\n",
       "      <td>2.3886</td>\n",
       "      <td>89400.0</td>\n",
       "      <td>INLAND</td>\n",
       "    </tr>\n",
       "  </tbody>\n",
       "</table>\n",
       "<p>20640 rows × 10 columns</p>\n",
       "</div>"
      ],
      "text/plain": [
       "       longitude  latitude  housing_median_age  total_rooms  total_bedrooms  \\\n",
       "0        -122.23     37.88                41.0        880.0           129.0   \n",
       "1        -122.22     37.86                21.0       7099.0          1106.0   \n",
       "2        -122.24     37.85                52.0       1467.0           190.0   \n",
       "3        -122.25     37.85                52.0       1274.0           235.0   \n",
       "4        -122.25     37.85                52.0       1627.0           280.0   \n",
       "...          ...       ...                 ...          ...             ...   \n",
       "20635    -121.09     39.48                25.0       1665.0           374.0   \n",
       "20636    -121.21     39.49                18.0        697.0           150.0   \n",
       "20637    -121.22     39.43                17.0       2254.0           485.0   \n",
       "20638    -121.32     39.43                18.0       1860.0           409.0   \n",
       "20639    -121.24     39.37                16.0       2785.0           616.0   \n",
       "\n",
       "       population  households  median_income  median_house_value  \\\n",
       "0           322.0       126.0         8.3252            452600.0   \n",
       "1          2401.0      1138.0         8.3014            358500.0   \n",
       "2           496.0       177.0         7.2574            352100.0   \n",
       "3           558.0       219.0         5.6431            341300.0   \n",
       "4           565.0       259.0         3.8462            342200.0   \n",
       "...           ...         ...            ...                 ...   \n",
       "20635       845.0       330.0         1.5603             78100.0   \n",
       "20636       356.0       114.0         2.5568             77100.0   \n",
       "20637      1007.0       433.0         1.7000             92300.0   \n",
       "20638       741.0       349.0         1.8672             84700.0   \n",
       "20639      1387.0       530.0         2.3886             89400.0   \n",
       "\n",
       "      ocean_proximity  \n",
       "0            NEAR BAY  \n",
       "1            NEAR BAY  \n",
       "2            NEAR BAY  \n",
       "3            NEAR BAY  \n",
       "4            NEAR BAY  \n",
       "...               ...  \n",
       "20635          INLAND  \n",
       "20636          INLAND  \n",
       "20637          INLAND  \n",
       "20638          INLAND  \n",
       "20639          INLAND  \n",
       "\n",
       "[20640 rows x 10 columns]"
      ]
     },
     "execution_count": 4,
     "metadata": {},
     "output_type": "execute_result"
    }
   ],
   "source": [
    "data\n"
   ]
  },
  {
   "cell_type": "code",
   "execution_count": 5,
   "id": "c87b1886",
   "metadata": {
    "execution": {
     "iopub.execute_input": "2024-02-24T10:21:40.949888Z",
     "iopub.status.busy": "2024-02-24T10:21:40.949550Z",
     "iopub.status.idle": "2024-02-24T10:21:40.975648Z",
     "shell.execute_reply": "2024-02-24T10:21:40.973993Z"
    },
    "papermill": {
     "duration": 0.036813,
     "end_time": "2024-02-24T10:21:40.977857",
     "exception": false,
     "start_time": "2024-02-24T10:21:40.941044",
     "status": "completed"
    },
    "tags": []
   },
   "outputs": [
    {
     "name": "stdout",
     "output_type": "stream",
     "text": [
      "<class 'pandas.core.frame.DataFrame'>\n",
      "RangeIndex: 20640 entries, 0 to 20639\n",
      "Data columns (total 10 columns):\n",
      " #   Column              Non-Null Count  Dtype  \n",
      "---  ------              --------------  -----  \n",
      " 0   longitude           20640 non-null  float64\n",
      " 1   latitude            20640 non-null  float64\n",
      " 2   housing_median_age  20640 non-null  float64\n",
      " 3   total_rooms         20640 non-null  float64\n",
      " 4   total_bedrooms      20433 non-null  float64\n",
      " 5   population          20640 non-null  float64\n",
      " 6   households          20640 non-null  float64\n",
      " 7   median_income       20640 non-null  float64\n",
      " 8   median_house_value  20640 non-null  float64\n",
      " 9   ocean_proximity     20640 non-null  object \n",
      "dtypes: float64(9), object(1)\n",
      "memory usage: 1.6+ MB\n"
     ]
    }
   ],
   "source": [
    "data.info()"
   ]
  },
  {
   "cell_type": "code",
   "execution_count": 6,
   "id": "16a6cdf1",
   "metadata": {
    "execution": {
     "iopub.execute_input": "2024-02-24T10:21:40.993434Z",
     "iopub.status.busy": "2024-02-24T10:21:40.993095Z",
     "iopub.status.idle": "2024-02-24T10:21:41.000342Z",
     "shell.execute_reply": "2024-02-24T10:21:40.999554Z"
    },
    "papermill": {
     "duration": 0.017552,
     "end_time": "2024-02-24T10:21:41.002614",
     "exception": false,
     "start_time": "2024-02-24T10:21:40.985062",
     "status": "completed"
    },
    "tags": []
   },
   "outputs": [],
   "source": [
    "data.dropna(inplace = True)"
   ]
  },
  {
   "cell_type": "code",
   "execution_count": 7,
   "id": "3d8ade94",
   "metadata": {
    "execution": {
     "iopub.execute_input": "2024-02-24T10:21:41.019315Z",
     "iopub.status.busy": "2024-02-24T10:21:41.018941Z",
     "iopub.status.idle": "2024-02-24T10:21:41.029399Z",
     "shell.execute_reply": "2024-02-24T10:21:41.028314Z"
    },
    "papermill": {
     "duration": 0.021321,
     "end_time": "2024-02-24T10:21:41.031429",
     "exception": false,
     "start_time": "2024-02-24T10:21:41.010108",
     "status": "completed"
    },
    "tags": []
   },
   "outputs": [
    {
     "name": "stdout",
     "output_type": "stream",
     "text": [
      "<class 'pandas.core.frame.DataFrame'>\n",
      "Index: 20433 entries, 0 to 20639\n",
      "Data columns (total 10 columns):\n",
      " #   Column              Non-Null Count  Dtype  \n",
      "---  ------              --------------  -----  \n",
      " 0   longitude           20433 non-null  float64\n",
      " 1   latitude            20433 non-null  float64\n",
      " 2   housing_median_age  20433 non-null  float64\n",
      " 3   total_rooms         20433 non-null  float64\n",
      " 4   total_bedrooms      20433 non-null  float64\n",
      " 5   population          20433 non-null  float64\n",
      " 6   households          20433 non-null  float64\n",
      " 7   median_income       20433 non-null  float64\n",
      " 8   median_house_value  20433 non-null  float64\n",
      " 9   ocean_proximity     20433 non-null  object \n",
      "dtypes: float64(9), object(1)\n",
      "memory usage: 1.7+ MB\n"
     ]
    }
   ],
   "source": [
    "data.info()"
   ]
  },
  {
   "cell_type": "code",
   "execution_count": 8,
   "id": "bbd8ace0",
   "metadata": {
    "execution": {
     "iopub.execute_input": "2024-02-24T10:21:41.048920Z",
     "iopub.status.busy": "2024-02-24T10:21:41.048347Z",
     "iopub.status.idle": "2024-02-24T10:21:41.372711Z",
     "shell.execute_reply": "2024-02-24T10:21:41.371595Z"
    },
    "papermill": {
     "duration": 0.335025,
     "end_time": "2024-02-24T10:21:41.374977",
     "exception": false,
     "start_time": "2024-02-24T10:21:41.039952",
     "status": "completed"
    },
    "tags": []
   },
   "outputs": [],
   "source": [
    "from sklearn.model_selection import train_test_split\n",
    "X  = data.drop(['median_house_value'] , axis= 1)\n",
    "y = data['median_house_value']"
   ]
  },
  {
   "cell_type": "code",
   "execution_count": 9,
   "id": "10497105",
   "metadata": {
    "execution": {
     "iopub.execute_input": "2024-02-24T10:21:41.392489Z",
     "iopub.status.busy": "2024-02-24T10:21:41.392105Z",
     "iopub.status.idle": "2024-02-24T10:21:41.403915Z",
     "shell.execute_reply": "2024-02-24T10:21:41.402857Z"
    },
    "papermill": {
     "duration": 0.02325,
     "end_time": "2024-02-24T10:21:41.406028",
     "exception": false,
     "start_time": "2024-02-24T10:21:41.382778",
     "status": "completed"
    },
    "tags": []
   },
   "outputs": [],
   "source": [
    "X_train, X_test, y_train , y_test = train_test_split(X,  y, test_size = 0.2)"
   ]
  },
  {
   "cell_type": "code",
   "execution_count": 10,
   "id": "6df49725",
   "metadata": {
    "execution": {
     "iopub.execute_input": "2024-02-24T10:21:41.422351Z",
     "iopub.status.busy": "2024-02-24T10:21:41.421819Z",
     "iopub.status.idle": "2024-02-24T10:21:41.429359Z",
     "shell.execute_reply": "2024-02-24T10:21:41.428030Z"
    },
    "papermill": {
     "duration": 0.017752,
     "end_time": "2024-02-24T10:21:41.431161",
     "exception": false,
     "start_time": "2024-02-24T10:21:41.413409",
     "status": "completed"
    },
    "tags": []
   },
   "outputs": [],
   "source": [
    "train_data = X_train.join(y_train)"
   ]
  },
  {
   "cell_type": "code",
   "execution_count": 11,
   "id": "9bfc9b1e",
   "metadata": {
    "execution": {
     "iopub.execute_input": "2024-02-24T10:21:41.447674Z",
     "iopub.status.busy": "2024-02-24T10:21:41.446739Z",
     "iopub.status.idle": "2024-02-24T10:21:41.465357Z",
     "shell.execute_reply": "2024-02-24T10:21:41.464507Z"
    },
    "papermill": {
     "duration": 0.028605,
     "end_time": "2024-02-24T10:21:41.467142",
     "exception": false,
     "start_time": "2024-02-24T10:21:41.438537",
     "status": "completed"
    },
    "tags": []
   },
   "outputs": [
    {
     "data": {
      "text/html": [
       "<div>\n",
       "<style scoped>\n",
       "    .dataframe tbody tr th:only-of-type {\n",
       "        vertical-align: middle;\n",
       "    }\n",
       "\n",
       "    .dataframe tbody tr th {\n",
       "        vertical-align: top;\n",
       "    }\n",
       "\n",
       "    .dataframe thead th {\n",
       "        text-align: right;\n",
       "    }\n",
       "</style>\n",
       "<table border=\"1\" class=\"dataframe\">\n",
       "  <thead>\n",
       "    <tr style=\"text-align: right;\">\n",
       "      <th></th>\n",
       "      <th>longitude</th>\n",
       "      <th>latitude</th>\n",
       "      <th>housing_median_age</th>\n",
       "      <th>total_rooms</th>\n",
       "      <th>total_bedrooms</th>\n",
       "      <th>population</th>\n",
       "      <th>households</th>\n",
       "      <th>median_income</th>\n",
       "      <th>ocean_proximity</th>\n",
       "      <th>median_house_value</th>\n",
       "    </tr>\n",
       "  </thead>\n",
       "  <tbody>\n",
       "    <tr>\n",
       "      <th>7056</th>\n",
       "      <td>-118.03</td>\n",
       "      <td>33.92</td>\n",
       "      <td>35.0</td>\n",
       "      <td>2108.0</td>\n",
       "      <td>405.0</td>\n",
       "      <td>1243.0</td>\n",
       "      <td>394.0</td>\n",
       "      <td>3.6731</td>\n",
       "      <td>&lt;1H OCEAN</td>\n",
       "      <td>167000.0</td>\n",
       "    </tr>\n",
       "    <tr>\n",
       "      <th>19098</th>\n",
       "      <td>-122.62</td>\n",
       "      <td>38.24</td>\n",
       "      <td>33.0</td>\n",
       "      <td>1369.0</td>\n",
       "      <td>280.0</td>\n",
       "      <td>758.0</td>\n",
       "      <td>246.0</td>\n",
       "      <td>4.0341</td>\n",
       "      <td>&lt;1H OCEAN</td>\n",
       "      <td>156500.0</td>\n",
       "    </tr>\n",
       "    <tr>\n",
       "      <th>7838</th>\n",
       "      <td>-118.17</td>\n",
       "      <td>33.90</td>\n",
       "      <td>12.0</td>\n",
       "      <td>3653.0</td>\n",
       "      <td>993.0</td>\n",
       "      <td>3215.0</td>\n",
       "      <td>854.0</td>\n",
       "      <td>2.8681</td>\n",
       "      <td>&lt;1H OCEAN</td>\n",
       "      <td>114200.0</td>\n",
       "    </tr>\n",
       "    <tr>\n",
       "      <th>3832</th>\n",
       "      <td>-118.44</td>\n",
       "      <td>34.20</td>\n",
       "      <td>36.0</td>\n",
       "      <td>2698.0</td>\n",
       "      <td>623.0</td>\n",
       "      <td>1544.0</td>\n",
       "      <td>554.0</td>\n",
       "      <td>2.7375</td>\n",
       "      <td>&lt;1H OCEAN</td>\n",
       "      <td>234900.0</td>\n",
       "    </tr>\n",
       "    <tr>\n",
       "      <th>7291</th>\n",
       "      <td>-118.22</td>\n",
       "      <td>33.98</td>\n",
       "      <td>18.0</td>\n",
       "      <td>1781.0</td>\n",
       "      <td>765.0</td>\n",
       "      <td>1913.0</td>\n",
       "      <td>702.0</td>\n",
       "      <td>1.2059</td>\n",
       "      <td>&lt;1H OCEAN</td>\n",
       "      <td>255000.0</td>\n",
       "    </tr>\n",
       "    <tr>\n",
       "      <th>...</th>\n",
       "      <td>...</td>\n",
       "      <td>...</td>\n",
       "      <td>...</td>\n",
       "      <td>...</td>\n",
       "      <td>...</td>\n",
       "      <td>...</td>\n",
       "      <td>...</td>\n",
       "      <td>...</td>\n",
       "      <td>...</td>\n",
       "      <td>...</td>\n",
       "    </tr>\n",
       "    <tr>\n",
       "      <th>15806</th>\n",
       "      <td>-122.44</td>\n",
       "      <td>37.76</td>\n",
       "      <td>52.0</td>\n",
       "      <td>1968.0</td>\n",
       "      <td>472.0</td>\n",
       "      <td>784.0</td>\n",
       "      <td>430.0</td>\n",
       "      <td>3.3702</td>\n",
       "      <td>NEAR BAY</td>\n",
       "      <td>370000.0</td>\n",
       "    </tr>\n",
       "    <tr>\n",
       "      <th>8614</th>\n",
       "      <td>-118.38</td>\n",
       "      <td>33.87</td>\n",
       "      <td>21.0</td>\n",
       "      <td>4151.0</td>\n",
       "      <td>1018.0</td>\n",
       "      <td>2054.0</td>\n",
       "      <td>925.0</td>\n",
       "      <td>4.9821</td>\n",
       "      <td>&lt;1H OCEAN</td>\n",
       "      <td>292900.0</td>\n",
       "    </tr>\n",
       "    <tr>\n",
       "      <th>18141</th>\n",
       "      <td>-122.05</td>\n",
       "      <td>37.34</td>\n",
       "      <td>34.0</td>\n",
       "      <td>2515.0</td>\n",
       "      <td>401.0</td>\n",
       "      <td>1079.0</td>\n",
       "      <td>399.0</td>\n",
       "      <td>7.7865</td>\n",
       "      <td>&lt;1H OCEAN</td>\n",
       "      <td>423900.0</td>\n",
       "    </tr>\n",
       "    <tr>\n",
       "      <th>14827</th>\n",
       "      <td>-117.09</td>\n",
       "      <td>32.66</td>\n",
       "      <td>37.0</td>\n",
       "      <td>1232.0</td>\n",
       "      <td>330.0</td>\n",
       "      <td>1086.0</td>\n",
       "      <td>330.0</td>\n",
       "      <td>1.6389</td>\n",
       "      <td>NEAR OCEAN</td>\n",
       "      <td>114300.0</td>\n",
       "    </tr>\n",
       "    <tr>\n",
       "      <th>7652</th>\n",
       "      <td>-118.27</td>\n",
       "      <td>33.83</td>\n",
       "      <td>28.0</td>\n",
       "      <td>2152.0</td>\n",
       "      <td>415.0</td>\n",
       "      <td>1623.0</td>\n",
       "      <td>429.0</td>\n",
       "      <td>4.3500</td>\n",
       "      <td>&lt;1H OCEAN</td>\n",
       "      <td>200500.0</td>\n",
       "    </tr>\n",
       "  </tbody>\n",
       "</table>\n",
       "<p>16346 rows × 10 columns</p>\n",
       "</div>"
      ],
      "text/plain": [
       "       longitude  latitude  housing_median_age  total_rooms  total_bedrooms  \\\n",
       "7056     -118.03     33.92                35.0       2108.0           405.0   \n",
       "19098    -122.62     38.24                33.0       1369.0           280.0   \n",
       "7838     -118.17     33.90                12.0       3653.0           993.0   \n",
       "3832     -118.44     34.20                36.0       2698.0           623.0   \n",
       "7291     -118.22     33.98                18.0       1781.0           765.0   \n",
       "...          ...       ...                 ...          ...             ...   \n",
       "15806    -122.44     37.76                52.0       1968.0           472.0   \n",
       "8614     -118.38     33.87                21.0       4151.0          1018.0   \n",
       "18141    -122.05     37.34                34.0       2515.0           401.0   \n",
       "14827    -117.09     32.66                37.0       1232.0           330.0   \n",
       "7652     -118.27     33.83                28.0       2152.0           415.0   \n",
       "\n",
       "       population  households  median_income ocean_proximity  \\\n",
       "7056       1243.0       394.0         3.6731       <1H OCEAN   \n",
       "19098       758.0       246.0         4.0341       <1H OCEAN   \n",
       "7838       3215.0       854.0         2.8681       <1H OCEAN   \n",
       "3832       1544.0       554.0         2.7375       <1H OCEAN   \n",
       "7291       1913.0       702.0         1.2059       <1H OCEAN   \n",
       "...           ...         ...            ...             ...   \n",
       "15806       784.0       430.0         3.3702        NEAR BAY   \n",
       "8614       2054.0       925.0         4.9821       <1H OCEAN   \n",
       "18141      1079.0       399.0         7.7865       <1H OCEAN   \n",
       "14827      1086.0       330.0         1.6389      NEAR OCEAN   \n",
       "7652       1623.0       429.0         4.3500       <1H OCEAN   \n",
       "\n",
       "       median_house_value  \n",
       "7056             167000.0  \n",
       "19098            156500.0  \n",
       "7838             114200.0  \n",
       "3832             234900.0  \n",
       "7291             255000.0  \n",
       "...                   ...  \n",
       "15806            370000.0  \n",
       "8614             292900.0  \n",
       "18141            423900.0  \n",
       "14827            114300.0  \n",
       "7652             200500.0  \n",
       "\n",
       "[16346 rows x 10 columns]"
      ]
     },
     "execution_count": 11,
     "metadata": {},
     "output_type": "execute_result"
    }
   ],
   "source": [
    "train_data"
   ]
  },
  {
   "cell_type": "code",
   "execution_count": 12,
   "id": "05600151",
   "metadata": {
    "execution": {
     "iopub.execute_input": "2024-02-24T10:21:41.484549Z",
     "iopub.status.busy": "2024-02-24T10:21:41.484176Z",
     "iopub.status.idle": "2024-02-24T10:21:43.056672Z",
     "shell.execute_reply": "2024-02-24T10:21:43.055638Z"
    },
    "papermill": {
     "duration": 1.583981,
     "end_time": "2024-02-24T10:21:43.058601",
     "exception": false,
     "start_time": "2024-02-24T10:21:41.474620",
     "status": "completed"
    },
    "tags": []
   },
   "outputs": [
    {
     "data": {
      "text/plain": [
       "array([[<Axes: title={'center': 'longitude'}>,\n",
       "        <Axes: title={'center': 'latitude'}>,\n",
       "        <Axes: title={'center': 'housing_median_age'}>],\n",
       "       [<Axes: title={'center': 'total_rooms'}>,\n",
       "        <Axes: title={'center': 'total_bedrooms'}>,\n",
       "        <Axes: title={'center': 'population'}>],\n",
       "       [<Axes: title={'center': 'households'}>,\n",
       "        <Axes: title={'center': 'median_income'}>,\n",
       "        <Axes: title={'center': 'median_house_value'}>]], dtype=object)"
      ]
     },
     "execution_count": 12,
     "metadata": {},
     "output_type": "execute_result"
    },
    {
     "data": {
      "image/png": "[encoded data removed]",
      "text/plain": [
       "<Figure size 1500x1000 with 9 Axes>"
      ]
     },
     "metadata": {},
     "output_type": "display_data"
    }
   ],
   "source": [
    "train_data.hist(figsize= (15,10))"
   ]
  },
  {
   "cell_type": "code",
   "execution_count": 13,
   "id": "1ee5e248",
   "metadata": {
    "execution": {
     "iopub.execute_input": "2024-02-24T10:21:43.077709Z",
     "iopub.status.busy": "2024-02-24T10:21:43.077099Z",
     "iopub.status.idle": "2024-02-24T10:21:43.085325Z",
     "shell.execute_reply": "2024-02-24T10:21:43.084573Z"
    },
    "papermill": {
     "duration": 0.020499,
     "end_time": "2024-02-24T10:21:43.087729",
     "exception": false,
     "start_time": "2024-02-24T10:21:43.067230",
     "status": "completed"
    },
    "tags": []
   },
   "outputs": [],
   "source": [
    "train_data['total_rooms'] = np.log(train_data['total_rooms'] +1)\n",
    "train_data['total_bedrooms'] = np.log(train_data['total_bedrooms'] +1)\n",
    "train_data['population'] = np.log(train_data['population'] +1)\n",
    "train_data['households'] = np.log(train_data['households'] +1)"
   ]
  },
  {
   "cell_type": "code",
   "execution_count": 14,
   "id": "9b4df20f",
   "metadata": {
    "execution": {
     "iopub.execute_input": "2024-02-24T10:21:43.106563Z",
     "iopub.status.busy": "2024-02-24T10:21:43.106228Z",
     "iopub.status.idle": "2024-02-24T10:21:43.124505Z",
     "shell.execute_reply": "2024-02-24T10:21:43.123492Z"
    },
    "papermill": {
     "duration": 0.029884,
     "end_time": "2024-02-24T10:21:43.126444",
     "exception": false,
     "start_time": "2024-02-24T10:21:43.096560",
     "status": "completed"
    },
    "tags": []
   },
   "outputs": [
    {
     "data": {
      "text/html": [
       "<div>\n",
       "<style scoped>\n",
       "    .dataframe tbody tr th:only-of-type {\n",
       "        vertical-align: middle;\n",
       "    }\n",
       "\n",
       "    .dataframe tbody tr th {\n",
       "        vertical-align: top;\n",
       "    }\n",
       "\n",
       "    .dataframe thead th {\n",
       "        text-align: right;\n",
       "    }\n",
       "</style>\n",
       "<table border=\"1\" class=\"dataframe\">\n",
       "  <thead>\n",
       "    <tr style=\"text-align: right;\">\n",
       "      <th></th>\n",
       "      <th>longitude</th>\n",
       "      <th>latitude</th>\n",
       "      <th>housing_median_age</th>\n",
       "      <th>total_rooms</th>\n",
       "      <th>total_bedrooms</th>\n",
       "      <th>population</th>\n",
       "      <th>households</th>\n",
       "      <th>median_income</th>\n",
       "      <th>ocean_proximity</th>\n",
       "      <th>median_house_value</th>\n",
       "    </tr>\n",
       "  </thead>\n",
       "  <tbody>\n",
       "    <tr>\n",
       "      <th>7056</th>\n",
       "      <td>-118.03</td>\n",
       "      <td>33.92</td>\n",
       "      <td>35.0</td>\n",
       "      <td>7.653969</td>\n",
       "      <td>6.006353</td>\n",
       "      <td>7.126087</td>\n",
       "      <td>5.978886</td>\n",
       "      <td>3.6731</td>\n",
       "      <td>&lt;1H OCEAN</td>\n",
       "      <td>167000.0</td>\n",
       "    </tr>\n",
       "    <tr>\n",
       "      <th>19098</th>\n",
       "      <td>-122.62</td>\n",
       "      <td>38.24</td>\n",
       "      <td>33.0</td>\n",
       "      <td>7.222566</td>\n",
       "      <td>5.638355</td>\n",
       "      <td>6.632002</td>\n",
       "      <td>5.509388</td>\n",
       "      <td>4.0341</td>\n",
       "      <td>&lt;1H OCEAN</td>\n",
       "      <td>156500.0</td>\n",
       "    </tr>\n",
       "    <tr>\n",
       "      <th>7838</th>\n",
       "      <td>-118.17</td>\n",
       "      <td>33.90</td>\n",
       "      <td>12.0</td>\n",
       "      <td>8.203578</td>\n",
       "      <td>6.901737</td>\n",
       "      <td>8.075894</td>\n",
       "      <td>6.751101</td>\n",
       "      <td>2.8681</td>\n",
       "      <td>&lt;1H OCEAN</td>\n",
       "      <td>114200.0</td>\n",
       "    </tr>\n",
       "    <tr>\n",
       "      <th>3832</th>\n",
       "      <td>-118.44</td>\n",
       "      <td>34.20</td>\n",
       "      <td>36.0</td>\n",
       "      <td>7.900637</td>\n",
       "      <td>6.436150</td>\n",
       "      <td>7.342779</td>\n",
       "      <td>6.318968</td>\n",
       "      <td>2.7375</td>\n",
       "      <td>&lt;1H OCEAN</td>\n",
       "      <td>234900.0</td>\n",
       "    </tr>\n",
       "    <tr>\n",
       "      <th>7291</th>\n",
       "      <td>-118.22</td>\n",
       "      <td>33.98</td>\n",
       "      <td>18.0</td>\n",
       "      <td>7.485492</td>\n",
       "      <td>6.641182</td>\n",
       "      <td>7.556951</td>\n",
       "      <td>6.555357</td>\n",
       "      <td>1.2059</td>\n",
       "      <td>&lt;1H OCEAN</td>\n",
       "      <td>255000.0</td>\n",
       "    </tr>\n",
       "    <tr>\n",
       "      <th>...</th>\n",
       "      <td>...</td>\n",
       "      <td>...</td>\n",
       "      <td>...</td>\n",
       "      <td>...</td>\n",
       "      <td>...</td>\n",
       "      <td>...</td>\n",
       "      <td>...</td>\n",
       "      <td>...</td>\n",
       "      <td>...</td>\n",
       "      <td>...</td>\n",
       "    </tr>\n",
       "    <tr>\n",
       "      <th>15806</th>\n",
       "      <td>-122.44</td>\n",
       "      <td>37.76</td>\n",
       "      <td>52.0</td>\n",
       "      <td>7.585281</td>\n",
       "      <td>6.159095</td>\n",
       "      <td>6.665684</td>\n",
       "      <td>6.066108</td>\n",
       "      <td>3.3702</td>\n",
       "      <td>NEAR BAY</td>\n",
       "      <td>370000.0</td>\n",
       "    </tr>\n",
       "    <tr>\n",
       "      <th>8614</th>\n",
       "      <td>-118.38</td>\n",
       "      <td>33.87</td>\n",
       "      <td>21.0</td>\n",
       "      <td>8.331345</td>\n",
       "      <td>6.926577</td>\n",
       "      <td>7.628031</td>\n",
       "      <td>6.830874</td>\n",
       "      <td>4.9821</td>\n",
       "      <td>&lt;1H OCEAN</td>\n",
       "      <td>292900.0</td>\n",
       "    </tr>\n",
       "    <tr>\n",
       "      <th>18141</th>\n",
       "      <td>-122.05</td>\n",
       "      <td>37.34</td>\n",
       "      <td>34.0</td>\n",
       "      <td>7.830426</td>\n",
       "      <td>5.996452</td>\n",
       "      <td>6.984716</td>\n",
       "      <td>5.991465</td>\n",
       "      <td>7.7865</td>\n",
       "      <td>&lt;1H OCEAN</td>\n",
       "      <td>423900.0</td>\n",
       "    </tr>\n",
       "    <tr>\n",
       "      <th>14827</th>\n",
       "      <td>-117.09</td>\n",
       "      <td>32.66</td>\n",
       "      <td>37.0</td>\n",
       "      <td>7.117206</td>\n",
       "      <td>5.802118</td>\n",
       "      <td>6.991177</td>\n",
       "      <td>5.802118</td>\n",
       "      <td>1.6389</td>\n",
       "      <td>NEAR OCEAN</td>\n",
       "      <td>114300.0</td>\n",
       "    </tr>\n",
       "    <tr>\n",
       "      <th>7652</th>\n",
       "      <td>-118.27</td>\n",
       "      <td>33.83</td>\n",
       "      <td>28.0</td>\n",
       "      <td>7.674617</td>\n",
       "      <td>6.030685</td>\n",
       "      <td>7.392648</td>\n",
       "      <td>6.063785</td>\n",
       "      <td>4.3500</td>\n",
       "      <td>&lt;1H OCEAN</td>\n",
       "      <td>200500.0</td>\n",
       "    </tr>\n",
       "  </tbody>\n",
       "</table>\n",
       "<p>16346 rows × 10 columns</p>\n",
       "</div>"
      ],
      "text/plain": [
       "       longitude  latitude  housing_median_age  total_rooms  total_bedrooms  \\\n",
       "7056     -118.03     33.92                35.0     7.653969        6.006353   \n",
       "19098    -122.62     38.24                33.0     7.222566        5.638355   \n",
       "7838     -118.17     33.90                12.0     8.203578        6.901737   \n",
       "3832     -118.44     34.20                36.0     7.900637        6.436150   \n",
       "7291     -118.22     33.98                18.0     7.485492        6.641182   \n",
       "...          ...       ...                 ...          ...             ...   \n",
       "15806    -122.44     37.76                52.0     7.585281        6.159095   \n",
       "8614     -118.38     33.87                21.0     8.331345        6.926577   \n",
       "18141    -122.05     37.34                34.0     7.830426        5.996452   \n",
       "14827    -117.09     32.66                37.0     7.117206        5.802118   \n",
       "7652     -118.27     33.83                28.0     7.674617        6.030685   \n",
       "\n",
       "       population  households  median_income ocean_proximity  \\\n",
       "7056     7.126087    5.978886         3.6731       <1H OCEAN   \n",
       "19098    6.632002    5.509388         4.0341       <1H OCEAN   \n",
       "7838     8.075894    6.751101         2.8681       <1H OCEAN   \n",
       "3832     7.342779    6.318968         2.7375       <1H OCEAN   \n",
       "7291     7.556951    6.555357         1.2059       <1H OCEAN   \n",
       "...           ...         ...            ...             ...   \n",
       "15806    6.665684    6.066108         3.3702        NEAR BAY   \n",
       "8614     7.628031    6.830874         4.9821       <1H OCEAN   \n",
       "18141    6.984716    5.991465         7.7865       <1H OCEAN   \n",
       "14827    6.991177    5.802118         1.6389      NEAR OCEAN   \n",
       "7652     7.392648    6.063785         4.3500       <1H OCEAN   \n",
       "\n",
       "       median_house_value  \n",
       "7056             167000.0  \n",
       "19098            156500.0  \n",
       "7838             114200.0  \n",
       "3832             234900.0  \n",
       "7291             255000.0  \n",
       "...                   ...  \n",
       "15806            370000.0  \n",
       "8614             292900.0  \n",
       "18141            423900.0  \n",
       "14827            114300.0  \n",
       "7652             200500.0  \n",
       "\n",
       "[16346 rows x 10 columns]"
      ]
     },
     "execution_count": 14,
     "metadata": {},
     "output_type": "execute_result"
    }
   ],
   "source": [
    "train_data"
   ]
  },
  {
   "cell_type": "code",
   "execution_count": 15,
   "id": "d75438fa",
   "metadata": {
    "execution": {
     "iopub.execute_input": "2024-02-24T10:21:43.146665Z",
     "iopub.status.busy": "2024-02-24T10:21:43.146299Z",
     "iopub.status.idle": "2024-02-24T10:21:44.487413Z",
     "shell.execute_reply": "2024-02-24T10:21:44.486006Z"
    },
    "papermill": {
     "duration": 1.354167,
     "end_time": "2024-02-24T10:21:44.489808",
     "exception": true,
     "start_time": "2024-02-24T10:21:43.135641",
     "status": "failed"
    },
    "tags": []
   },
   "outputs": [
    {
     "ename": "KeyError",
     "evalue": "'ocean_proximity'",
     "output_type": "error",
     "traceback": [
      "\u001b[0;31m---------------------------------------------------------------------------\u001b[0m",
      "\u001b[0;31mKeyError\u001b[0m                                  Traceback (most recent call last)",
      "File \u001b[0;32m/opt/conda/lib/python3.10/site-packages/pandas/core/indexes/base.py:3802\u001b[0m, in \u001b[0;36mIndex.get_loc\u001b[0;34m(self, key)\u001b[0m\n\u001b[1;32m   3801\u001b[0m \u001b[38;5;28;01mtry\u001b[39;00m:\n\u001b[0;32m-> 3802\u001b[0m     \u001b[38;5;28;01mreturn\u001b[39;00m \u001b[38;5;28;43mself\u001b[39;49m\u001b[38;5;241;43m.\u001b[39;49m\u001b[43m_engine\u001b[49m\u001b[38;5;241;43m.\u001b[39;49m\u001b[43mget_loc\u001b[49m\u001b[43m(\u001b[49m\u001b[43mcasted_key\u001b[49m\u001b[43m)\u001b[49m\n\u001b[1;32m   3803\u001b[0m \u001b[38;5;28;01mexcept\u001b[39;00m \u001b[38;5;167;01mKeyError\u001b[39;00m \u001b[38;5;28;01mas\u001b[39;00m err:\n",
      "File \u001b[0;32mindex.pyx:153\u001b[0m, in \u001b[0;36mpandas._libs.index.IndexEngine.get_loc\u001b[0;34m()\u001b[0m\n",
      "File \u001b[0;32mindex.pyx:182\u001b[0m, in \u001b[0;36mpandas._libs.index.IndexEngine.get_loc\u001b[0;34m()\u001b[0m\n",
      "File \u001b[0;32mpandas/_libs/hashtable_class_helper.pxi:7081\u001b[0m, in \u001b[0;36mpandas._libs.hashtable.PyObjectHashTable.get_item\u001b[0;34m()\u001b[0m\n",
      "File \u001b[0;32mpandas/_libs/hashtable_class_helper.pxi:7089\u001b[0m, in \u001b[0;36mpandas._libs.hashtable.PyObjectHashTable.get_item\u001b[0;34m()\u001b[0m\n",
      "\u001b[0;31mKeyError\u001b[0m: 'ocean_proximity'",
      "\nThe above exception was the direct cause of the following exception:\n",
      "\u001b[0;31mKeyError\u001b[0m                                  Traceback (most recent call last)",
      "Cell \u001b[0;32mIn[15], line 9\u001b[0m\n\u001b[1;32m      6\u001b[0m train_data \u001b[38;5;241m=\u001b[39m train_data\u001b[38;5;241m.\u001b[39mjoin(pd\u001b[38;5;241m.\u001b[39mget_dummies(train_data[\u001b[38;5;124m'\u001b[39m\u001b[38;5;124mocean_proximity\u001b[39m\u001b[38;5;124m'\u001b[39m]))\u001b[38;5;241m.\u001b[39mdrop([\u001b[38;5;124m'\u001b[39m\u001b[38;5;124mocean_proximity\u001b[39m\u001b[38;5;124m'\u001b[39m], axis\u001b[38;5;241m=\u001b[39m\u001b[38;5;241m1\u001b[39m)\n\u001b[1;32m      8\u001b[0m \u001b[38;5;66;03m# Replace boolean values with integers explicitly without triggering the warning\u001b[39;00m\n\u001b[0;32m----> 9\u001b[0m train_data[\u001b[38;5;124m'\u001b[39m\u001b[38;5;124mocean_proximity\u001b[39m\u001b[38;5;124m'\u001b[39m] \u001b[38;5;241m=\u001b[39m \u001b[43mtrain_data\u001b[49m\u001b[43m[\u001b[49m\u001b[38;5;124;43m'\u001b[39;49m\u001b[38;5;124;43mocean_proximity\u001b[39;49m\u001b[38;5;124;43m'\u001b[39;49m\u001b[43m]\u001b[49m\u001b[38;5;241m.\u001b[39mreplace({\u001b[38;5;28;01mTrue\u001b[39;00m: \u001b[38;5;241m1\u001b[39m, \u001b[38;5;28;01mFalse\u001b[39;00m: \u001b[38;5;241m0\u001b[39m})\n\u001b[1;32m     10\u001b[0m train_data \u001b[38;5;241m=\u001b[39m train_data\u001b[38;5;241m.\u001b[39minfer_objects(copy\u001b[38;5;241m=\u001b[39m\u001b[38;5;28;01mFalse\u001b[39;00m)\n",
      "File \u001b[0;32m/opt/conda/lib/python3.10/site-packages/pandas/core/frame.py:4090\u001b[0m, in \u001b[0;36mDataFrame.__getitem__\u001b[0;34m(self, key)\u001b[0m\n\u001b[1;32m   4088\u001b[0m \u001b[38;5;28;01mif\u001b[39;00m \u001b[38;5;28mself\u001b[39m\u001b[38;5;241m.\u001b[39mcolumns\u001b[38;5;241m.\u001b[39mnlevels \u001b[38;5;241m>\u001b[39m \u001b[38;5;241m1\u001b[39m:\n\u001b[1;32m   4089\u001b[0m     \u001b[38;5;28;01mreturn\u001b[39;00m \u001b[38;5;28mself\u001b[39m\u001b[38;5;241m.\u001b[39m_getitem_multilevel(key)\n\u001b[0;32m-> 4090\u001b[0m indexer \u001b[38;5;241m=\u001b[39m \u001b[38;5;28;43mself\u001b[39;49m\u001b[38;5;241;43m.\u001b[39;49m\u001b[43mcolumns\u001b[49m\u001b[38;5;241;43m.\u001b[39;49m\u001b[43mget_loc\u001b[49m\u001b[43m(\u001b[49m\u001b[43mkey\u001b[49m\u001b[43m)\u001b[49m\n\u001b[1;32m   4091\u001b[0m \u001b[38;5;28;01mif\u001b[39;00m is_integer(indexer):\n\u001b[1;32m   4092\u001b[0m     indexer \u001b[38;5;241m=\u001b[39m [indexer]\n",
      "File \u001b[0;32m/opt/conda/lib/python3.10/site-packages/pandas/core/indexes/base.py:3809\u001b[0m, in \u001b[0;36mIndex.get_loc\u001b[0;34m(self, key)\u001b[0m\n\u001b[1;32m   3804\u001b[0m     \u001b[38;5;28;01mif\u001b[39;00m \u001b[38;5;28misinstance\u001b[39m(casted_key, \u001b[38;5;28mslice\u001b[39m) \u001b[38;5;129;01mor\u001b[39;00m (\n\u001b[1;32m   3805\u001b[0m         \u001b[38;5;28misinstance\u001b[39m(casted_key, abc\u001b[38;5;241m.\u001b[39mIterable)\n\u001b[1;32m   3806\u001b[0m         \u001b[38;5;129;01mand\u001b[39;00m \u001b[38;5;28many\u001b[39m(\u001b[38;5;28misinstance\u001b[39m(x, \u001b[38;5;28mslice\u001b[39m) \u001b[38;5;28;01mfor\u001b[39;00m x \u001b[38;5;129;01min\u001b[39;00m casted_key)\n\u001b[1;32m   3807\u001b[0m     ):\n\u001b[1;32m   3808\u001b[0m         \u001b[38;5;28;01mraise\u001b[39;00m InvalidIndexError(key)\n\u001b[0;32m-> 3809\u001b[0m     \u001b[38;5;28;01mraise\u001b[39;00m \u001b[38;5;167;01mKeyError\u001b[39;00m(key) \u001b[38;5;28;01mfrom\u001b[39;00m \u001b[38;5;21;01merr\u001b[39;00m\n\u001b[1;32m   3810\u001b[0m \u001b[38;5;28;01mexcept\u001b[39;00m \u001b[38;5;167;01mTypeError\u001b[39;00m:\n\u001b[1;32m   3811\u001b[0m     \u001b[38;5;66;03m# If we have a listlike key, _check_indexing_error will raise\u001b[39;00m\n\u001b[1;32m   3812\u001b[0m     \u001b[38;5;66;03m#  InvalidIndexError. Otherwise we fall through and re-raise\u001b[39;00m\n\u001b[1;32m   3813\u001b[0m     \u001b[38;5;66;03m#  the TypeError.\u001b[39;00m\n\u001b[1;32m   3814\u001b[0m     \u001b[38;5;28mself\u001b[39m\u001b[38;5;241m.\u001b[39m_check_indexing_error(key)\n",
      "\u001b[0;31mKeyError\u001b[0m: 'ocean_proximity'"
     ]
    }
   ],
   "source": [
    "import pandas as pd\n",
    "\n",
    "# Assuming train_data is your DataFrame\n",
    "\n",
    "# One-hot encode 'ocean_proximity' and replace boolean values with integers\n",
    "train_data = train_data.join(pd.get_dummies(train_data['ocean_proximity'])).drop(['ocean_proximity'], axis=1)\n",
    "\n",
    "# Replace boolean values with integers explicitly without triggering the warning\n",
    "train_data['ocean_proximity'] = train_data['ocean_proximity'].replace({True: 1, False: 0})\n",
    "train_data = train_data.infer_objects(copy=False)\n"
   ]
  },
  {
   "cell_type": "code",
   "execution_count": null,
   "id": "09ad367f",
   "metadata": {
    "execution": {
     "iopub.execute_input": "2024-02-24T10:10:16.484749Z",
     "iopub.status.busy": "2024-02-24T10:10:16.484199Z",
     "iopub.status.idle": "2024-02-24T10:10:16.504651Z",
     "shell.execute_reply": "2024-02-24T10:10:16.503030Z",
     "shell.execute_reply.started": "2024-02-24T10:10:16.484721Z"
    },
    "papermill": {
     "duration": null,
     "end_time": null,
     "exception": null,
     "start_time": null,
     "status": "pending"
    },
    "tags": []
   },
   "outputs": [],
   "source": [
    "train_data"
   ]
  },
  {
   "cell_type": "code",
   "execution_count": null,
   "id": "c63be17e",
   "metadata": {
    "execution": {
     "iopub.execute_input": "2024-02-24T10:10:20.234247Z",
     "iopub.status.busy": "2024-02-24T10:10:20.233545Z",
     "iopub.status.idle": "2024-02-24T10:10:20.241376Z",
     "shell.execute_reply": "2024-02-24T10:10:20.240003Z",
     "shell.execute_reply.started": "2024-02-24T10:10:20.234216Z"
    },
    "papermill": {
     "duration": null,
     "end_time": null,
     "exception": null,
     "start_time": null,
     "status": "pending"
    },
    "tags": []
   },
   "outputs": [],
   "source": [
    "train_data.columns"
   ]
  },
  {
   "cell_type": "code",
   "execution_count": null,
   "id": "aa921c54",
   "metadata": {
    "execution": {
     "iopub.execute_input": "2024-02-24T10:10:23.730045Z",
     "iopub.status.busy": "2024-02-24T10:10:23.728594Z",
     "iopub.status.idle": "2024-02-24T10:10:23.738799Z",
     "shell.execute_reply": "2024-02-24T10:10:23.737049Z",
     "shell.execute_reply.started": "2024-02-24T10:10:23.730000Z"
    },
    "papermill": {
     "duration": null,
     "end_time": null,
     "exception": null,
     "start_time": null,
     "status": "pending"
    },
    "tags": []
   },
   "outputs": [],
   "source": [
    "train_data['bedroom_ratio'] = train_data['total_bedrooms'] / train_data['total_rooms']\n",
    "train_data['household_rooms'] = train_data['total_rooms'] / train_data['households']"
   ]
  },
  {
   "cell_type": "code",
   "execution_count": null,
   "id": "6af84954",
   "metadata": {
    "execution": {
     "iopub.execute_input": "2024-02-24T10:10:27.334312Z",
     "iopub.status.busy": "2024-02-24T10:10:27.333633Z",
     "iopub.status.idle": "2024-02-24T10:10:27.353972Z",
     "shell.execute_reply": "2024-02-24T10:10:27.353063Z",
     "shell.execute_reply.started": "2024-02-24T10:10:27.334284Z"
    },
    "papermill": {
     "duration": null,
     "end_time": null,
     "exception": null,
     "start_time": null,
     "status": "pending"
    },
    "tags": []
   },
   "outputs": [],
   "source": [
    "train_data"
   ]
  },
  {
   "cell_type": "code",
   "execution_count": null,
   "id": "d1da7531",
   "metadata": {
    "execution": {
     "iopub.execute_input": "2024-02-24T10:10:35.614423Z",
     "iopub.status.busy": "2024-02-24T10:10:35.613810Z",
     "iopub.status.idle": "2024-02-24T10:10:35.641321Z",
     "shell.execute_reply": "2024-02-24T10:10:35.640114Z",
     "shell.execute_reply.started": "2024-02-24T10:10:35.614393Z"
    },
    "papermill": {
     "duration": null,
     "end_time": null,
     "exception": null,
     "start_time": null,
     "status": "pending"
    },
    "tags": []
   },
   "outputs": [],
   "source": [
    "from sklearn.linear_model import LinearRegression\n",
    "from sklearn.preprocessing import StandardScaler\n",
    "\n",
    "scaler = StandardScaler()\n",
    "X_train , y_train = train_data.drop(['median_house_value'], axis = 1) , train_data['median_house_value']\n",
    "X_train_s = scaler.fit_transform(X_train)\n",
    "reg = LinearRegression()\n",
    "reg.fit(X_train , y_train)"
   ]
  },
  {
   "cell_type": "code",
   "execution_count": null,
   "id": "53581de7",
   "metadata": {
    "execution": {
     "iopub.execute_input": "2024-02-24T10:10:50.705802Z",
     "iopub.status.busy": "2024-02-24T10:10:50.705114Z",
     "iopub.status.idle": "2024-02-24T10:10:50.730954Z",
     "shell.execute_reply": "2024-02-24T10:10:50.729338Z",
     "shell.execute_reply.started": "2024-02-24T10:10:50.705757Z"
    },
    "papermill": {
     "duration": null,
     "end_time": null,
     "exception": null,
     "start_time": null,
     "status": "pending"
    },
    "tags": []
   },
   "outputs": [],
   "source": [
    "test_data"
   ]
  },
  {
   "cell_type": "code",
   "execution_count": null,
   "id": "b69c076c",
   "metadata": {
    "execution": {
     "iopub.execute_input": "2024-02-24T10:10:58.213509Z",
     "iopub.status.busy": "2024-02-24T10:10:58.213168Z",
     "iopub.status.idle": "2024-02-24T10:10:58.221118Z",
     "shell.execute_reply": "2024-02-24T10:10:58.219916Z",
     "shell.execute_reply.started": "2024-02-24T10:10:58.213482Z"
    },
    "papermill": {
     "duration": null,
     "end_time": null,
     "exception": null,
     "start_time": null,
     "status": "pending"
    },
    "tags": []
   },
   "outputs": [],
   "source": [
    "test_data.columns\n"
   ]
  },
  {
   "cell_type": "code",
   "execution_count": null,
   "id": "b0fdda30",
   "metadata": {
    "execution": {
     "iopub.execute_input": "2024-02-24T10:15:26.504427Z",
     "iopub.status.busy": "2024-02-24T10:15:26.503885Z",
     "iopub.status.idle": "2024-02-24T10:15:26.522286Z",
     "shell.execute_reply": "2024-02-24T10:15:26.520667Z",
     "shell.execute_reply.started": "2024-02-24T10:15:26.504394Z"
    },
    "papermill": {
     "duration": null,
     "end_time": null,
     "exception": null,
     "start_time": null,
     "status": "pending"
    },
    "tags": []
   },
   "outputs": [],
   "source": [
    "import numpy as np\n",
    "import pandas as pd\n",
    "\n",
    "# Assuming X_test and y_test are your features and target variables respectively\n",
    "\n",
    "test_data = X_test.join(y_test)\n",
    "test_data['total_rooms'] = np.log(test_data['total_rooms'] + 1)\n",
    "test_data['total_bedrooms'] = np.log(test_data['total_bedrooms'] + 1)\n",
    "test_data['population'] = np.log(test_data['population'] + 1)\n",
    "test_data['households'] = np.log(test_data['households'] + 1)\n",
    "\n",
    "# One-hot encode 'ocean_proximity' and replace boolean values with integers\n",
    "test_data = test_data.join(pd.get_dummies(test_data['ocean_proximity'])).drop(['ocean_proximity'], axis=1)\n",
    "\n",
    "# Replace boolean values with integers explicitly to avoid future warning\n",
    "test_data['ocean_proximity'] = test_data['ocean_proximity'].replace({True: 1, False: 0})\n",
    "\n",
    "# Use .infer_objects() to ensure correct data types without future warning\n",
    "test_data = test_data.infer_objects()\n",
    "\n",
    "# Calculate new features\n",
    "test_data['bedroom_ratio'] = test_data['total_bedrooms'] / test_data['total_rooms']\n",
    "test_data['household_rooms'] = test_data['total_rooms'] / test_data['households']\n",
    "\n",
    "# Optionally, you can create a DataFrame df for visualization or further processing\n",
    "df = pd.DataFrame(test_data)\n",
    "\n",
    "# Ensure to assign the updated DataFrame back if you want to keep the changes\n",
    "# test_data = test_data.join(pd.get_dummies(test_data['ocean_proximity'])).drop(['ocean_proximity'], axis=1)\n",
    "# df = df.replace({True: 1, False: 0})\n",
    "\n"
   ]
  },
  {
   "cell_type": "code",
   "execution_count": null,
   "id": "9bf8b9df",
   "metadata": {
    "execution": {
     "iopub.execute_input": "2024-02-24T10:15:30.208804Z",
     "iopub.status.busy": "2024-02-24T10:15:30.208202Z",
     "iopub.status.idle": "2024-02-24T10:15:30.235015Z",
     "shell.execute_reply": "2024-02-24T10:15:30.233346Z",
     "shell.execute_reply.started": "2024-02-24T10:15:30.208772Z"
    },
    "papermill": {
     "duration": null,
     "end_time": null,
     "exception": null,
     "start_time": null,
     "status": "pending"
    },
    "tags": []
   },
   "outputs": [],
   "source": [
    "test_data"
   ]
  },
  {
   "cell_type": "code",
   "execution_count": null,
   "id": "5d9af304",
   "metadata": {
    "execution": {
     "iopub.execute_input": "2024-02-24T10:11:23.414064Z",
     "iopub.status.busy": "2024-02-24T10:11:23.413645Z",
     "iopub.status.idle": "2024-02-24T10:11:23.420072Z",
     "shell.execute_reply": "2024-02-24T10:11:23.419012Z",
     "shell.execute_reply.started": "2024-02-24T10:11:23.414036Z"
    },
    "papermill": {
     "duration": null,
     "end_time": null,
     "exception": null,
     "start_time": null,
     "status": "pending"
    },
    "tags": []
   },
   "outputs": [],
   "source": [
    "X_test , y_test = test_data.drop(['median_house_value'] , axis = 1) , test_data['median_house_value']"
   ]
  },
  {
   "cell_type": "code",
   "execution_count": null,
   "id": "e3fec328",
   "metadata": {
    "execution": {
     "iopub.execute_input": "2024-02-24T10:11:25.148910Z",
     "iopub.status.busy": "2024-02-24T10:11:25.148535Z",
     "iopub.status.idle": "2024-02-24T10:11:25.170595Z",
     "shell.execute_reply": "2024-02-24T10:11:25.169049Z",
     "shell.execute_reply.started": "2024-02-24T10:11:25.148882Z"
    },
    "papermill": {
     "duration": null,
     "end_time": null,
     "exception": null,
     "start_time": null,
     "status": "pending"
    },
    "tags": []
   },
   "outputs": [],
   "source": [
    "test_data"
   ]
  },
  {
   "cell_type": "code",
   "execution_count": null,
   "id": "a6ad9e31",
   "metadata": {
    "execution": {
     "iopub.execute_input": "2024-02-24T10:15:43.073742Z",
     "iopub.status.busy": "2024-02-24T10:15:43.073347Z",
     "iopub.status.idle": "2024-02-24T10:15:43.139361Z",
     "shell.execute_reply": "2024-02-24T10:15:43.137815Z",
     "shell.execute_reply.started": "2024-02-24T10:15:43.073714Z"
    },
    "papermill": {
     "duration": null,
     "end_time": null,
     "exception": null,
     "start_time": null,
     "status": "pending"
    },
    "tags": []
   },
   "outputs": [],
   "source": [
    "X_test_s = scaler.transform(X_test)"
   ]
  },
  {
   "cell_type": "code",
   "execution_count": null,
   "id": "5cb282eb",
   "metadata": {
    "execution": {
     "iopub.execute_input": "2024-02-24T10:15:47.948899Z",
     "iopub.status.busy": "2024-02-24T10:15:47.948456Z",
     "iopub.status.idle": "2024-02-24T10:15:47.959106Z",
     "shell.execute_reply": "2024-02-24T10:15:47.956835Z",
     "shell.execute_reply.started": "2024-02-24T10:15:47.948860Z"
    },
    "papermill": {
     "duration": null,
     "end_time": null,
     "exception": null,
     "start_time": null,
     "status": "pending"
    },
    "tags": []
   },
   "outputs": [],
   "source": [
    "X_test.columns"
   ]
  },
  {
   "cell_type": "code",
   "execution_count": null,
   "id": "5b96706c",
   "metadata": {
    "execution": {
     "iopub.execute_input": "2024-02-24T10:11:48.094620Z",
     "iopub.status.busy": "2024-02-24T10:11:48.094254Z",
     "iopub.status.idle": "2024-02-24T10:11:48.127173Z",
     "shell.execute_reply": "2024-02-24T10:11:48.125339Z",
     "shell.execute_reply.started": "2024-02-24T10:11:48.094594Z"
    },
    "papermill": {
     "duration": null,
     "end_time": null,
     "exception": null,
     "start_time": null,
     "status": "pending"
    },
    "tags": []
   },
   "outputs": [],
   "source": [
    " y_test.columns"
   ]
  },
  {
   "cell_type": "code",
   "execution_count": null,
   "id": "8decf621",
   "metadata": {
    "execution": {
     "iopub.execute_input": "2024-02-24T10:11:51.209452Z",
     "iopub.status.busy": "2024-02-24T10:11:51.209068Z",
     "iopub.status.idle": "2024-02-24T10:11:51.243288Z",
     "shell.execute_reply": "2024-02-24T10:11:51.240672Z",
     "shell.execute_reply.started": "2024-02-24T10:11:51.209427Z"
    },
    "papermill": {
     "duration": null,
     "end_time": null,
     "exception": null,
     "start_time": null,
     "status": "pending"
    },
    "tags": []
   },
   "outputs": [],
   "source": [
    "reg.score(X_test_s , y_test)"
   ]
  },
  {
   "cell_type": "code",
   "execution_count": null,
   "id": "4a3c1088",
   "metadata": {
    "execution": {
     "iopub.execute_input": "2024-02-24T10:15:56.183906Z",
     "iopub.status.busy": "2024-02-24T10:15:56.183452Z",
     "iopub.status.idle": "2024-02-24T10:15:56.211410Z",
     "shell.execute_reply": "2024-02-24T10:15:56.209856Z",
     "shell.execute_reply.started": "2024-02-24T10:15:56.183872Z"
    },
    "papermill": {
     "duration": null,
     "end_time": null,
     "exception": null,
     "start_time": null,
     "status": "pending"
    },
    "tags": []
   },
   "outputs": [],
   "source": [
    "test_data"
   ]
  },
  {
   "cell_type": "code",
   "execution_count": null,
   "id": "77517d72",
   "metadata": {
    "execution": {
     "iopub.execute_input": "2024-02-24T10:12:08.710062Z",
     "iopub.status.busy": "2024-02-24T10:12:08.708960Z",
     "iopub.status.idle": "2024-02-24T10:12:22.228025Z",
     "shell.execute_reply": "2024-02-24T10:12:22.226858Z",
     "shell.execute_reply.started": "2024-02-24T10:12:08.710025Z"
    },
    "papermill": {
     "duration": null,
     "end_time": null,
     "exception": null,
     "start_time": null,
     "status": "pending"
    },
    "tags": []
   },
   "outputs": [],
   "source": [
    "from sklearn.ensemble import RandomForestRegressor\n",
    "forest = RandomForestRegressor()\n",
    "\n",
    "forest.fit(X_train , y_train)"
   ]
  },
  {
   "cell_type": "code",
   "execution_count": null,
   "id": "3b5ea8bc",
   "metadata": {
    "execution": {
     "iopub.execute_input": "2024-02-24T10:16:33.014355Z",
     "iopub.status.busy": "2024-02-24T10:16:33.013971Z",
     "iopub.status.idle": "2024-02-24T10:16:33.095263Z",
     "shell.execute_reply": "2024-02-24T10:16:33.092984Z",
     "shell.execute_reply.started": "2024-02-24T10:16:33.014327Z"
    },
    "papermill": {
     "duration": null,
     "end_time": null,
     "exception": null,
     "start_time": null,
     "status": "pending"
    },
    "tags": []
   },
   "outputs": [],
   "source": [
    "forest.score(X_test , y_test)"
   ]
  }
 ],
 "metadata": {
  "kaggle": {
   "accelerator": "none",
   "dataSources": [
    {
     "datasetId": 4463961,
     "sourceId": 7656431,
     "sourceType": "datasetVersion"
    }
   ],
   "dockerImageVersionId": 30646,
   "isGpuEnabled": false,
   "isInternetEnabled": false,
   "language": "python",
   "sourceType": "notebook"
  },
  "kernelspec": {
   "display_name": "Python 3",
   "language": "python",
   "name": "python3"
  },
  "language_info": {
   "codemirror_mode": {
    "name": "ipython",
    "version": 3
   },
   "file_extension": ".py",
   "mimetype": "text/x-python",
   "name": "python",
   "nbconvert_exporter": "python",
   "pygments_lexer": "ipython3",
   "version": "3.10.13"
  },
  "papermill": {
   "default_parameters": {},
   "duration": 9.090367,
   "end_time": "2024-02-24T10:21:45.420934",
   "environment_variables": {},
   "exception": true,
   "input_path": "__notebook__.ipynb",
   "output_path": "__notebook__.ipynb",
   "parameters": {},
   "start_time": "2024-02-24T10:21:36.330567",
   "version": "2.5.0"
  }
 },
 "nbformat": 4,
 "nbformat_minor": 5
}
